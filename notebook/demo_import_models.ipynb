{
 "cells": [
  {
   "cell_type": "code",
   "execution_count": 1,
   "metadata": {
    "collapsed": false
   },
   "outputs": [],
   "source": [
    "%load_ext autoreload\n",
    "%autoreload 2"
   ]
  },
  {
   "cell_type": "code",
   "execution_count": 2,
   "metadata": {
    "collapsed": false
   },
   "outputs": [],
   "source": [
    "import pint"
   ]
  },
  {
   "cell_type": "code",
   "execution_count": 3,
   "metadata": {
    "collapsed": false
   },
   "outputs": [
    {
     "name": "stdout",
     "output_type": "stream",
     "text": [
      "Downloading 'http://ginsim.org/sites/default/files/drosophilaCellCycleVariants.zginml' to 'gen/pinty_r57fmrdrosophilaCellCycleVariants.zginml'\n",
      "Source file is in zginml format, importing with logicalmodel\n",
      "Invoking GINsim...\n",
      "Simplifying model...\n"
     ]
    },
    {
     "data": {
      "text/html": [
       "<a href='gen/pint4o58tk99drosophilaCellCycleVariants.an' target='_blank'>gen/pint4o58tk99drosophilaCellCycleVariants.an</a><br>"
      ],
      "text/plain": [
       "/home/pauleve/rech/pint/notebook/gen/pint4o58tk99drosophilaCellCycleVariants.an"
      ]
     },
     "metadata": {},
     "output_type": "display_data"
    },
    {
     "name": "stdout",
     "output_type": "stream",
     "text": [
      "6 state(s) have been registered: Ago_Endocycle, NoCycD_Endocycle, Endocycle_init, G0, Cycle_Init, Syncytial_Cycles\n"
     ]
    }
   ],
   "source": [
    "m = pint.load(\"http://ginsim.org/sites/default/files/drosophilaCellCycleVariants.zginml\")"
   ]
  },
  {
   "cell_type": "code",
   "execution_count": 4,
   "metadata": {
    "collapsed": false
   },
   "outputs": [],
   "source": [
    "m.initial_state = m.named_states[\"NoCycD_Endocycle\"]"
   ]
  },
  {
   "cell_type": "code",
   "execution_count": 5,
   "metadata": {
    "collapsed": false
   },
   "outputs": [
    {
     "data": {
      "text/plain": [
       "{'Dap': 1, 'Fzr': 1, 'Notch': 1, 'Rb': 1, 'Rux': 1}"
      ]
     },
     "execution_count": 5,
     "metadata": {},
     "output_type": "execute_result"
    }
   ],
   "source": [
    "m.initial_state.changes()"
   ]
  },
  {
   "cell_type": "code",
   "execution_count": 6,
   "metadata": {
    "collapsed": false
   },
   "outputs": [
    {
     "data": {
      "text/plain": [
       "{'Ago': 0,\n",
       " 'CycA': 0,\n",
       " 'CycB': 0,\n",
       " 'CycD': 0,\n",
       " 'CycE': 0,\n",
       " 'Dap': 1,\n",
       " 'E2F': 0,\n",
       " 'Fzr': 1,\n",
       " 'Fzy': 0,\n",
       " 'Notch': 1,\n",
       " 'Rb': 1,\n",
       " 'Rux': 1,\n",
       " 'Stg': 0,\n",
       " 'Wee1': 0}"
      ]
     },
     "execution_count": 6,
     "metadata": {},
     "output_type": "execute_result"
    }
   ],
   "source": [
    "m.initial_state"
   ]
  },
  {
   "cell_type": "code",
   "execution_count": null,
   "metadata": {
    "collapsed": true
   },
   "outputs": [],
   "source": []
  }
 ],
 "metadata": {
  "kernelspec": {
   "display_name": "Python 3",
   "language": "python",
   "name": "python3"
  },
  "language_info": {
   "codemirror_mode": {
    "name": "ipython",
    "version": 3
   },
   "file_extension": ".py",
   "mimetype": "text/x-python",
   "name": "python",
   "nbconvert_exporter": "python",
   "pygments_lexer": "ipython3",
   "version": "3.5.2"
  }
 },
 "nbformat": 4,
 "nbformat_minor": 1
}
