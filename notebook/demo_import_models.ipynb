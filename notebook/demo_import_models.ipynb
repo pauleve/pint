{
 "cells": [
  {
   "cell_type": "code",
   "execution_count": 1,
   "metadata": {
    "collapsed": false
   },
   "outputs": [],
   "source": [
    "%load_ext autoreload\n",
    "%autoreload 2"
   ]
  },
  {
   "cell_type": "code",
   "execution_count": 2,
   "metadata": {
    "collapsed": false
   },
   "outputs": [
    {
     "name": "stdout",
     "output_type": "stream",
     "text": [
      "You are using Pint version 2016-09-16\n",
      "\n"
     ]
    }
   ],
   "source": [
    "import pint"
   ]
  },
  {
   "cell_type": "code",
   "execution_count": 3,
   "metadata": {
    "collapsed": false
   },
   "outputs": [
    {
     "name": "stdout",
     "output_type": "stream",
     "text": [
      "Downloading 'http://ginsim.org/sites/default/files/drosophilaCellCycleVariants.zginml' to 'gen/pinty_r57fmrdrosophilaCellCycleVariants.zginml'\n",
      "Source file is in zginml format, importing with logicalmodel\n",
      "Invoking GINsim...\n",
      "Simplifying model...\n"
     ]
    },
    {
     "data": {
      "text/html": [
       "<a href='gen/pint4o58tk99drosophilaCellCycleVariants.an' target='_blank'>gen/pint4o58tk99drosophilaCellCycleVariants.an</a><br>"
      ],
      "text/plain": [
       "/home/pauleve/rech/pint/notebook/gen/pint4o58tk99drosophilaCellCycleVariants.an"
      ]
     },
     "metadata": {},
     "output_type": "display_data"
    },
    {
     "name": "stdout",
     "output_type": "stream",
     "text": [
      "6 state(s) have been registered: Ago_Endocycle, NoCycD_Endocycle, Endocycle_init, G0, Cycle_Init, Syncytial_Cycles\n"
     ]
    }
   ],
   "source": [
    "m = pint.load(\"http://ginsim.org/sites/default/files/drosophilaCellCycleVariants.zginml\")"
   ]
  },
  {
   "cell_type": "code",
   "execution_count": 4,
   "metadata": {
    "collapsed": false
   },
   "outputs": [],
   "source": [
    "m.initial_state = m.named_states[\"NoCycD_Endocycle\"]"
   ]
  },
  {
   "cell_type": "code",
   "execution_count": 5,
   "metadata": {
    "collapsed": false
   },
   "outputs": [
    {
     "data": {
      "text/plain": [
       "{'Dap': 1, 'Fzr': 1, 'Notch': 1, 'Rb': 1, 'Rux': 1}"
      ]
     },
     "execution_count": 5,
     "metadata": {},
     "output_type": "execute_result"
    }
   ],
   "source": [
    "m.initial_state.changes()"
   ]
  },
  {
   "cell_type": "code",
   "execution_count": 6,
   "metadata": {
    "collapsed": false
   },
   "outputs": [
    {
     "data": {
      "text/plain": [
       "{'Ago': 0,\n",
       " 'CycA': 0,\n",
       " 'CycB': 0,\n",
       " 'CycD': 0,\n",
       " 'CycE': 0,\n",
       " 'Dap': 1,\n",
       " 'E2F': 0,\n",
       " 'Fzr': 1,\n",
       " 'Fzy': 0,\n",
       " 'Notch': 1,\n",
       " 'Rb': 1,\n",
       " 'Rux': 1,\n",
       " 'Stg': 0,\n",
       " 'Wee1': 0}"
      ]
     },
     "execution_count": 6,
     "metadata": {},
     "output_type": "execute_result"
    }
   ],
   "source": [
    "m.initial_state"
   ]
  },
  {
   "cell_type": "code",
   "execution_count": 4,
   "metadata": {
    "collapsed": false
   },
   "outputs": [
    {
     "name": "stdout",
     "output_type": "stream",
     "text": [
      "Downloading 'http://api.cellcollective.org/model/export/5128?type=SBML' to 'gen/pints5t2i7ek5128.zip'\n",
      "Source file is in sbml format, importing with logicalmodel\n",
      "Simplifying model...\n"
     ]
    },
    {
     "data": {
      "text/html": [
       "<a href='gen/pintxjdxp8kq5128.an' target='_blank'>gen/pintxjdxp8kq5128.an</a><br>"
      ],
      "text/plain": [
       "/home/pauleve/rech/pint/notebook/gen/pintxjdxp8kq5128.an"
      ]
     },
     "metadata": {},
     "output_type": "display_data"
    }
   ],
   "source": [
    "n = pint.load(\"https://cellcollective.org/#5128/lac-operon\")"
   ]
  },
  {
   "cell_type": "code",
   "execution_count": 5,
   "metadata": {
    "collapsed": false
   },
   "outputs": [
    {
     "data": {
      "text/plain": [
       "{'automata': ['A',\n",
       "  'Am',\n",
       "  'B',\n",
       "  'C',\n",
       "  'Ge',\n",
       "  'L',\n",
       "  'Le',\n",
       "  'Lem',\n",
       "  'Lm',\n",
       "  'M',\n",
       "  'P',\n",
       "  'R',\n",
       "  'Rm'],\n",
       " 'features': [],\n",
       " 'initial_state': {'A': 0,\n",
       "  'Am': 0,\n",
       "  'B': 0,\n",
       "  'C': 0,\n",
       "  'Ge': 0,\n",
       "  'L': 0,\n",
       "  'Le': 0,\n",
       "  'Lem': 0,\n",
       "  'Lm': 0,\n",
       "  'M': 0,\n",
       "  'P': 0,\n",
       "  'R': 0,\n",
       "  'Rm': 0},\n",
       " 'local_states': {'A': [0, 1],\n",
       "  'Am': [0, 1],\n",
       "  'B': [0, 1],\n",
       "  'C': [0, 1],\n",
       "  'Ge': [0, 1],\n",
       "  'L': [0, 1],\n",
       "  'Le': [0, 1],\n",
       "  'Lem': [0, 1],\n",
       "  'Lm': [0, 1],\n",
       "  'M': [0, 1],\n",
       "  'P': [0, 1],\n",
       "  'R': [0, 1],\n",
       "  'Rm': [0, 1]},\n",
       " 'named_local_states': {'A': [0, 1],\n",
       "  'Am': [0, 1],\n",
       "  'B': [0, 1],\n",
       "  'C': [0, 1],\n",
       "  'Ge': [0, 1],\n",
       "  'L': [0, 1],\n",
       "  'Le': [0, 1],\n",
       "  'Lem': [0, 1],\n",
       "  'Lm': [0, 1],\n",
       "  'M': [0, 1],\n",
       "  'P': [0, 1],\n",
       "  'R': [0, 1],\n",
       "  'Rm': [0, 1]}}"
      ]
     },
     "execution_count": 5,
     "metadata": {},
     "output_type": "execute_result"
    }
   ],
   "source": [
    "n.info"
   ]
  },
  {
   "cell_type": "code",
   "execution_count": null,
   "metadata": {
    "collapsed": true
   },
   "outputs": [],
   "source": []
  }
 ],
 "metadata": {
  "kernelspec": {
   "display_name": "Python 3",
   "language": "python",
   "name": "python3"
  },
  "language_info": {
   "codemirror_mode": {
    "name": "ipython",
    "version": 3
   },
   "file_extension": ".py",
   "mimetype": "text/x-python",
   "name": "python",
   "nbconvert_exporter": "python",
   "pygments_lexer": "ipython3",
   "version": "3.5.2"
  }
 },
 "nbformat": 4,
 "nbformat_minor": 1
}
