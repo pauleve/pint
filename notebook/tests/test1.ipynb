{
 "cells": [
  {
   "cell_type": "code",
   "execution_count": 1,
   "metadata": {
    "collapsed": false
   },
   "outputs": [],
   "source": [
    "%load_ext autoreload"
   ]
  },
  {
   "cell_type": "code",
   "execution_count": 2,
   "metadata": {
    "collapsed": true
   },
   "outputs": [],
   "source": [
    "%autoreload 2"
   ]
  },
  {
   "cell_type": "code",
   "execution_count": 5,
   "metadata": {
    "collapsed": false
   },
   "outputs": [],
   "source": [
    "import pint"
   ]
  },
  {
   "cell_type": "code",
   "execution_count": 4,
   "metadata": {
    "collapsed": false
   },
   "outputs": [
    {
     "name": "stdout",
     "output_type": "stream",
     "text": [
      "Source file is in Automata Network (an) format\n"
     ]
    }
   ],
   "source": [
    "m = pint.load(\"../models/ERBB_G1-S.an\")"
   ]
  },
  {
   "cell_type": "code",
   "execution_count": 5,
   "metadata": {
    "collapsed": false
   },
   "outputs": [
    {
     "data": {
      "text/plain": [
       "['AKT1',\n",
       " 'CDK2',\n",
       " 'CDK4',\n",
       " 'CDK6',\n",
       " 'CycD1',\n",
       " 'CycE1',\n",
       " 'EGF',\n",
       " 'ERBB1',\n",
       " 'ERBB1_2',\n",
       " 'ERBB1_3',\n",
       " 'ERBB2',\n",
       " 'ERBB2_3',\n",
       " 'ERBB3',\n",
       " 'ERalpha',\n",
       " 'IGF1R',\n",
       " 'MEK1',\n",
       " 'MYC',\n",
       " 'p21',\n",
       " 'p27',\n",
       " 'pRB']"
      ]
     },
     "execution_count": 5,
     "metadata": {},
     "output_type": "execute_result"
    }
   ],
   "source": [
    "m.automata"
   ]
  },
  {
   "cell_type": "code",
   "execution_count": 6,
   "metadata": {
    "collapsed": false
   },
   "outputs": [
    {
     "name": "stdout",
     "output_type": "stream",
     "text": [
      "# Running command pint-reach --cutsets 5 pRB=1 --no-init-cutsets -i ../models/ERBB_G1-S.an\n"
     ]
    },
    {
     "data": {
      "text/plain": [
       "['\"CDK4\"=1',\n",
       " '\"CDK6\"=1',\n",
       " '\"CycD1\"=1',\n",
       " '\"ERalpha\"=1',\n",
       " '\"MYC\"=1',\n",
       " '\"pRB\"=1',\n",
       " '\"AKT1\"=1,\"MEK1\"=1',\n",
       " '\"ERBB1\"=1,\"ERBB2\"=1,\"IGF1R\"=1',\n",
       " '\"ERBB1\"=1,\"ERBB2_3\"=1,\"IGF1R\"=1',\n",
       " '\"ERBB1\"=1,\"ERBB3\"=1,\"IGF1R\"=1']"
      ]
     },
     "execution_count": 6,
     "metadata": {},
     "output_type": "execute_result"
    }
   ],
   "source": [
    "m.cutsets(\"pRB=1\")"
   ]
  },
  {
   "cell_type": "code",
   "execution_count": null,
   "metadata": {
    "collapsed": false
   },
   "outputs": [],
   "source": []
  },
  {
   "cell_type": "code",
   "execution_count": 7,
   "metadata": {
    "collapsed": false
   },
   "outputs": [
    {
     "data": {
      "text/plain": [
       "{'AKT1': 0,\n",
       " 'CDK2': 0,\n",
       " 'CDK4': 0,\n",
       " 'CDK6': 0,\n",
       " 'CycD1': 0,\n",
       " 'CycE1': 0,\n",
       " 'EGF': 1,\n",
       " 'ERBB1': 0,\n",
       " 'ERBB1_2': 0,\n",
       " 'ERBB1_3': 0,\n",
       " 'ERBB2': 0,\n",
       " 'ERBB2_3': 0,\n",
       " 'ERBB3': 0,\n",
       " 'ERalpha': 0,\n",
       " 'IGF1R': 0,\n",
       " 'MEK1': 0,\n",
       " 'MYC': 0,\n",
       " 'p21': 0,\n",
       " 'p27': 0,\n",
       " 'pRB': 0}"
      ]
     },
     "execution_count": 7,
     "metadata": {},
     "output_type": "execute_result"
    }
   ],
   "source": [
    "m.initial_state"
   ]
  },
  {
   "cell_type": "code",
   "execution_count": 8,
   "metadata": {
    "collapsed": false
   },
   "outputs": [
    {
     "data": {
      "text/plain": [
       "0"
      ]
     },
     "execution_count": 8,
     "metadata": {},
     "output_type": "execute_result"
    }
   ],
   "source": [
    "m.initial_state[\"CDK4\"]"
   ]
  },
  {
   "cell_type": "code",
   "execution_count": 9,
   "metadata": {
    "collapsed": false
   },
   "outputs": [],
   "source": [
    "m.initial_state[\"CDK4\"] = 1"
   ]
  },
  {
   "cell_type": "code",
   "execution_count": 10,
   "metadata": {
    "collapsed": false
   },
   "outputs": [
    {
     "data": {
      "text/plain": [
       "1"
      ]
     },
     "execution_count": 10,
     "metadata": {},
     "output_type": "execute_result"
    }
   ],
   "source": [
    "m.initial_state[\"CDK4\"]"
   ]
  },
  {
   "cell_type": "code",
   "execution_count": 11,
   "metadata": {
    "collapsed": false
   },
   "outputs": [
    {
     "data": {
      "text/plain": [
       "True"
      ]
     },
     "execution_count": 11,
     "metadata": {},
     "output_type": "execute_result"
    }
   ],
   "source": [
    "m.initial_state.is_custom()"
   ]
  },
  {
   "cell_type": "code",
   "execution_count": 12,
   "metadata": {
    "collapsed": false
   },
   "outputs": [
    {
     "data": {
      "text/plain": [
       "'\"CDK4\"=1'"
      ]
     },
     "execution_count": 12,
     "metadata": {},
     "output_type": "execute_result"
    }
   ],
   "source": [
    "m.initial_state.to_pint()"
   ]
  },
  {
   "cell_type": "code",
   "execution_count": 13,
   "metadata": {
    "collapsed": false
   },
   "outputs": [
    {
     "data": {
      "text/plain": [
       "False"
      ]
     },
     "execution_count": 13,
     "metadata": {},
     "output_type": "execute_result"
    }
   ],
   "source": [
    "m.initial_state.reset()\n",
    "m.initial_state.is_custom()"
   ]
  },
  {
   "cell_type": "code",
   "execution_count": 14,
   "metadata": {
    "collapsed": false
   },
   "outputs": [
    {
     "data": {
      "text/plain": [
       "{'AKT1': 0,\n",
       " 'CDK2': 0,\n",
       " 'CDK4': 1,\n",
       " 'CDK6': 0,\n",
       " 'CycD1': 0,\n",
       " 'CycE1': 0,\n",
       " 'EGF': 1,\n",
       " 'ERBB1': 0,\n",
       " 'ERBB1_2': 0,\n",
       " 'ERBB1_3': 0,\n",
       " 'ERBB2': 0,\n",
       " 'ERBB2_3': 0,\n",
       " 'ERBB3': 0,\n",
       " 'ERalpha': 0,\n",
       " 'IGF1R': 0,\n",
       " 'MEK1': 0,\n",
       " 'MYC': 0,\n",
       " 'p21': 0,\n",
       " 'p27': 0,\n",
       " 'pRB': 0}"
      ]
     },
     "execution_count": 14,
     "metadata": {},
     "output_type": "execute_result"
    }
   ],
   "source": [
    "m.initial_state[\"CDK4\"] = 1\n",
    "m.initial_state"
   ]
  },
  {
   "cell_type": "code",
   "execution_count": 15,
   "metadata": {
    "collapsed": false
   },
   "outputs": [
    {
     "data": {
      "text/plain": [
       "{'AKT1': 0,\n",
       " 'CDK2': 0,\n",
       " 'CDK4': 0,\n",
       " 'CDK6': 0,\n",
       " 'CycD1': 0,\n",
       " 'CycE1': 0,\n",
       " 'EGF': 1,\n",
       " 'ERBB1': 0,\n",
       " 'ERBB1_2': 0,\n",
       " 'ERBB1_3': 0,\n",
       " 'ERBB2': 0,\n",
       " 'ERBB2_3': 0,\n",
       " 'ERBB3': 0,\n",
       " 'ERalpha': 0,\n",
       " 'IGF1R': 0,\n",
       " 'MEK1': 0,\n",
       " 'MYC': 0,\n",
       " 'p21': 0,\n",
       " 'p27': 0,\n",
       " 'pRB': 0}"
      ]
     },
     "execution_count": 15,
     "metadata": {},
     "output_type": "execute_result"
    }
   ],
   "source": [
    "m.initial_state.reset()\n",
    "m.initial_state"
   ]
  },
  {
   "cell_type": "code",
   "execution_count": 7,
   "metadata": {
    "collapsed": false
   },
   "outputs": [
    {
     "name": "stdout",
     "output_type": "stream",
     "text": [
      "Source file is in sbml format, importing using logicalmodel\n",
      "Simplifying model...\n"
     ]
    },
    {
     "data": {
      "text/html": [
       "<a href='gen/pint52b8a7ztBladder-30.an' target='_blank'>gen/pint52b8a7ztBladder-30.an</a><br>"
      ],
      "text/plain": [
       "/home/pauleve/rech/pint/notebook/tests/gen/pint52b8a7ztBladder-30.an"
      ]
     },
     "metadata": {},
     "output_type": "display_data"
    }
   ],
   "source": [
    "bladder = pint.load(\"../models/Bladder-30.sbml\")"
   ]
  },
  {
   "cell_type": "code",
   "execution_count": 8,
   "metadata": {
    "collapsed": false
   },
   "outputs": [
    {
     "data": {
      "text/plain": [
       "['AKT',\n",
       " 'ATM',\n",
       " 'Apoptosis',\n",
       " 'CDC25A',\n",
       " 'CHEK1_2',\n",
       " 'CyclinA',\n",
       " 'CyclinD1',\n",
       " 'CyclinE1',\n",
       " 'DNAdamage',\n",
       " 'E2F1',\n",
       " 'E2F3',\n",
       " 'EGFR',\n",
       " 'EGFR_stimulus',\n",
       " 'FGFR3',\n",
       " 'FGFR3_stimulus',\n",
       " 'GRB2',\n",
       " 'GrowthInhibitors',\n",
       " 'Growth_Arrest',\n",
       " 'MDM2',\n",
       " 'PI3K',\n",
       " 'PTEN',\n",
       " 'Proliferation',\n",
       " 'RAS',\n",
       " 'RB1',\n",
       " 'RBL2',\n",
       " 'SPRY',\n",
       " 'TP53',\n",
       " 'p14ARF',\n",
       " 'p16INK4a',\n",
       " 'p21CIP']"
      ]
     },
     "execution_count": 8,
     "metadata": {},
     "output_type": "execute_result"
    }
   ],
   "source": [
    "bladder.automata"
   ]
  },
  {
   "cell_type": "code",
   "execution_count": 13,
   "metadata": {
    "collapsed": false
   },
   "outputs": [
    {
     "name": "stdout",
     "output_type": "stream",
     "text": [
      "# Running command pint-reach --cutsets 5 Apoptosis=1 --no-init-cutsets -i gen/pint52b8a7ztBladder-30.an\n",
      "Goal is not reachable, nothing to cut!\n"
     ]
    }
   ],
   "source": [
    "bladder.cutsets(\"Apoptosis=1\")"
   ]
  },
  {
   "cell_type": "code",
   "execution_count": null,
   "metadata": {
    "collapsed": true
   },
   "outputs": [],
   "source": []
  }
 ],
 "metadata": {
  "kernelspec": {
   "display_name": "Python 3",
   "language": "python",
   "name": "python3"
  },
  "language_info": {
   "codemirror_mode": {
    "name": "ipython",
    "version": 3
   },
   "file_extension": ".py",
   "mimetype": "text/x-python",
   "name": "python",
   "nbconvert_exporter": "python",
   "pygments_lexer": "ipython3",
   "version": "3.5.2"
  }
 },
 "nbformat": 4,
 "nbformat_minor": 1
}
