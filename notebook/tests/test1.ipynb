{
 "cells": [
  {
   "cell_type": "code",
   "execution_count": 1,
   "metadata": {
    "collapsed": false
   },
   "outputs": [],
   "source": [
    "%load_ext autoreload\n",
    "%autoreload 2"
   ]
  },
  {
   "cell_type": "code",
   "execution_count": 2,
   "metadata": {
    "collapsed": false
   },
   "outputs": [
    {
     "data": {
      "text/markdown": [
       "You are using Pint version 2016-12-15\n"
      ],
      "text/plain": [
       "<IPython.core.display.Markdown object>"
      ]
     },
     "metadata": {},
     "output_type": "display_data"
    }
   ],
   "source": [
    "import pint"
   ]
  },
  {
   "cell_type": "code",
   "execution_count": 3,
   "metadata": {
    "collapsed": false
   },
   "outputs": [
    {
     "data": {
      "text/markdown": [
       "Source file is in Automata Network (an) format"
      ],
      "text/plain": [
       "<IPython.core.display.Markdown object>"
      ]
     },
     "metadata": {},
     "output_type": "display_data"
    }
   ],
   "source": [
    "m = pint.load(\"../models/ERBB_G1-S.an\")"
   ]
  },
  {
   "cell_type": "code",
   "execution_count": 4,
   "metadata": {
    "collapsed": false
   },
   "outputs": [
    {
     "data": {
      "text/plain": [
       "['AKT1',\n",
       " 'CDK2',\n",
       " 'CDK4',\n",
       " 'CDK6',\n",
       " 'CycD1',\n",
       " 'CycE1',\n",
       " 'EGF',\n",
       " 'ERBB1',\n",
       " 'ERBB1_2',\n",
       " 'ERBB1_3',\n",
       " 'ERBB2',\n",
       " 'ERBB2_3',\n",
       " 'ERBB3',\n",
       " 'ERalpha',\n",
       " 'IGF1R',\n",
       " 'MEK1',\n",
       " 'MYC',\n",
       " 'p21',\n",
       " 'p27',\n",
       " 'pRB']"
      ]
     },
     "execution_count": 4,
     "metadata": {},
     "output_type": "execute_result"
    }
   ],
   "source": [
    "m.automata"
   ]
  },
  {
   "cell_type": "code",
   "execution_count": 5,
   "metadata": {
    "collapsed": false
   },
   "outputs": [
    {
     "name": "stdout",
     "output_type": "stream",
     "text": [
      "# Running command pint-sg --json-stdout --description -i ../models/ERBB_G1-S.an\n"
     ]
    },
    {
     "data": {
      "text/plain": [
       "{'max_local_states': 2,\n",
       " 'nb_automata': 20,\n",
       " 'nb_local_states': 40,\n",
       " 'nb_states': 1048576,\n",
       " 'nb_transitions': 69}"
      ]
     },
     "execution_count": 5,
     "metadata": {},
     "output_type": "execute_result"
    }
   ],
   "source": [
    "m.summary()"
   ]
  },
  {
   "cell_type": "code",
   "execution_count": 6,
   "metadata": {
    "collapsed": false
   },
   "outputs": [
    {
     "name": "stdout",
     "output_type": "stream",
     "text": [
      "# Running command pint-export --json-stdout -o gen/pintuibkz_0o.an --reduce-for-goal p21=1 --squeeze -i ../models/ERBB_G1-S.an\n"
     ]
    },
    {
     "data": {
      "text/html": [
       "<a href='gen/pintuibkz_0o.an' target='_blank'>gen/pintuibkz_0o.an</a><br>"
      ],
      "text/plain": [
       "/home/pauleve/rech/pint/notebook/tests/gen/pintuibkz_0o.an"
      ]
     },
     "metadata": {},
     "output_type": "display_data"
    }
   ],
   "source": [
    "r = m.reduce(\"p21=1\")"
   ]
  },
  {
   "cell_type": "code",
   "execution_count": 7,
   "metadata": {
    "collapsed": false
   },
   "outputs": [
    {
     "name": "stdout",
     "output_type": "stream",
     "text": [
      "# Running command pint-sg --json-stdout --description -i gen/pintuibkz_0o.an\n"
     ]
    },
    {
     "data": {
      "text/plain": [
       "{'max_local_states': 2,\n",
       " 'nb_automata': 11,\n",
       " 'nb_local_states': 22,\n",
       " 'nb_states': 2048,\n",
       " 'nb_transitions': 32}"
      ]
     },
     "execution_count": 7,
     "metadata": {},
     "output_type": "execute_result"
    }
   ],
   "source": [
    "r.summary()"
   ]
  },
  {
   "cell_type": "code",
   "execution_count": 8,
   "metadata": {
    "collapsed": false
   },
   "outputs": [
    {
     "data": {
      "text/plain": [
       "0"
      ]
     },
     "execution_count": 8,
     "metadata": {},
     "output_type": "execute_result"
    }
   ],
   "source": [
    "m.initial_state[\"CDK4\"]"
   ]
  },
  {
   "cell_type": "code",
   "execution_count": 9,
   "metadata": {
    "collapsed": false
   },
   "outputs": [],
   "source": [
    "m.initial_state[\"CDK4\"] = 1"
   ]
  },
  {
   "cell_type": "code",
   "execution_count": 10,
   "metadata": {
    "collapsed": false
   },
   "outputs": [
    {
     "data": {
      "text/plain": [
       "1"
      ]
     },
     "execution_count": 10,
     "metadata": {},
     "output_type": "execute_result"
    }
   ],
   "source": [
    "m.initial_state[\"CDK4\"]"
   ]
  },
  {
   "cell_type": "code",
   "execution_count": 11,
   "metadata": {
    "collapsed": false
   },
   "outputs": [
    {
     "data": {
      "text/plain": [
       "True"
      ]
     },
     "execution_count": 11,
     "metadata": {},
     "output_type": "execute_result"
    }
   ],
   "source": [
    "m.initial_state.is_custom()"
   ]
  },
  {
   "cell_type": "code",
   "execution_count": 12,
   "metadata": {
    "collapsed": false
   },
   "outputs": [
    {
     "data": {
      "text/plain": [
       "'\"CDK4\"=1'"
      ]
     },
     "execution_count": 12,
     "metadata": {},
     "output_type": "execute_result"
    }
   ],
   "source": [
    "m.initial_state.to_pint()"
   ]
  },
  {
   "cell_type": "code",
   "execution_count": 13,
   "metadata": {
    "collapsed": false
   },
   "outputs": [
    {
     "data": {
      "text/plain": [
       "False"
      ]
     },
     "execution_count": 13,
     "metadata": {},
     "output_type": "execute_result"
    }
   ],
   "source": [
    "m.initial_state.reset()\n",
    "m.initial_state.is_custom()"
   ]
  },
  {
   "cell_type": "code",
   "execution_count": 14,
   "metadata": {
    "collapsed": false
   },
   "outputs": [
    {
     "data": {
      "text/plain": [
       "{'AKT1': 0,\n",
       " 'CDK2': 0,\n",
       " 'CDK4': 1,\n",
       " 'CDK6': 0,\n",
       " 'CycD1': 0,\n",
       " 'CycE1': 0,\n",
       " 'EGF': 1,\n",
       " 'ERBB1': 0,\n",
       " 'ERBB1_2': 0,\n",
       " 'ERBB1_3': 0,\n",
       " 'ERBB2': 0,\n",
       " 'ERBB2_3': 0,\n",
       " 'ERBB3': 0,\n",
       " 'ERalpha': 0,\n",
       " 'IGF1R': 0,\n",
       " 'MEK1': 0,\n",
       " 'MYC': 0,\n",
       " 'p21': 0,\n",
       " 'p27': 0,\n",
       " 'pRB': 0}"
      ]
     },
     "execution_count": 14,
     "metadata": {},
     "output_type": "execute_result"
    }
   ],
   "source": [
    "m.initial_state[\"CDK4\"] = 1\n",
    "m.initial_state"
   ]
  },
  {
   "cell_type": "code",
   "execution_count": 15,
   "metadata": {
    "collapsed": false
   },
   "outputs": [
    {
     "data": {
      "text/plain": [
       "'\"CDK4\"=1'"
      ]
     },
     "execution_count": 15,
     "metadata": {},
     "output_type": "execute_result"
    }
   ],
   "source": [
    "m.initial_state.to_pint()"
   ]
  },
  {
   "cell_type": "code",
   "execution_count": 16,
   "metadata": {
    "collapsed": false
   },
   "outputs": [],
   "source": [
    "s = m.initial_state.having(CDK2=1)"
   ]
  },
  {
   "cell_type": "code",
   "execution_count": 17,
   "metadata": {
    "collapsed": false
   },
   "outputs": [
    {
     "data": {
      "text/plain": [
       "{'AKT1': 0,\n",
       " 'CDK2': 1,\n",
       " 'CDK4': 1,\n",
       " 'CDK6': 0,\n",
       " 'CycD1': 0,\n",
       " 'CycE1': 0,\n",
       " 'EGF': 1,\n",
       " 'ERBB1': 0,\n",
       " 'ERBB1_2': 0,\n",
       " 'ERBB1_3': 0,\n",
       " 'ERBB2': 0,\n",
       " 'ERBB2_3': 0,\n",
       " 'ERBB3': 0,\n",
       " 'ERalpha': 0,\n",
       " 'IGF1R': 0,\n",
       " 'MEK1': 0,\n",
       " 'MYC': 0,\n",
       " 'p21': 0,\n",
       " 'p27': 0,\n",
       " 'pRB': 0}"
      ]
     },
     "execution_count": 17,
     "metadata": {},
     "output_type": "execute_result"
    }
   ],
   "source": [
    "s"
   ]
  },
  {
   "cell_type": "code",
   "execution_count": 18,
   "metadata": {
    "collapsed": false
   },
   "outputs": [
    {
     "data": {
      "text/plain": [
       "pint.model.InitialState"
      ]
     },
     "execution_count": 18,
     "metadata": {},
     "output_type": "execute_result"
    }
   ],
   "source": [
    "s.__class__"
   ]
  },
  {
   "cell_type": "code",
   "execution_count": 19,
   "metadata": {
    "collapsed": false
   },
   "outputs": [
    {
     "data": {
      "text/plain": [
       "{'AKT1': 0,\n",
       " 'CDK2': 0,\n",
       " 'CDK4': 0,\n",
       " 'CDK6': 0,\n",
       " 'CycD1': 0,\n",
       " 'CycE1': 0,\n",
       " 'EGF': 1,\n",
       " 'ERBB1': 0,\n",
       " 'ERBB1_2': 0,\n",
       " 'ERBB1_3': 0,\n",
       " 'ERBB2': 0,\n",
       " 'ERBB2_3': 0,\n",
       " 'ERBB3': 0,\n",
       " 'ERalpha': 0,\n",
       " 'IGF1R': 0,\n",
       " 'MEK1': 0,\n",
       " 'MYC': 0,\n",
       " 'p21': 0,\n",
       " 'p27': 0,\n",
       " 'pRB': 0}"
      ]
     },
     "execution_count": 19,
     "metadata": {},
     "output_type": "execute_result"
    }
   ],
   "source": [
    "s.defaults"
   ]
  },
  {
   "cell_type": "code",
   "execution_count": 20,
   "metadata": {
    "collapsed": false
   },
   "outputs": [
    {
     "data": {
      "text/plain": [
       "<pint.model.FileModel at 0x7f6142618400>"
      ]
     },
     "execution_count": 20,
     "metadata": {},
     "output_type": "execute_result"
    }
   ],
   "source": [
    "m"
   ]
  },
  {
   "cell_type": "code",
   "execution_count": 21,
   "metadata": {
    "collapsed": false
   },
   "outputs": [
    {
     "data": {
      "text/plain": [
       "{'AKT1': 0,\n",
       " 'CDK2': 1,\n",
       " 'CDK4': 1,\n",
       " 'CDK6': 0,\n",
       " 'CycD1': 0,\n",
       " 'CycE1': 0,\n",
       " 'EGF': 1,\n",
       " 'ERBB1': 0,\n",
       " 'ERBB1_2': 0,\n",
       " 'ERBB1_3': 0,\n",
       " 'ERBB2': 0,\n",
       " 'ERBB2_3': 0,\n",
       " 'ERBB3': 0,\n",
       " 'ERalpha': 0,\n",
       " 'IGF1R': 0,\n",
       " 'MEK1': 0,\n",
       " 'MYC': 0,\n",
       " 'p21': 0,\n",
       " 'p27': 0,\n",
       " 'pRB': 0}"
      ]
     },
     "execution_count": 21,
     "metadata": {},
     "output_type": "execute_result"
    }
   ],
   "source": [
    "s"
   ]
  },
  {
   "cell_type": "code",
   "execution_count": 22,
   "metadata": {
    "collapsed": false
   },
   "outputs": [
    {
     "data": {
      "text/plain": [
       "{'AKT1': 0,\n",
       " 'CDK2': 0,\n",
       " 'CDK4': 1,\n",
       " 'CDK6': 0,\n",
       " 'CycD1': 0,\n",
       " 'CycE1': 0,\n",
       " 'EGF': 1,\n",
       " 'ERBB1': 0,\n",
       " 'ERBB1_2': 0,\n",
       " 'ERBB1_3': 0,\n",
       " 'ERBB2': 0,\n",
       " 'ERBB2_3': 0,\n",
       " 'ERBB3': 0,\n",
       " 'ERalpha': 0,\n",
       " 'IGF1R': 0,\n",
       " 'MEK1': 0,\n",
       " 'MYC': 0,\n",
       " 'p21': 0,\n",
       " 'p27': 0,\n",
       " 'pRB': 0}"
      ]
     },
     "execution_count": 22,
     "metadata": {},
     "output_type": "execute_result"
    }
   ],
   "source": [
    "m.initial_state"
   ]
  },
  {
   "cell_type": "code",
   "execution_count": 23,
   "metadata": {
    "collapsed": false
   },
   "outputs": [
    {
     "data": {
      "text/plain": [
       "{'AKT1': 0,\n",
       " 'CDK2': 0,\n",
       " 'CDK4': 0,\n",
       " 'CDK6': 0,\n",
       " 'CycD1': 0,\n",
       " 'CycE1': 0,\n",
       " 'EGF': 1,\n",
       " 'ERBB1': 0,\n",
       " 'ERBB1_2': 0,\n",
       " 'ERBB1_3': 0,\n",
       " 'ERBB2': 0,\n",
       " 'ERBB2_3': 0,\n",
       " 'ERBB3': 0,\n",
       " 'ERalpha': 0,\n",
       " 'IGF1R': 0,\n",
       " 'MEK1': 0,\n",
       " 'MYC': 0,\n",
       " 'p21': 0,\n",
       " 'p27': 0,\n",
       " 'pRB': 0}"
      ]
     },
     "execution_count": 23,
     "metadata": {},
     "output_type": "execute_result"
    }
   ],
   "source": [
    "m.initial_state.reset()\n",
    "m.initial_state"
   ]
  },
  {
   "cell_type": "code",
   "execution_count": 24,
   "metadata": {
    "collapsed": false
   },
   "outputs": [
    {
     "data": {
      "text/markdown": [
       "This computation is an *under-approximation*: returned cut-sets are all valid, but they may be non-minimal, and some cut-sets may be missed."
      ],
      "text/plain": [
       "<IPython.core.display.Markdown object>"
      ]
     },
     "metadata": {},
     "output_type": "display_data"
    },
    {
     "data": {
      "text/markdown": [
       "Limiting results to cut-sets with at most 5 elements. Use `maxsize` argument to change."
      ],
      "text/plain": [
       "<IPython.core.display.Markdown object>"
      ]
     },
     "metadata": {},
     "output_type": "display_data"
    },
    {
     "name": "stdout",
     "output_type": "stream",
     "text": [
      "# Running command pint-reach --json-stdout --cutsets 5 pRB=1 --no-init-cutsets -i ../models/ERBB_G1-S.an\n"
     ]
    },
    {
     "data": {
      "text/plain": [
       "[{'CDK4': 1},\n",
       " {'CDK6': 1},\n",
       " {'CycD1': 1},\n",
       " {'ERalpha': 1},\n",
       " {'MYC': 1},\n",
       " {'pRB': 1},\n",
       " {'AKT1': 1, 'MEK1': 1},\n",
       " {'ERBB1': 1, 'ERBB2': 1, 'IGF1R': 1},\n",
       " {'ERBB1': 1, 'ERBB2_3': 1, 'IGF1R': 1},\n",
       " {'ERBB1': 1, 'ERBB3': 1, 'IGF1R': 1}]"
      ]
     },
     "execution_count": 24,
     "metadata": {},
     "output_type": "execute_result"
    }
   ],
   "source": [
    "m.cutsets(\"pRB=1\")"
   ]
  },
  {
   "cell_type": "code",
   "execution_count": 25,
   "metadata": {
    "collapsed": true
   },
   "outputs": [],
   "source": [
    "s = m.initial_state.having(CDK4=1)"
   ]
  },
  {
   "cell_type": "code",
   "execution_count": 26,
   "metadata": {
    "collapsed": false
   },
   "outputs": [
    {
     "data": {
      "text/markdown": [
       "This computation is an *under-approximation*: returned cut-sets are all valid, but they may be non-minimal, and some cut-sets may be missed."
      ],
      "text/plain": [
       "<IPython.core.display.Markdown object>"
      ]
     },
     "metadata": {},
     "output_type": "display_data"
    },
    {
     "data": {
      "text/markdown": [
       "Limiting results to cut-sets with at most 5 elements. Use `maxsize` argument to change."
      ],
      "text/plain": [
       "<IPython.core.display.Markdown object>"
      ]
     },
     "metadata": {},
     "output_type": "display_data"
    },
    {
     "name": "stdout",
     "output_type": "stream",
     "text": [
      "# Running command pint-reach --json-stdout --cutsets 5 pRB=1 --no-init-cutsets -i ../models/ERBB_G1-S.an --initial-context \"CDK4\"=1\n"
     ]
    },
    {
     "data": {
      "text/plain": [
       "[{'CDK6': 1},\n",
       " {'CycD1': 1},\n",
       " {'ERalpha': 1},\n",
       " {'MYC': 1},\n",
       " {'pRB': 1},\n",
       " {'AKT1': 1, 'MEK1': 1},\n",
       " {'ERBB1': 1, 'ERBB2': 1, 'IGF1R': 1},\n",
       " {'ERBB1': 1, 'ERBB2_3': 1, 'IGF1R': 1},\n",
       " {'ERBB1': 1, 'ERBB3': 1, 'IGF1R': 1}]"
      ]
     },
     "execution_count": 26,
     "metadata": {},
     "output_type": "execute_result"
    }
   ],
   "source": [
    "m.having(s).cutsets(\"pRB=1\")"
   ]
  },
  {
   "cell_type": "code",
   "execution_count": 27,
   "metadata": {
    "collapsed": false
   },
   "outputs": [
    {
     "data": {
      "text/plain": [
       "{'AKT1': 0,\n",
       " 'CDK2': 0,\n",
       " 'CDK4': 0,\n",
       " 'CDK6': 0,\n",
       " 'CycD1': 0,\n",
       " 'CycE1': 0,\n",
       " 'EGF': 1,\n",
       " 'ERBB1': 0,\n",
       " 'ERBB1_2': 0,\n",
       " 'ERBB1_3': 0,\n",
       " 'ERBB2': 0,\n",
       " 'ERBB2_3': 0,\n",
       " 'ERBB3': 0,\n",
       " 'ERalpha': 0,\n",
       " 'IGF1R': 0,\n",
       " 'MEK1': 0,\n",
       " 'MYC': 0,\n",
       " 'p21': 0,\n",
       " 'p27': 0,\n",
       " 'pRB': 0}"
      ]
     },
     "execution_count": 27,
     "metadata": {},
     "output_type": "execute_result"
    }
   ],
   "source": [
    "m.initial_state"
   ]
  },
  {
   "cell_type": "code",
   "execution_count": 28,
   "metadata": {
    "collapsed": false
   },
   "outputs": [
    {
     "data": {
      "text/markdown": [
       "This computation is an *under-approximation*: returned cut-sets are all valid, but they may be non-minimal, and some cut-sets may be missed."
      ],
      "text/plain": [
       "<IPython.core.display.Markdown object>"
      ]
     },
     "metadata": {},
     "output_type": "display_data"
    },
    {
     "data": {
      "text/markdown": [
       "Limiting results to cut-sets with at most 5 elements. Use `maxsize` argument to change."
      ],
      "text/plain": [
       "<IPython.core.display.Markdown object>"
      ]
     },
     "metadata": {},
     "output_type": "display_data"
    },
    {
     "name": "stdout",
     "output_type": "stream",
     "text": [
      "# Running command pint-reach --json-stdout --cutsets 5 pRB=1 --no-init-cutsets -i ../models/ERBB_G1-S.an --initial-context \"CDK4\"=1\n"
     ]
    },
    {
     "data": {
      "text/plain": [
       "[{'CDK6': 1},\n",
       " {'CycD1': 1},\n",
       " {'ERalpha': 1},\n",
       " {'MYC': 1},\n",
       " {'pRB': 1},\n",
       " {'AKT1': 1, 'MEK1': 1},\n",
       " {'ERBB1': 1, 'ERBB2': 1, 'IGF1R': 1},\n",
       " {'ERBB1': 1, 'ERBB2_3': 1, 'IGF1R': 1},\n",
       " {'ERBB1': 1, 'ERBB3': 1, 'IGF1R': 1}]"
      ]
     },
     "execution_count": 28,
     "metadata": {},
     "output_type": "execute_result"
    }
   ],
   "source": [
    "m.having(CDK4=1).cutsets(\"pRB=1\")"
   ]
  },
  {
   "cell_type": "code",
   "execution_count": 29,
   "metadata": {
    "collapsed": false
   },
   "outputs": [
    {
     "name": "stdout",
     "output_type": "stream",
     "text": [
      "Help on method having in module pint.model:\n",
      "\n",
      "having(initial_state=None, **kwargs) method of pint.model.FileModel instance\n",
      "    Returns a copy of the model with supplied modifications\n",
      "    \n",
      "    initial_state: InitialState\n",
      "      replaces the initial state\n",
      "    \n",
      "    If ``kwargs`` are present, the initial state is replaced by a copy\n",
      "    updated with kwargs (see `InitialState.having`)\n",
      "    \n",
      "    Exemples:\n",
      "    >>> m.having(m.named_states[\"ProT1\"]).reachability(\"Tf1=1\")\n",
      "    >>> m.having(HR=1).reachability(\"Tf1=1\")\n",
      "\n"
     ]
    }
   ],
   "source": [
    "help(m.having)"
   ]
  },
  {
   "cell_type": "code",
   "execution_count": 30,
   "metadata": {
    "collapsed": false
   },
   "outputs": [
    {
     "ename": "AttributeError",
     "evalue": "'FileModel' object has no attribute 'test'",
     "output_type": "error",
     "traceback": [
      "\u001b[0;31m---------------------------------------------------------------------------\u001b[0m",
      "\u001b[0;31mAttributeError\u001b[0m                            Traceback (most recent call last)",
      "\u001b[0;32m<ipython-input-30-00075f99cb97>\u001b[0m in \u001b[0;36m<module>\u001b[0;34m()\u001b[0m\n\u001b[0;32m----> 1\u001b[0;31m \u001b[0mm\u001b[0m\u001b[0;34m.\u001b[0m\u001b[0mtest\u001b[0m\u001b[0;34m\u001b[0m\u001b[0m\n\u001b[0m",
      "\u001b[0;31mAttributeError\u001b[0m: 'FileModel' object has no attribute 'test'"
     ]
    }
   ],
   "source": [
    "m.test"
   ]
  },
  {
   "cell_type": "code",
   "execution_count": null,
   "metadata": {
    "collapsed": false
   },
   "outputs": [],
   "source": [
    "m.local_causality_graph(\"trimmed\", \"pRB=1\")"
   ]
  },
  {
   "cell_type": "code",
   "execution_count": null,
   "metadata": {
    "collapsed": false
   },
   "outputs": [],
   "source": [
    "m.full_lcg()"
   ]
  },
  {
   "cell_type": "code",
   "execution_count": null,
   "metadata": {
    "collapsed": false
   },
   "outputs": [],
   "source": [
    "m.simple_lcg(\"pRB=1\")"
   ]
  },
  {
   "cell_type": "code",
   "execution_count": null,
   "metadata": {
    "collapsed": false
   },
   "outputs": [],
   "source": [
    "m.worth_lcg(\"pRB=1\")"
   ]
  },
  {
   "cell_type": "code",
   "execution_count": null,
   "metadata": {
    "collapsed": false
   },
   "outputs": [],
   "source": [
    "m.saturated_lcg(\"pRB=1\")"
   ]
  },
  {
   "cell_type": "code",
   "execution_count": null,
   "metadata": {
    "collapsed": true
   },
   "outputs": [],
   "source": []
  }
 ],
 "metadata": {
  "kernelspec": {
   "display_name": "Python 3",
   "language": "python",
   "name": "python3"
  },
  "language_info": {
   "codemirror_mode": {
    "name": "ipython",
    "version": 3
   },
   "file_extension": ".py",
   "mimetype": "text/x-python",
   "name": "python",
   "nbconvert_exporter": "python",
   "pygments_lexer": "ipython3",
   "version": "3.5.2"
  }
 },
 "nbformat": 4,
 "nbformat_minor": 1
}
