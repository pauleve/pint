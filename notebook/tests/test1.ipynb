{
 "cells": [
  {
   "cell_type": "code",
   "execution_count": 1,
   "metadata": {
    "collapsed": false
   },
   "outputs": [],
   "source": [
    "%load_ext autoreload"
   ]
  },
  {
   "cell_type": "code",
   "execution_count": 2,
   "metadata": {
    "collapsed": true
   },
   "outputs": [],
   "source": [
    "%autoreload 2"
   ]
  },
  {
   "cell_type": "code",
   "execution_count": 3,
   "metadata": {
    "collapsed": false
   },
   "outputs": [],
   "source": [
    "import pint"
   ]
  },
  {
   "cell_type": "code",
   "execution_count": 4,
   "metadata": {
    "collapsed": false
   },
   "outputs": [
    {
     "name": "stdout",
     "output_type": "stream",
     "text": [
      "Source file is in Automata Network (an) format\n"
     ]
    }
   ],
   "source": [
    "m = pint.load(\"../models/ERBB_G1-S.an\")"
   ]
  },
  {
   "cell_type": "code",
   "execution_count": 5,
   "metadata": {
    "collapsed": false
   },
   "outputs": [
    {
     "data": {
      "text/plain": [
       "['AKT1',\n",
       " 'CDK2',\n",
       " 'CDK4',\n",
       " 'CDK6',\n",
       " 'CycD1',\n",
       " 'CycE1',\n",
       " 'EGF',\n",
       " 'ERBB1',\n",
       " 'ERBB1_2',\n",
       " 'ERBB1_3',\n",
       " 'ERBB2',\n",
       " 'ERBB2_3',\n",
       " 'ERBB3',\n",
       " 'ERalpha',\n",
       " 'IGF1R',\n",
       " 'MEK1',\n",
       " 'MYC',\n",
       " 'p21',\n",
       " 'p27',\n",
       " 'pRB']"
      ]
     },
     "execution_count": 5,
     "metadata": {},
     "output_type": "execute_result"
    }
   ],
   "source": [
    "m.automata"
   ]
  },
  {
   "cell_type": "code",
   "execution_count": 6,
   "metadata": {
    "collapsed": false
   },
   "outputs": [
    {
     "name": "stdout",
     "output_type": "stream",
     "text": [
      "# Running command pint-reach --cutsets 5 pRB=1 --no-init-cutsets -i ../models/ERBB_G1-S.an\n"
     ]
    },
    {
     "data": {
      "text/plain": [
       "['\"CDK4\"=1',\n",
       " '\"CDK6\"=1',\n",
       " '\"CycD1\"=1',\n",
       " '\"ERalpha\"=1',\n",
       " '\"MYC\"=1',\n",
       " '\"pRB\"=1',\n",
       " '\"AKT1\"=1,\"MEK1\"=1',\n",
       " '\"ERBB1\"=1,\"ERBB2\"=1,\"IGF1R\"=1',\n",
       " '\"ERBB1\"=1,\"ERBB2_3\"=1,\"IGF1R\"=1',\n",
       " '\"ERBB1\"=1,\"ERBB3\"=1,\"IGF1R\"=1']"
      ]
     },
     "execution_count": 6,
     "metadata": {},
     "output_type": "execute_result"
    }
   ],
   "source": [
    "m.cutsets(\"pRB=1\")"
   ]
  },
  {
   "cell_type": "code",
   "execution_count": null,
   "metadata": {
    "collapsed": false
   },
   "outputs": [],
   "source": []
  },
  {
   "cell_type": "code",
   "execution_count": 7,
   "metadata": {
    "collapsed": false
   },
   "outputs": [
    {
     "data": {
      "text/plain": [
       "{'AKT1': 0,\n",
       " 'CDK2': 0,\n",
       " 'CDK4': 0,\n",
       " 'CDK6': 0,\n",
       " 'CycD1': 0,\n",
       " 'CycE1': 0,\n",
       " 'EGF': 1,\n",
       " 'ERBB1': 0,\n",
       " 'ERBB1_2': 0,\n",
       " 'ERBB1_3': 0,\n",
       " 'ERBB2': 0,\n",
       " 'ERBB2_3': 0,\n",
       " 'ERBB3': 0,\n",
       " 'ERalpha': 0,\n",
       " 'IGF1R': 0,\n",
       " 'MEK1': 0,\n",
       " 'MYC': 0,\n",
       " 'p21': 0,\n",
       " 'p27': 0,\n",
       " 'pRB': 0}"
      ]
     },
     "execution_count": 7,
     "metadata": {},
     "output_type": "execute_result"
    }
   ],
   "source": [
    "m.initial_state"
   ]
  },
  {
   "cell_type": "code",
   "execution_count": 8,
   "metadata": {
    "collapsed": false
   },
   "outputs": [
    {
     "data": {
      "text/plain": [
       "0"
      ]
     },
     "execution_count": 8,
     "metadata": {},
     "output_type": "execute_result"
    }
   ],
   "source": [
    "m.initial_state[\"CDK4\"]"
   ]
  },
  {
   "cell_type": "code",
   "execution_count": 9,
   "metadata": {
    "collapsed": false
   },
   "outputs": [],
   "source": [
    "m.initial_state[\"CDK4\"] = 1"
   ]
  },
  {
   "cell_type": "code",
   "execution_count": 10,
   "metadata": {
    "collapsed": false
   },
   "outputs": [
    {
     "data": {
      "text/plain": [
       "1"
      ]
     },
     "execution_count": 10,
     "metadata": {},
     "output_type": "execute_result"
    }
   ],
   "source": [
    "m.initial_state[\"CDK4\"]"
   ]
  },
  {
   "cell_type": "code",
   "execution_count": 11,
   "metadata": {
    "collapsed": false
   },
   "outputs": [
    {
     "data": {
      "text/plain": [
       "True"
      ]
     },
     "execution_count": 11,
     "metadata": {},
     "output_type": "execute_result"
    }
   ],
   "source": [
    "m.initial_state.is_custom()"
   ]
  },
  {
   "cell_type": "code",
   "execution_count": 12,
   "metadata": {
    "collapsed": false
   },
   "outputs": [
    {
     "data": {
      "text/plain": [
       "'\"CDK4\"=1'"
      ]
     },
     "execution_count": 12,
     "metadata": {},
     "output_type": "execute_result"
    }
   ],
   "source": [
    "m.initial_state.to_pint()"
   ]
  },
  {
   "cell_type": "code",
   "execution_count": 13,
   "metadata": {
    "collapsed": false
   },
   "outputs": [
    {
     "data": {
      "text/plain": [
       "False"
      ]
     },
     "execution_count": 13,
     "metadata": {},
     "output_type": "execute_result"
    }
   ],
   "source": [
    "m.initial_state.reset()\n",
    "m.initial_state.is_custom()"
   ]
  },
  {
   "cell_type": "code",
   "execution_count": 14,
   "metadata": {
    "collapsed": false
   },
   "outputs": [
    {
     "data": {
      "text/plain": [
       "{'AKT1': 0,\n",
       " 'CDK2': 0,\n",
       " 'CDK4': 1,\n",
       " 'CDK6': 0,\n",
       " 'CycD1': 0,\n",
       " 'CycE1': 0,\n",
       " 'EGF': 1,\n",
       " 'ERBB1': 0,\n",
       " 'ERBB1_2': 0,\n",
       " 'ERBB1_3': 0,\n",
       " 'ERBB2': 0,\n",
       " 'ERBB2_3': 0,\n",
       " 'ERBB3': 0,\n",
       " 'ERalpha': 0,\n",
       " 'IGF1R': 0,\n",
       " 'MEK1': 0,\n",
       " 'MYC': 0,\n",
       " 'p21': 0,\n",
       " 'p27': 0,\n",
       " 'pRB': 0}"
      ]
     },
     "execution_count": 14,
     "metadata": {},
     "output_type": "execute_result"
    }
   ],
   "source": [
    "m.initial_state[\"CDK4\"] = 1\n",
    "m.initial_state"
   ]
  },
  {
   "cell_type": "code",
   "execution_count": 15,
   "metadata": {
    "collapsed": false
   },
   "outputs": [
    {
     "data": {
      "text/plain": [
       "{'AKT1': 0,\n",
       " 'CDK2': 0,\n",
       " 'CDK4': 0,\n",
       " 'CDK6': 0,\n",
       " 'CycD1': 0,\n",
       " 'CycE1': 0,\n",
       " 'EGF': 1,\n",
       " 'ERBB1': 0,\n",
       " 'ERBB1_2': 0,\n",
       " 'ERBB1_3': 0,\n",
       " 'ERBB2': 0,\n",
       " 'ERBB2_3': 0,\n",
       " 'ERBB3': 0,\n",
       " 'ERalpha': 0,\n",
       " 'IGF1R': 0,\n",
       " 'MEK1': 0,\n",
       " 'MYC': 0,\n",
       " 'p21': 0,\n",
       " 'p27': 0,\n",
       " 'pRB': 0}"
      ]
     },
     "execution_count": 15,
     "metadata": {},
     "output_type": "execute_result"
    }
   ],
   "source": [
    "m.initial_state.reset()\n",
    "m.initial_state"
   ]
  },
  {
   "cell_type": "code",
   "execution_count": null,
   "metadata": {
    "collapsed": false
   },
   "outputs": [],
   "source": []
  },
  {
   "cell_type": "code",
   "execution_count": null,
   "metadata": {
    "collapsed": true
   },
   "outputs": [],
   "source": []
  }
 ],
 "metadata": {
  "kernelspec": {
   "display_name": "Python 3",
   "language": "python",
   "name": "python3"
  },
  "language_info": {
   "codemirror_mode": {
    "name": "ipython",
    "version": 3
   },
   "file_extension": ".py",
   "mimetype": "text/x-python",
   "name": "python",
   "nbconvert_exporter": "python",
   "pygments_lexer": "ipython3",
   "version": "3.5.2"
  }
 },
 "nbformat": 4,
 "nbformat_minor": 1
}
