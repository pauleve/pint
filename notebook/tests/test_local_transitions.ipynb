{
 "cells": [
  {
   "cell_type": "code",
   "execution_count": 1,
   "metadata": {
    "collapsed": false
   },
   "outputs": [
    {
     "data": {
      "text/markdown": [
       "You are using Pint version 2016-09-16\n"
      ],
      "text/plain": [
       "<IPython.core.display.Markdown object>"
      ]
     },
     "metadata": {},
     "output_type": "display_data"
    }
   ],
   "source": [
    "import pint"
   ]
  },
  {
   "cell_type": "code",
   "execution_count": 2,
   "metadata": {
    "collapsed": false
   },
   "outputs": [
    {
     "data": {
      "text/markdown": [
       "Source file is in Automata Network (an) format"
      ],
      "text/plain": [
       "<IPython.core.display.Markdown object>"
      ]
     },
     "metadata": {},
     "output_type": "display_data"
    }
   ],
   "source": [
    "an1 = pint.load(\"../models/metazoan.an\")"
   ]
  },
  {
   "cell_type": "code",
   "execution_count": 3,
   "metadata": {
    "collapsed": false
   },
   "outputs": [
    {
     "data": {
      "text/plain": [
       "[\"f\" 1 -> 0,\n",
       " \"a\" 1 -> 0 when \"c\"=1,\n",
       " \"c\" 1 -> 0 when \"f\"=0,\n",
       " \"c\" 1 -> 0,\n",
       " \"a\" 0 -> 1 when \"f\"=1 and \"c\"=0,\n",
       " \"c\" 0 -> 1 when \"f\"=1]"
      ]
     },
     "execution_count": 3,
     "metadata": {},
     "output_type": "execute_result"
    }
   ],
   "source": [
    "an1.local_transitions"
   ]
  },
  {
   "cell_type": "code",
   "execution_count": 4,
   "metadata": {
    "collapsed": false
   },
   "outputs": [
    {
     "name": "stdout",
     "output_type": "stream",
     "text": [
      "\"f\" 1 -> 0 when \"lock_f\"=0\n",
      "\"a\" 1 -> 0 when \"c\"=1 and \"lock_a\"=0\n",
      "\"c\" 1 -> 0 when \"f\"=0 and \"lock_c\"=0\n",
      "\"c\" 1 -> 0 when \"lock_c\"=0\n",
      "\"a\" 0 -> 1 when \"f\"=1 and \"c\"=0 and \"lock_a\"=0\n",
      "\"c\" 0 -> 1 when \"f\"=1 and \"lock_c\"=0\n"
     ]
    }
   ],
   "source": [
    "for tr in an1.local_transitions:\n",
    "    for a in tr.modified_automata:\n",
    "        tr.conds[\"lock_%s\" % a] = 0\n",
    "    print(\"%s\" % tr)"
   ]
  },
  {
   "cell_type": "code",
   "execution_count": 5,
   "metadata": {
    "collapsed": false
   },
   "outputs": [
    {
     "data": {
      "text/markdown": [
       "Source file is in Automata Network (an) format"
      ],
      "text/plain": [
       "<IPython.core.display.Markdown object>"
      ]
     },
     "metadata": {},
     "output_type": "display_data"
    }
   ],
   "source": [
    "an2 = pint.load(\"../../tests/models/sync_simple01.an\")"
   ]
  },
  {
   "cell_type": "code",
   "execution_count": 6,
   "metadata": {
    "collapsed": false
   },
   "outputs": [
    {
     "data": {
      "text/plain": [
       "[\"a\" 1 -> 0 when \"c\"=0 and \"b\"=1,\n",
       " \"b\" 1 -> 0 when \"a\"=1 and \"c\"=0,\n",
       " \"c\" 1 -> 0 when \"b\"=1,\n",
       " \"c\" 0 -> 1 when \"a\"=0,\n",
       " { \"a\" 0 -> 1 ; \"b\" 0 -> 1 } when \"c\"=1]"
      ]
     },
     "execution_count": 6,
     "metadata": {},
     "output_type": "execute_result"
    }
   ],
   "source": [
    "an2.local_transitions"
   ]
  },
  {
   "cell_type": "code",
   "execution_count": 7,
   "metadata": {
    "collapsed": false
   },
   "outputs": [
    {
     "name": "stdout",
     "output_type": "stream",
     "text": [
      "\"a\" 1 -> 0 when \"c\"=0 and \"b\"=1 and \"lock_a\"=0\n",
      "\"b\" 1 -> 0 when \"a\"=1 and \"c\"=0 and \"lock_b\"=0\n",
      "\"c\" 1 -> 0 when \"lock_c\"=0 and \"b\"=1\n",
      "\"c\" 0 -> 1 when \"a\"=0 and \"lock_c\"=0\n",
      "{ \"a\" 0 -> 1 ; \"b\" 0 -> 1 } when \"c\"=1 and \"lock_b\"=0 and \"lock_a\"=0\n"
     ]
    }
   ],
   "source": [
    "for tr in an2.local_transitions:\n",
    "    for a in tr.modified_automata:\n",
    "        tr.conds[\"lock_%s\" % a] = 0\n",
    "    print(\"%s\" % tr)"
   ]
  },
  {
   "cell_type": "code",
   "execution_count": null,
   "metadata": {
    "collapsed": true
   },
   "outputs": [],
   "source": []
  }
 ],
 "metadata": {
  "kernelspec": {
   "display_name": "Python 3",
   "language": "python",
   "name": "python3"
  },
  "language_info": {
   "codemirror_mode": {
    "name": "ipython",
    "version": 3
   },
   "file_extension": ".py",
   "mimetype": "text/x-python",
   "name": "python",
   "nbconvert_exporter": "python",
   "pygments_lexer": "ipython3",
   "version": "3.5.2"
  }
 },
 "nbformat": 4,
 "nbformat_minor": 2
}
