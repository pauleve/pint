{
 "cells": [
  {
   "cell_type": "code",
   "execution_count": 1,
   "metadata": {
    "collapsed": true
   },
   "outputs": [],
   "source": [
    "%load_ext autoreload\n",
    "%autoreload 2"
   ]
  },
  {
   "cell_type": "code",
   "execution_count": 2,
   "metadata": {
    "collapsed": false
   },
   "outputs": [],
   "source": [
    "import pint"
   ]
  },
  {
   "cell_type": "code",
   "execution_count": 3,
   "metadata": {
    "collapsed": false
   },
   "outputs": [
    {
     "name": "stdout",
     "output_type": "stream",
     "text": [
      "Source file is in sbml format, importing with logicalmodel\n",
      "Simplifying model...\n"
     ]
    },
    {
     "data": {
      "text/html": [
       "<a href='gen/pintx8a1admbBladder-30.an' target='_blank'>gen/pintx8a1admbBladder-30.an</a><br>"
      ],
      "text/plain": [
       "/home/pauleve/rech/pint/notebook/gen/pintx8a1admbBladder-30.an"
      ]
     },
     "metadata": {},
     "output_type": "display_data"
    }
   ],
   "source": [
    "bladder = pint.load(\"models/Bladder-30.sbml\")"
   ]
  },
  {
   "cell_type": "code",
   "execution_count": 4,
   "metadata": {
    "collapsed": false
   },
   "outputs": [
    {
     "name": "stdout",
     "output_type": "stream",
     "text": [
      "Help on FileModel in module pint.model object:\n",
      "\n",
      "class FileModel(Model)\n",
      " |  Method resolution order:\n",
      " |      FileModel\n",
      " |      Model\n",
      " |      builtins.object\n",
      " |  \n",
      " |  Methods defined here:\n",
      " |  \n",
      " |  __init__(self, filename)\n",
      " |      Initialize self.  See help(type(self)) for accurate signature.\n",
      " |  \n",
      " |  populate_popen_args(self, args, kwargs)\n",
      " |  \n",
      " |  ----------------------------------------------------------------------\n",
      " |  Methods inherited from Model:\n",
      " |  \n",
      " |  bifurcations(model, ai, method='ua')\n",
      " |  \n",
      " |  count_reachable_states(model)\n",
      " |  \n",
      " |  cutsets(model, ai, maxsize=5, *args, exclude_initial_state=True, **opts)\n",
      " |  \n",
      " |  export(model, format, output=None, raw_args=None)\n",
      " |  \n",
      " |  fixpoints(model)\n",
      " |  \n",
      " |  having(self, initial_state=None)\n",
      " |      Returns a copy of the model with supplied modifications\n",
      " |      \n",
      " |      initial_state: InitialState\n",
      " |        new initial state\n",
      " |      \n",
      " |      Exemple:\n",
      " |      >>> m.having(initial_state=m.named_states[\"ProT1\"]).reachability(\"Tf1=1\")\n",
      " |  \n",
      " |  load(self)\n",
      " |  \n",
      " |  reachability(model, ai, fallback='its')\n",
      " |  \n",
      " |  reachable_attractors(model)\n",
      " |  \n",
      " |  reachable_stategraph(model)\n",
      " |  \n",
      " |  register_state(self, name, state)\n",
      " |  \n",
      " |  ----------------------------------------------------------------------\n",
      " |  Data descriptors inherited from Model:\n",
      " |  \n",
      " |  __dict__\n",
      " |      dictionary for instance variables (if defined)\n",
      " |  \n",
      " |  __weakref__\n",
      " |      list of weak references to the object (if defined)\n",
      " |  \n",
      " |  automata\n",
      " |  \n",
      " |  features\n",
      " |  \n",
      " |  local_states\n",
      " |  \n",
      " |  named_local_states\n",
      "\n"
     ]
    }
   ],
   "source": [
    "help(bladder)"
   ]
  },
  {
   "cell_type": "code",
   "execution_count": 3,
   "metadata": {
    "collapsed": false
   },
   "outputs": [
    {
     "name": "stdout",
     "output_type": "stream",
     "text": [
      "Source file is in Automata Network (an) format\n"
     ]
    }
   ],
   "source": [
    "metazoan = pint.load(\"models/metazoan.an\")"
   ]
  },
  {
   "cell_type": "code",
   "execution_count": 6,
   "metadata": {
    "collapsed": false
   },
   "outputs": [
    {
     "name": "stdout",
     "output_type": "stream",
     "text": [
      "# Running command pint-sg --state-graph gen/pintunumrj8h.dot -i models/metazoan.an\n"
     ]
    }
   ],
   "source": [
    "g = metazoan.reachable_stategraph()"
   ]
  },
  {
   "cell_type": "code",
   "execution_count": 7,
   "metadata": {
    "collapsed": false
   },
   "outputs": [
    {
     "data": {
      "text/plain": [
       "{'a': 0, 'c': 0, 'f': 1}"
      ]
     },
     "execution_count": 7,
     "metadata": {},
     "output_type": "execute_result"
    }
   ],
   "source": [
    "metazoan.initial_state"
   ]
  },
  {
   "cell_type": "code",
   "execution_count": 8,
   "metadata": {
    "collapsed": false
   },
   "outputs": [
    {
     "name": "stdout",
     "output_type": "stream",
     "text": [
      "# Running command pint-sg --reachable-attractors -i models/metazoan.an\n",
      "2 reachable attractors.\n",
      "- fixed point:\n",
      "\t\"a\"=0, \"c\"=0, \"f\"=0\n",
      "- fixed point:\n",
      "\t\"a\"=1, \"c\"=0, \"f\"=0\n",
      "\n"
     ]
    }
   ],
   "source": [
    "metazoan.reachable_attractors()"
   ]
  },
  {
   "cell_type": "code",
   "execution_count": 9,
   "metadata": {
    "collapsed": false
   },
   "outputs": [
    {
     "name": "stdout",
     "output_type": "stream",
     "text": [
      "# Running command pint-sg --count-reachable -i models/metazoan.an\n"
     ]
    },
    {
     "data": {
      "text/plain": [
       "8"
      ]
     },
     "execution_count": 9,
     "metadata": {},
     "output_type": "execute_result"
    }
   ],
   "source": [
    "metazoan.count_reachable_states()"
   ]
  },
  {
   "cell_type": "code",
   "execution_count": 5,
   "metadata": {
    "collapsed": false
   },
   "outputs": [
    {
     "name": "stdout",
     "output_type": "stream",
     "text": [
      "# Running command pint-stable --json-stdout --fixpoints -i models/metazoan.an\n"
     ]
    },
    {
     "data": {
      "text/plain": [
       "[{'a': 0, 'c': 0, 'f': 0}, {'a': 1, 'c': 0, 'f': 0}]"
      ]
     },
     "execution_count": 5,
     "metadata": {},
     "output_type": "execute_result"
    }
   ],
   "source": [
    "metazoan.fixpoints()"
   ]
  },
  {
   "cell_type": "code",
   "execution_count": 11,
   "metadata": {
    "collapsed": false
   },
   "outputs": [
    {
     "name": "stdout",
     "output_type": "stream",
     "text": [
      "Help on function load in module pint.model:\n",
      "\n",
      "load(filename, format=None, simplify=True)\n",
      "    Load a Pint model from given filename.\n",
      "    The format is guessed from the filename extension, but can be enforced with\n",
      "    the `format` parameter.\n",
      "    Except when loading directly from a '.an' file (native format for Pint), the\n",
      "    model will be converted to .an and a simplification step is performed.\n",
      "    This latter stage can be deactivated with `simplify=False`\n",
      "    \n",
      "    `filename` can be either a path to local file, or an URL. In the latter\n",
      "    case, it will be downloaded locally first, and then processed as a local\n",
      "    file.\n",
      "    \n",
      "    Supported formats:\n",
      "    - an (automata network), native Pint file format\n",
      "    - ginml, imported using GINsim+logicalmodel (use intermediate SBML\n",
      "          conversion)\n",
      "    - zginml, like ginml, with in addition the support of named initial states\n",
      "    - sbml (SBML-qual), imported using logicalmodel\n",
      "    - boolsim, booleannet, boolfunctions: Boolean network formats, imported\n",
      "          using logical model. Files with '.bn' extensions are assumed to be in\n",
      "          boolfunctions format.\n",
      "    \n",
      "    Returns a `Model` instance.\n",
      "    If the model results from an importation, IPython displays the link to the\n",
      "    generated .an file.\n",
      "\n"
     ]
    }
   ],
   "source": [
    "help(pint.load)"
   ]
  },
  {
   "cell_type": "code",
   "execution_count": 13,
   "metadata": {
    "collapsed": false
   },
   "outputs": [
    {
     "data": {
      "text/plain": [
       "pint.model.InitialState"
      ]
     },
     "execution_count": 13,
     "metadata": {},
     "output_type": "execute_result"
    }
   ],
   "source": [
    "metazoan.initial_state.__class__"
   ]
  },
  {
   "cell_type": "code",
   "execution_count": 14,
   "metadata": {
    "collapsed": false
   },
   "outputs": [],
   "source": [
    "a = metazoan.initial_state.having()"
   ]
  },
  {
   "cell_type": "code",
   "execution_count": 15,
   "metadata": {
    "collapsed": false
   },
   "outputs": [
    {
     "data": {
      "text/plain": [
       "pint.model.InitialState"
      ]
     },
     "execution_count": 15,
     "metadata": {},
     "output_type": "execute_result"
    }
   ],
   "source": [
    "a.__class__"
   ]
  },
  {
   "cell_type": "code",
   "execution_count": 16,
   "metadata": {
    "collapsed": false
   },
   "outputs": [
    {
     "data": {
      "text/plain": [
       "False"
      ]
     },
     "execution_count": 16,
     "metadata": {},
     "output_type": "execute_result"
    }
   ],
   "source": [
    "a == metazoan.initial_state"
   ]
  },
  {
   "cell_type": "code",
   "execution_count": 17,
   "metadata": {
    "collapsed": false
   },
   "outputs": [
    {
     "data": {
      "text/plain": [
       "True"
      ]
     },
     "execution_count": 17,
     "metadata": {},
     "output_type": "execute_result"
    }
   ],
   "source": [
    "a.info == metazoan.initial_state.info"
   ]
  },
  {
   "cell_type": "code",
   "execution_count": null,
   "metadata": {
    "collapsed": true
   },
   "outputs": [],
   "source": []
  }
 ],
 "metadata": {
  "kernelspec": {
   "display_name": "Python 3",
   "language": "python",
   "name": "python3"
  },
  "language_info": {
   "codemirror_mode": {
    "name": "ipython",
    "version": 3
   },
   "file_extension": ".py",
   "mimetype": "text/x-python",
   "name": "python",
   "nbconvert_exporter": "python",
   "pygments_lexer": "ipython3",
   "version": "3.5.2"
  }
 },
 "nbformat": 4,
 "nbformat_minor": 1
}
