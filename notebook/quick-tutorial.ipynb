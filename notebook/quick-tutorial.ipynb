{
 "cells": [
  {
   "cell_type": "markdown",
   "metadata": {
    "deletable": true,
    "editable": true
   },
   "source": [
    "# Pint - Quick Tutorial\n",
    "\n",
    "This document aims at giving a brief tutorial for Pint usage through its Python API.\n",
    "A more complete tutorial can be found at http://loicpauleve.name/pint/doc.\n",
    "\n",
    "## Installation\n",
    "\n",
    "Pint is distributed as binaries for Ubuntu/Debian and Mac OS X.\n",
    "A docker image which contains all dependencies and the Jupyter notebook is also available.\n",
    "Adventurous users can also install Pint from [sources](https://github.com/pauleve/pint).\n",
    "\n",
    "### From binaries (Ubuntu or Mac OS X)\n",
    "\n",
    "*Ubuntu* users can download and install the package  [pint_2017-04-13_amd64.deb](https://github.com/pauleve/pint/releases/download/2017-04-13/pint_2017-04-13_amd64.deb)\n",
    "\n",
    "*Mac OS X* users can download and open the image [pint-2017-04-13.dmg](https://github.com/pauleve/pint/releases/download/2017-04-13/pint-2017-04-13.dmg). Follow the instructions in the README file to complete the installation.\n",
    "\n",
    "\n",
    "The Python 3 module ``pypint`` can be installed with the standard PyPi package manager:\n",
    "```\n",
    "pip3 install -U pypint\n",
    "```\n",
    "\n",
    "The Jupyter notebook interface can be installed with `pip3 install jupyter` and started with `jupyter-notebook`.\n",
    "\n",
    "### Docker\n",
    "\n",
    "[Docker](http://docker.com/) is the easiest way to use Pint with the Jupyter notebook interface on any operating system. The image is named [pauleve/pint](https://hub.docker.com/r/pauleve/pint/).\n",
    "\n",
    "Installation/upgrade using the command line:\n",
    "```\n",
    "docker pull pauleve/pint\n",
    "```\n",
    "The image can be mounted as follows, binding your current directory to the default image working directory:\n",
    "```\n",
    "docker run -it --rm -p 8888:8888 -v \"$PWD\":/notebook pauleve/pint\n",
    "```\n",
    "You can then go to http://localhost:8888 to access to the Jupyter notebook.\n",
    "\n",
    "Please refer to Docker documentation for other usage.\n",
    "You can also use the python script [docker-pint.py](https://raw.githubusercontent.com/pauleve/pint/master/bin/docker-pint.py) to ease docker invocation\n",
    "(see `python docker-pint.py --help` for the different options)."
   ]
  },
  {
   "cell_type": "markdown",
   "metadata": {
    "deletable": true,
    "editable": true
   },
   "source": [
    "## (I)Python interface\n",
    "\n",
    "This tutorial can be followed either from the standard Python interpreter, or with IPython, and notably the [Jupyter notebook web interface](http://jupyter.com/).\n",
    "\n",
    "In the following, we assume that the `pypint` module has been loaded as follows:"
   ]
  },
  {
   "cell_type": "code",
   "execution_count": 1,
   "metadata": {
    "collapsed": false,
    "deletable": true,
    "editable": true
   },
   "outputs": [
    {
     "data": {
      "text/markdown": [
       "You are using Pint version 2017-04-13 and pypint 1.2.2"
      ],
      "text/plain": [
       "<IPython.core.display.Markdown object>"
      ]
     },
     "metadata": {},
     "output_type": "display_data"
    }
   ],
   "source": [
    "import pypint"
   ]
  },
  {
   "cell_type": "markdown",
   "metadata": {
    "deletable": true,
    "editable": true
   },
   "source": [
    "\n",
    "\n",
    "When loaded with the Jupyter IPython interface, a menu provides shortcuts for the main Pint instructions.\n",
    "\n",
    "![Jupyter web interface with Pint menu](jupyter-pypint.png)"
   ]
  },
  {
   "cell_type": "markdown",
   "metadata": {
    "deletable": true,
    "editable": true
   },
   "source": [
    "## Model input\n",
    "\n",
    "Pint relies on [Automata networks](https://loicpauleve.name/pint/doc/index.html#doc-automata-networks) framework which encompasses asynchronous Boolean and multi-valued networks.\n",
    "\n",
    "The python module allows a seamless importation of models in different file formats. The conversion is made automatically and is ensured to be exact. The next sections show how to load a model, access and update its initial state, and saving and exporting to different formats. Finally, we show how to get basic informations on the automata network model.\n",
    "\n",
    "### Loading a model\n",
    "\n",
    "Pint supports multiple formats for specifying Boolean and multi-valued networks, in particular SBML-qual and GINsim. Most of the conversions are performed using [BioLQM](https://github.com/colomoto/bioLQM). See [load() documentation](https://loicpauleve.name/pint/doc/api.html#pypint.model.load) for the full list of supported formats.\n",
    "\n",
    "The loading of a model is done with the function `pypint.load` which returns an abstract object representing the automata network. The format is guessed from the file extension.\n",
    "The argument can either be a local path to a file, or a URL which will be downloaded prior to loading:"
   ]
  },
  {
   "cell_type": "code",
   "execution_count": 2,
   "metadata": {
    "collapsed": false,
    "deletable": true,
    "editable": true
   },
   "outputs": [
    {
     "data": {
      "text/markdown": [
       "Downloading 'http://ginsim.org/sites/default/files/drosophilaCellCycleVariants.zginml' to 'gen/pint25cuxr4ndrosophilaCellCycleVariants.zginml'"
      ],
      "text/plain": [
       "<IPython.core.display.Markdown object>"
      ]
     },
     "metadata": {},
     "output_type": "display_data"
    },
    {
     "data": {
      "text/markdown": [
       "Source file is in zginml format, importing with logicalmodel"
      ],
      "text/plain": [
       "<IPython.core.display.Markdown object>"
      ]
     },
     "metadata": {},
     "output_type": "display_data"
    },
    {
     "data": {
      "text/markdown": [
       "Invoking GINsim..."
      ],
      "text/plain": [
       "<IPython.core.display.Markdown object>"
      ]
     },
     "metadata": {},
     "output_type": "display_data"
    },
    {
     "data": {
      "text/markdown": [
       "Simplifying model..."
      ],
      "text/plain": [
       "<IPython.core.display.Markdown object>"
      ]
     },
     "metadata": {},
     "output_type": "display_data"
    },
    {
     "data": {
      "text/html": [
       "<a href='gen/pintkroys2n5drosophilaCellCycleVariants.an' target='_blank'>gen/pintkroys2n5drosophilaCellCycleVariants.an</a><br>"
      ],
      "text/plain": [
       "/home/pauleve/orga/baskets/rech/pub/pint/gen/pintkroys2n5drosophilaCellCycleVariants.an"
      ]
     },
     "metadata": {},
     "output_type": "display_data"
    },
    {
     "data": {
      "text/markdown": [
       "6 state(s) have been registered: G0, Cycle_Init, Endocycle_init, Syncytial_Cycles, NoCycD_Endocycle, Ago_Endocycle"
      ],
      "text/plain": [
       "<IPython.core.display.Markdown object>"
      ]
     },
     "metadata": {},
     "output_type": "display_data"
    }
   ],
   "source": [
    "m = pypint.load(\"http://ginsim.org/sites/default/files/drosophilaCellCycleVariants.zginml\")"
   ]
  },
  {
   "cell_type": "markdown",
   "metadata": {
    "deletable": true,
    "editable": true
   },
   "source": [
    "The `load` function also supports importing models from [CellCollective](http://cellcollective.org) simply by supplying the URL to the model repository:"
   ]
  },
  {
   "cell_type": "code",
   "execution_count": 3,
   "metadata": {
    "collapsed": false,
    "deletable": true,
    "editable": true
   },
   "outputs": [
    {
     "data": {
      "text/markdown": [
       "Downloading 'http://api.cellcollective.org/model/export/4705?type=SBML' to 'gen/pintm8914v1e4705.sbml'"
      ],
      "text/plain": [
       "<IPython.core.display.Markdown object>"
      ]
     },
     "metadata": {},
     "output_type": "display_data"
    },
    {
     "data": {
      "text/markdown": [
       "Source file is in sbml format, importing with logicalmodel"
      ],
      "text/plain": [
       "<IPython.core.display.Markdown object>"
      ]
     },
     "metadata": {},
     "output_type": "display_data"
    },
    {
     "data": {
      "text/markdown": [
       "Simplifying model..."
      ],
      "text/plain": [
       "<IPython.core.display.Markdown object>"
      ]
     },
     "metadata": {},
     "output_type": "display_data"
    },
    {
     "data": {
      "text/html": [
       "<a href='gen/pint0un5d3vt4705.an' target='_blank'>gen/pint0un5d3vt4705.an</a><br>"
      ],
      "text/plain": [
       "/home/pauleve/orga/baskets/rech/pub/pint/gen/pint0un5d3vt4705.an"
      ]
     },
     "metadata": {},
     "output_type": "display_data"
    }
   ],
   "source": [
    "m2 = pypint.load(\"https://cellcollective.org/#4705/septation-initiation-network\")"
   ]
  },
  {
   "cell_type": "markdown",
   "metadata": {
    "deletable": true,
    "editable": true
   },
   "source": [
    "Finally, within the Jupyter notebook web interface, a model can be uploaded by calling `load` without any argument. Once the file selected, it will be uploaded in the notebook, and loaded as a local file."
   ]
  },
  {
   "cell_type": "code",
   "execution_count": 4,
   "metadata": {
    "collapsed": false,
    "deletable": true,
    "editable": true
   },
   "outputs": [
    {
     "data": {
      "text/html": [
       "<input type=\"file\" id=\"pint-loading-2621045\"\n",
       "                   onchange=\"load_with_upload(Jupyter, 'pint-loading-2621045', this)\">"
      ],
      "text/plain": [
       "<IPython.core.display.HTML object>"
      ]
     },
     "metadata": {},
     "output_type": "display_data"
    }
   ],
   "source": [
    "m3 = pypint.load()"
   ]
  },
  {
   "cell_type": "markdown",
   "metadata": {
    "deletable": true,
    "editable": true
   },
   "source": [
    "### Initial state\n",
    "\n",
    "An automata network comes with an initial state, associating to each automaton its starting local state.\n",
    "Some formats, such as GINsim, allow to define different states that are identified with a name. In such a case, the `load` function displays the registered states.\n",
    "\n",
    "The initial state of a model `m` is accessed using `m.initial_state`. It is a dict-like object which supports updating.\n",
    "\n",
    "The recommended way to modify the initial state of the automata network is to use the `having` method to create a new copy of the model with supplied initial state modifications:"
   ]
  },
  {
   "cell_type": "code",
   "execution_count": 5,
   "metadata": {
    "collapsed": true,
    "deletable": true,
    "editable": true
   },
   "outputs": [],
   "source": [
    "n = m.having(CycE=1)      # having can take keyword arguments\n",
    "n = m.having({\"Notch\": 1, \"Stg\": 1})   # .. or a dictionnary\n",
    "n = m.having(\"NoCycD_Endocycle\")       # .. or the name of a registered state"
   ]
  },
  {
   "cell_type": "markdown",
   "metadata": {
    "deletable": true,
    "editable": true
   },
   "source": [
    "See the [Pint tutorial on model input](https://loicpauleve.name/pint/doc/model.html) for more functions and examples.\n",
    "\n",
    "## Transient reachability analysis\n",
    "\n",
    "The main features of pint relate to the transient reachability analysis, for which efficient over- and under-approximation have been designed.\n",
    "Verifying reachability properties in automata networks is a PSPACE-complete problem, and is therefore hardly tractable for large systems.\n",
    "Pint implements static analyses for the formal approximaton of reachability properties with a lower complexity. It consists in both over- and under-approximations, i.e., the verification of necessary *or* sufficient conditions.\n",
    "\n",
    "The reachability properties are specfied in term of a *goal*. We first detail the different possible specifications for such a goal, and then illustrate various analyses of its reachability.\n",
    "\n",
    "### Goal specification\n",
    "\n",
    "In its simplest form, a goal is the local state of one automaton, for instance `g=1`. The goal is reached as soon as a state where `g=1` is reached. Note that there is no assumption on the stability of this state, this is why we refer to the *transient* reachability analysis.\n",
    "\n",
    "Besides the single local state, a goal can be\n",
    "* a (sub-)state, specified either as by a dict-like object or string representation of the (sub)-state\n",
    "* a sequence of (sub-)state: for instance a `Goal(\"a=1\",\"b=1\")` is reached if one can reach a state where `a=1` and from which can be reached a state where `b=1`\n",
    "* a disjunction of goals: `Goal(\"a=1\")|Goal(\"c=1\")` is reached if one can reach a state where either `a=1` or `c=1`."
   ]
  },
  {
   "cell_type": "code",
   "execution_count": 6,
   "metadata": {
    "collapsed": false,
    "deletable": true,
    "editable": true
   },
   "outputs": [],
   "source": [
    "from pypint import Goal # avoid typing pypint\n",
    "simple = Goal(\"g=1\")    # simple goal\n",
    "substate = Goal(\"a=1,b=1\")   # reach a state where both a=1 and b=1\n",
    "seq = Goal(\"a=1,b=1\", \"c=1\") # reach a state where a=1 and b=1 and from c=1 is reachable\n",
    "alt = Goal(\"a=1\", \"b=1\") | Goal(\"c=1\") # either reach a state where a=1 and then a state where b=1, \n",
    "                                       # or reach a state where c=1"
   ]
  },
  {
   "cell_type": "markdown",
   "metadata": {
    "deletable": true,
    "editable": true
   },
   "source": [
    "### Static reachability analysis\n",
    "\n",
    "The [reachability](https://loicpauleve.name/pint/doc/api.html#pypint.model.Model.reachability) method  takes as main argument the goal. It returns either ``True`` or ``False`` depending if the goal is reachable or not from the model initial state. By default, if the static analysis is not conclusive (i.e., the necessary condition is satisified, but the sufficient condition is not), pint falls back to exact model checking with [ITS](http://ddd.lip6.fr/itstools.php>). This fall back can be deativated with the argument `fallback=None`. In this case, the method may also return `Inconc`."
   ]
  },
  {
   "cell_type": "code",
   "execution_count": 8,
   "metadata": {
    "collapsed": true,
    "deletable": true,
    "editable": true
   },
   "outputs": [
    {
     "data": {
      "text/markdown": [
       "Downloading 'http://ginsim.org/sites/default/files/SuppMat_Model_Master_Model.zginml' to 'gen/pintppc3v4brSuppMat_Model_Master_Model.zginml'"
      ],
      "text/plain": [
       "<IPython.core.display.Markdown object>"
      ]
     },
     "metadata": {},
     "output_type": "display_data"
    },
    {
     "data": {
      "text/markdown": [
       "Source file is in zginml format, importing with logicalmodel"
      ],
      "text/plain": [
       "<IPython.core.display.Markdown object>"
      ]
     },
     "metadata": {},
     "output_type": "display_data"
    },
    {
     "data": {
      "text/markdown": [
       "Invoking GINsim..."
      ],
      "text/plain": [
       "<IPython.core.display.Markdown object>"
      ]
     },
     "metadata": {},
     "output_type": "display_data"
    },
    {
     "data": {
      "text/markdown": [
       "Simplifying model..."
      ],
      "text/plain": [
       "<IPython.core.display.Markdown object>"
      ]
     },
     "metadata": {},
     "output_type": "display_data"
    },
    {
     "data": {
      "text/html": [
       "<a href='gen/pintbq3dulusSuppMat_Model_Master_Model.an' target='_blank'>gen/pintbq3dulusSuppMat_Model_Master_Model.an</a><br>"
      ],
      "text/plain": [
       "/home/pauleve/orga/baskets/rech/pub/pint/gen/pintbq3dulusSuppMat_Model_Master_Model.an"
      ]
     },
     "metadata": {},
     "output_type": "display_data"
    },
    {
     "data": {
      "text/markdown": [
       "1 state(s) have been registered: initState_1"
      ],
      "text/plain": [
       "<IPython.core.display.Markdown object>"
      ]
     },
     "metadata": {},
     "output_type": "display_data"
    }
   ],
   "source": [
    "invasion = pypint.load(\"http://ginsim.org/sites/default/files/SuppMat_Model_Master_Model.zginml\")"
   ]
  },
  {
   "cell_type": "code",
   "execution_count": 9,
   "metadata": {
    "collapsed": false,
    "deletable": true,
    "editable": true
   },
   "outputs": [
    {
     "data": {
      "text/plain": [
       "True"
      ]
     },
     "execution_count": 9,
     "metadata": {},
     "output_type": "execute_result"
    }
   ],
   "source": [
    "invasion.having(DNAdamage=1,ECMicroenv=1).reachability(\"Apoptosis=1\")"
   ]
  },
  {
   "cell_type": "markdown",
   "metadata": {
    "deletable": true,
    "editable": true
   },
   "source": [
    "### Identification of mutations to control goal reachability\n",
    "\n",
    "One of the prime application of reachability analysis is the identification of perturbations which would control the goal reachability.\n",
    "\n",
    "Pint offers an efficient static analysis which identify mutations for preventing a goal to occur. The analysis aims at being tractable on networks with hundreds of nodes.\n",
    "\n",
    "The method [oneshot_mutations_for_cut](https://loicpauleve.name/pint/doc/api.html#pypint.model.Model.oneshot_mutations_for_cut) takes as main argument the goal and returns a list of mutations which makes it impossible to reach.\n",
    "\n",
    "In the following example, we compute the mutations which prevent both the activation of `Apoptosis` and `CellCycleArrest`. A mutation can be tested with the [lock](https://loicpauleve.name/pint/doc/api.html#pypint.model.Model.lock) method which blocks the specfied automata to the given local states. It is guaranteed that the reachability returns false."
   ]
  },
  {
   "cell_type": "code",
   "execution_count": 10,
   "metadata": {
    "collapsed": false,
    "deletable": true,
    "editable": true
   },
   "outputs": [
    {
     "data": {
      "text/markdown": [
       "This computation is an *under-approximation*: returned mutations are all valid, but they may be non-minimal, and some solutions may be missed."
      ],
      "text/plain": [
       "<IPython.core.display.Markdown object>"
      ]
     },
     "metadata": {},
     "output_type": "display_data"
    },
    {
     "data": {
      "text/markdown": [
       "Limiting solutions to mutations of at most 3 automata. Use `maxsize` argument to change."
      ],
      "text/plain": [
       "<IPython.core.display.Markdown object>"
      ]
     },
     "metadata": {},
     "output_type": "display_data"
    },
    {
     "data": {
      "text/plain": [
       "[{'AKT1': 1},\n",
       " {'CDH1': 1, 'NICD': 0},\n",
       " {'CDH2': 1, 'NICD': 0},\n",
       " {'CTNNB1': 0, 'NICD': 0},\n",
       " {'DKK1': 1, 'NICD': 0},\n",
       " {'AKT2': 1, 'ERK': 1, 'ZEB2': 0},\n",
       " {'AKT2': 1, 'ERK': 1, 'p63': 1},\n",
       " {'AKT2': 1, 'ZEB2': 0, 'p21': 0},\n",
       " {'ERK': 1, 'SNAI1': 1, 'ZEB2': 0},\n",
       " {'ERK': 1, 'SNAI2': 1, 'ZEB2': 0},\n",
       " {'ERK': 1, 'SNAI2': 1, 'p63': 1},\n",
       " {'ERK': 1, 'ZEB1': 1, 'ZEB2': 0},\n",
       " {'ERK': 1, 'ZEB1': 1, 'p53': 1},\n",
       " {'ERK': 1, 'ZEB1': 1, 'p63': 1},\n",
       " {'ERK': 1, 'ZEB2': 0, 'p53': 0},\n",
       " {'ERK': 1, 'miR200': 0, 'p63': 1},\n",
       " {'NICD': 0, 'SNAI2': 1, 'TWIST1': 0},\n",
       " {'NICD': 0, 'TWIST1': 0, 'p53': 0},\n",
       " {'SNAI2': 1, 'ZEB2': 0, 'p21': 0},\n",
       " {'ZEB2': 0, 'p21': 0, 'p53': 0}]"
      ]
     },
     "execution_count": 10,
     "metadata": {},
     "output_type": "execute_result"
    }
   ],
   "source": [
    "goal = Goal(\"Apoptosis=1\") | Goal(\"CellCycleArrest=1\")\n",
    "invasion.initial_state[\"ECMicroenv\"] = 1\n",
    "invasion.initial_state[\"DNAdamage\"] = 0\n",
    "mutations = invasion.oneshot_mutations_for_cut(goal, maxsize=3, exclude={\"ECMicroenv\",\"DNAdamage\"})\n",
    "mutations"
   ]
  },
  {
   "cell_type": "code",
   "execution_count": 11,
   "metadata": {
    "collapsed": false,
    "deletable": true,
    "editable": true
   },
   "outputs": [
    {
     "data": {
      "text/plain": [
       "False"
      ]
     },
     "execution_count": 11,
     "metadata": {},
     "output_type": "execute_result"
    }
   ],
   "source": [
    "invasion.lock({'DKK1': 1, 'NICD': 0}).reachability(goal)"
   ]
  },
  {
   "cell_type": "markdown",
   "metadata": {
    "deletable": true,
    "editable": true
   },
   "source": [
    "### Cut sets of paths to goal\n",
    "\n",
    "Cut sets are sets of local states of automata which cover all the paths (or traces) from the initial state to any state where the goal is present. Therefore, disabling the local states of a cut set removes (cuts) all the paths to the goal, making it impossible to reach.\n",
    "\n",
    "The method [cutsets](https://loicpauleve.name/pint/doc/api.html#pypint.model.Model.cutsets) returns a list of cut sets of all the paths to the given goal.\n",
    "It is tractable on very networks, up to several thousands of automata."
   ]
  },
  {
   "cell_type": "code",
   "execution_count": 12,
   "metadata": {
    "collapsed": false,
    "deletable": true,
    "editable": true
   },
   "outputs": [
    {
     "data": {
      "text/markdown": [
       "This computation is an *under-approximation*: returned cut-sets are all valid, but they may be non-minimal, and some cut-sets may be missed."
      ],
      "text/plain": [
       "<IPython.core.display.Markdown object>"
      ]
     },
     "metadata": {},
     "output_type": "display_data"
    },
    {
     "data": {
      "text/markdown": [
       "Limiting results to cut-sets with at most 3 elements. Use `maxsize` argument to change."
      ],
      "text/plain": [
       "<IPython.core.display.Markdown object>"
      ]
     },
     "metadata": {},
     "output_type": "display_data"
    },
    {
     "data": {
      "text/plain": [
       "[{'p53': 1}, {'CTNNB1': 1, 'NICD': 1}]"
      ]
     },
     "execution_count": 12,
     "metadata": {},
     "output_type": "execute_result"
    }
   ],
   "source": [
    "invasion.cutsets(\"Apoptosis=1\",maxsize=3)"
   ]
  },
  {
   "cell_type": "code",
   "execution_count": 13,
   "metadata": {
    "collapsed": false,
    "deletable": true,
    "editable": true
   },
   "outputs": [
    {
     "data": {
      "text/plain": [
       "False"
      ]
     },
     "execution_count": 13,
     "metadata": {},
     "output_type": "execute_result"
    }
   ],
   "source": [
    "invasion.disable(p53=1).reachability(\"Apoptosis=1\")"
   ]
  },
  {
   "cell_type": "markdown",
   "metadata": {
    "deletable": true,
    "editable": true
   },
   "source": [
    "### Identification of bifurcation transitions\n",
    "\n",
    "Given an initial state and a goal, a *bifurcation transitions* is a transition after which the goal is no longer reachable. Bifurcation transitions are local transitions of the automata network that are triggered in the transient dynamics. See [[Fitime et al at WCB 2016](https://hal.archives-ouvertes.fr/hal-01361350/file/Fippo_Fitime_WCB16.pdf)] for more information.\n",
    "\n",
    "Bifurcation transitions are helpful to understand differentiation processes, as they give the decisive modification which removed the capability to reach the goal.\n",
    "\n",
    "The method [bifurcations](https://loicpauleve.name/pint/doc/api.html#pypint.model.Model.bifurcations) takes as first argument the goal for which the bifurcation transitions will be identified. The method may be tractable on networks with several hundreds of nodes. It also allows a `method=\"exact\"` keyword for the complete identification of bifurcation transitions using model-checking. It is however not tractable on large networks."
   ]
  },
  {
   "cell_type": "code",
   "execution_count": 14,
   "metadata": {
    "collapsed": false,
    "deletable": true,
    "editable": true
   },
   "outputs": [
    {
     "data": {
      "text/markdown": [
       "This computation is an *under-approximation*: returned transitions are all bifurcation transitions, but some may have been missed. Use `method=\"exact\"` for complete identification."
      ],
      "text/plain": [
       "<IPython.core.display.Markdown object>"
      ]
     },
     "metadata": {},
     "output_type": "display_data"
    },
    {
     "data": {
      "text/plain": [
       "[\"AKT2\" 0 -> 1 when \"CDH2\"=0 and \"GF\"=0 and \"NICD\"=1 and \"TGFbeta\"=0 and \"TWIST1\"=1 and \"miR203\"=0 and \"miR34\"=0 and \"p53\"=0,\n",
       " \"AKT2\" 0 -> 1 when \"GF\"=0 and \"TGFbeta\"=1 and \"TWIST1\"=1 and \"miR203\"=0 and \"miR34\"=0 and \"p53\"=0,\n",
       " \"SNAI2\" 0 -> 1 when \"CTNNB1\"=0 and \"NICD\"=1 and \"TWIST1\"=0 and \"miR200\"=0 and \"miR203\"=0 and \"p53\"=0,\n",
       " \"SNAI2\" 0 -> 1 when \"TWIST1\"=1 and \"miR200\"=0 and \"miR203\"=0 and \"p53\"=0,\n",
       " \"SNAI2\" 0 -> 1 when \"CTNNB1\"=1 and \"TWIST1\"=0 and \"miR200\"=0 and \"miR203\"=0 and \"p53\"=0,\n",
       " \"AKT2\" 0 -> 1 when \"CDH2\"=1 and \"GF\"=0 and \"TGFbeta\"=0 and \"TWIST1\"=1 and \"miR203\"=0 and \"miR34\"=0 and \"p53\"=0,\n",
       " \"AKT2\" 0 -> 1 when \"GF\"=1 and \"TWIST1\"=1 and \"miR203\"=0 and \"miR34\"=0 and \"p53\"=0]"
      ]
     },
     "execution_count": 14,
     "metadata": {},
     "output_type": "execute_result"
    }
   ],
   "source": [
    "invasion.bifurcations(\"Apoptosis=1\")"
   ]
  },
  {
   "cell_type": "markdown",
   "metadata": {
    "deletable": true,
    "editable": true
   },
   "source": [
    "For each of the returned local transitions, there exists a state reachable from the initial state which (1) can reach the goal; and (2) after applying the bifurcation transition, the goal is no longer reachable.\n",
    "\n",
    "### Goal-oriented model reduction\n",
    "\n",
    "Pint can statically detect part of transitions that do not take part in minimal paths to the goal reachability. A path is minimal if and only it contains no cycle and all the transitions are causally related.\n",
    "\n",
    "These transitions can then be removed from the model while preserving all the minimal paths to the goal and potentially reducing the reachable state graph significantly, and ehancing the tractability of model-checking."
   ]
  },
  {
   "cell_type": "code",
   "execution_count": 15,
   "metadata": {
    "collapsed": false,
    "deletable": true,
    "editable": true
   },
   "outputs": [
    {
     "data": {
      "text/plain": [
       "244"
      ]
     },
     "execution_count": 15,
     "metadata": {},
     "output_type": "execute_result"
    }
   ],
   "source": [
    "len(invasion.local_transitions)"
   ]
  },
  {
   "cell_type": "code",
   "execution_count": 16,
   "metadata": {
    "collapsed": false,
    "deletable": true,
    "editable": true
   },
   "outputs": [
    {
     "data": {
      "text/html": [
       "<a href='gen/pintealxzmnt.an' target='_blank'>gen/pintealxzmnt.an</a><br>"
      ],
      "text/plain": [
       "/home/pauleve/orga/baskets/rech/pub/pint/gen/pintealxzmnt.an"
      ]
     },
     "metadata": {},
     "output_type": "display_data"
    },
    {
     "data": {
      "text/plain": [
       "152"
      ]
     },
     "execution_count": 16,
     "metadata": {},
     "output_type": "execute_result"
    }
   ],
   "source": [
    "red = invasion.reduce_for_goal(\"Apoptosis=1\")\n",
    "len(red.local_transitions)"
   ]
  },
  {
   "cell_type": "markdown",
   "metadata": {
    "deletable": true,
    "editable": true
   },
   "source": [
    "It is worht noting that the `reachability` method introduced above automatically performs the goal-oriented reduction prior the call to the model-checker.\n",
    "\n",
    "See the [Pint tutorial on transient reachability analysis](https://loicpauleve.name/pint/doc/transient-analysis.html) for more functions and examples.\n",
    "\n",
    "## State graph analysis\n",
    "\n",
    "Besides static analyses of transient reachability, Pint offers standard state graph analysis.\n",
    "\n",
    "### Fixpoints\n",
    "\n",
    "Fixpoints are global states of the networks where no transition is possible.\n",
    "Pint implements the complete fixpoints computation in automata networks as Boolean satisfaction constraints (SAT).\n",
    "It should be tractable on networks with hundreds of components. Usually, the main limitation is the potential very high number of fixpoints.\n",
    "\n",
    "Let us illustrate the fixpoint computation on a medium size example:"
   ]
  },
  {
   "cell_type": "code",
   "execution_count": 17,
   "metadata": {
    "collapsed": true,
    "deletable": true,
    "editable": true
   },
   "outputs": [
    {
     "data": {
      "text/markdown": [
       "Downloading 'http://ginsim.org/sites/default/files/Th_17.zginml' to 'gen/pintgttp1w3lTh_17.zginml'"
      ],
      "text/plain": [
       "<IPython.core.display.Markdown object>"
      ]
     },
     "metadata": {},
     "output_type": "display_data"
    },
    {
     "data": {
      "text/markdown": [
       "Source file is in zginml format, importing with logicalmodel"
      ],
      "text/plain": [
       "<IPython.core.display.Markdown object>"
      ]
     },
     "metadata": {},
     "output_type": "display_data"
    },
    {
     "data": {
      "text/markdown": [
       "Invoking GINsim..."
      ],
      "text/plain": [
       "<IPython.core.display.Markdown object>"
      ]
     },
     "metadata": {},
     "output_type": "display_data"
    },
    {
     "data": {
      "text/markdown": [
       "Simplifying model..."
      ],
      "text/plain": [
       "<IPython.core.display.Markdown object>"
      ]
     },
     "metadata": {},
     "output_type": "display_data"
    },
    {
     "data": {
      "text/html": [
       "<a href='gen/pintjkrvpwr0Th_17.an' target='_blank'>gen/pintjkrvpwr0Th_17.an</a><br>"
      ],
      "text/plain": [
       "/home/pauleve/orga/baskets/rech/pub/pint/gen/pintjkrvpwr0Th_17.an"
      ]
     },
     "metadata": {},
     "output_type": "display_data"
    }
   ],
   "source": [
    "th17 = pypint.load(\"http://ginsim.org/sites/default/files/Th_17.zginml\")"
   ]
  },
  {
   "cell_type": "markdown",
   "metadata": {
    "deletable": true,
    "editable": true
   },
   "source": [
    "The method `fixpoints` returns the list of all the fixpoints of the network. The result is independent from the initial state. In the following example, we use [Pandas](http://pandas.pydata.org/>) to provide a pretty display of the returned list with Jupyter web interface. This is purely cosmetic."
   ]
  },
  {
   "cell_type": "code",
   "execution_count": 18,
   "metadata": {
    "collapsed": false,
    "deletable": true,
    "editable": true
   },
   "outputs": [
    {
     "data": {
      "text/html": [
       "<div>\n",
       "<table border=\"1\" class=\"dataframe\">\n",
       "  <thead>\n",
       "    <tr style=\"text-align: right;\">\n",
       "      <th></th>\n",
       "      <th>GATA3</th>\n",
       "      <th>IFNb</th>\n",
       "      <th>IFNbR</th>\n",
       "      <th>IFNg</th>\n",
       "      <th>IFNgR</th>\n",
       "      <th>IL12</th>\n",
       "      <th>IL12R</th>\n",
       "      <th>IL18</th>\n",
       "      <th>IL18R</th>\n",
       "      <th>IL4</th>\n",
       "      <th>IL4R</th>\n",
       "      <th>IRAK</th>\n",
       "      <th>SOCS1</th>\n",
       "      <th>STAT1</th>\n",
       "      <th>STAT4</th>\n",
       "      <th>STAT6</th>\n",
       "      <th>Tbet</th>\n",
       "    </tr>\n",
       "  </thead>\n",
       "  <tbody>\n",
       "    <tr>\n",
       "      <th>0</th>\n",
       "      <td>0</td>\n",
       "      <td>0</td>\n",
       "      <td>0</td>\n",
       "      <td>0</td>\n",
       "      <td>0</td>\n",
       "      <td>0</td>\n",
       "      <td>0</td>\n",
       "      <td>0</td>\n",
       "      <td>0</td>\n",
       "      <td>0</td>\n",
       "      <td>0</td>\n",
       "      <td>0</td>\n",
       "      <td>0</td>\n",
       "      <td>0</td>\n",
       "      <td>0</td>\n",
       "      <td>0</td>\n",
       "      <td>0</td>\n",
       "    </tr>\n",
       "    <tr>\n",
       "      <th>1</th>\n",
       "      <td>0</td>\n",
       "      <td>0</td>\n",
       "      <td>0</td>\n",
       "      <td>1</td>\n",
       "      <td>1</td>\n",
       "      <td>0</td>\n",
       "      <td>0</td>\n",
       "      <td>0</td>\n",
       "      <td>0</td>\n",
       "      <td>0</td>\n",
       "      <td>0</td>\n",
       "      <td>0</td>\n",
       "      <td>1</td>\n",
       "      <td>1</td>\n",
       "      <td>0</td>\n",
       "      <td>0</td>\n",
       "      <td>1</td>\n",
       "    </tr>\n",
       "    <tr>\n",
       "      <th>2</th>\n",
       "      <td>0</td>\n",
       "      <td>0</td>\n",
       "      <td>0</td>\n",
       "      <td>2</td>\n",
       "      <td>1</td>\n",
       "      <td>0</td>\n",
       "      <td>0</td>\n",
       "      <td>0</td>\n",
       "      <td>0</td>\n",
       "      <td>0</td>\n",
       "      <td>0</td>\n",
       "      <td>0</td>\n",
       "      <td>1</td>\n",
       "      <td>1</td>\n",
       "      <td>0</td>\n",
       "      <td>0</td>\n",
       "      <td>2</td>\n",
       "    </tr>\n",
       "    <tr>\n",
       "      <th>3</th>\n",
       "      <td>1</td>\n",
       "      <td>0</td>\n",
       "      <td>0</td>\n",
       "      <td>0</td>\n",
       "      <td>0</td>\n",
       "      <td>0</td>\n",
       "      <td>0</td>\n",
       "      <td>0</td>\n",
       "      <td>0</td>\n",
       "      <td>1</td>\n",
       "      <td>1</td>\n",
       "      <td>0</td>\n",
       "      <td>0</td>\n",
       "      <td>0</td>\n",
       "      <td>0</td>\n",
       "      <td>1</td>\n",
       "      <td>0</td>\n",
       "    </tr>\n",
       "  </tbody>\n",
       "</table>\n",
       "</div>"
      ],
      "text/plain": [
       "   GATA3  IFNb  IFNbR  IFNg  IFNgR  IL12  IL12R  IL18  IL18R  IL4  IL4R  IRAK  \\\n",
       "0      0     0      0     0      0     0      0     0      0    0     0     0   \n",
       "1      0     0      0     1      1     0      0     0      0    0     0     0   \n",
       "2      0     0      0     2      1     0      0     0      0    0     0     0   \n",
       "3      1     0      0     0      0     0      0     0      0    1     1     0   \n",
       "\n",
       "   SOCS1  STAT1  STAT4  STAT6  Tbet  \n",
       "0      0      0      0      0     0  \n",
       "1      1      1      0      0     1  \n",
       "2      1      1      0      0     2  \n",
       "3      0      0      0      1     0  "
      ]
     },
     "execution_count": 18,
     "metadata": {},
     "output_type": "execute_result"
    }
   ],
   "source": [
    "fps = th17.fixpoints()\n",
    "import pandas as pd # for pretty display of fixpoints\n",
    "pd.DataFrame(fps)"
   ]
  },
  {
   "cell_type": "markdown",
   "metadata": {
    "deletable": true,
    "editable": true
   },
   "source": [
    "### Reachable state graph\n",
    "\n",
    "Pint also implements explicit reachable state graph analysis from the model initial state. Note that such a kind of approach is limited in scalability. On classical desktop computers, the state graph analysis can handle mostly up to a few (reachable) million states.\n",
    "\n",
    "We illustrate on a small example the usage of the method `reachable_attractors` which returns the complete list of attractors reachable from the initial state. An attractor is described by a type (fixpoint or cyclic), a size, and an instance of state belonging to the attractor."
   ]
  },
  {
   "cell_type": "code",
   "execution_count": 19,
   "metadata": {
    "collapsed": true,
    "deletable": true,
    "editable": true
   },
   "outputs": [
    {
     "data": {
      "text/markdown": [
       "Downloading 'http://ginsim.org/sites/default/files/phageLambda4.zginml' to 'gen/pint2r_xbsqxphageLambda4.zginml'"
      ],
      "text/plain": [
       "<IPython.core.display.Markdown object>"
      ]
     },
     "metadata": {},
     "output_type": "display_data"
    },
    {
     "data": {
      "text/markdown": [
       "Source file is in zginml format, importing with logicalmodel"
      ],
      "text/plain": [
       "<IPython.core.display.Markdown object>"
      ]
     },
     "metadata": {},
     "output_type": "display_data"
    },
    {
     "data": {
      "text/markdown": [
       "Invoking GINsim..."
      ],
      "text/plain": [
       "<IPython.core.display.Markdown object>"
      ]
     },
     "metadata": {},
     "output_type": "display_data"
    },
    {
     "data": {
      "text/markdown": [
       "Simplifying model..."
      ],
      "text/plain": [
       "<IPython.core.display.Markdown object>"
      ]
     },
     "metadata": {},
     "output_type": "display_data"
    },
    {
     "data": {
      "text/html": [
       "<a href='gen/pintpmj_k6ziphageLambda4.an' target='_blank'>gen/pintpmj_k6ziphageLambda4.an</a><br>"
      ],
      "text/plain": [
       "/home/pauleve/orga/baskets/rech/pub/pint/gen/pintpmj_k6ziphageLambda4.an"
      ]
     },
     "metadata": {},
     "output_type": "display_data"
    },
    {
     "data": {
      "text/markdown": [
       "3 state(s) have been registered: initState_WT, initState_Cro_ect, initState_CII_ect"
      ],
      "text/plain": [
       "<IPython.core.display.Markdown object>"
      ]
     },
     "metadata": {},
     "output_type": "display_data"
    }
   ],
   "source": [
    "phage = pypint.load(\"http://ginsim.org/sites/default/files/phageLambda4.zginml\")"
   ]
  },
  {
   "cell_type": "code",
   "execution_count": 20,
   "metadata": {
    "collapsed": false,
    "deletable": true,
    "editable": true
   },
   "outputs": [
    {
     "data": {
      "text/plain": [
       "{'CI': 0, 'CII': 0, 'Cro': 0, 'N': 0}"
      ]
     },
     "execution_count": 20,
     "metadata": {},
     "output_type": "execute_result"
    }
   ],
   "source": [
    "phage.initial_state"
   ]
  },
  {
   "cell_type": "code",
   "execution_count": 21,
   "metadata": {
    "collapsed": false,
    "deletable": true,
    "editable": true
   },
   "outputs": [
    {
     "data": {
      "text/plain": [
       "[{'sample': {'CI': 2, 'CII': 0, 'Cro': 0, 'N': 0},\n",
       "  'size': 1,\n",
       "  'type': 'fixpoint'},\n",
       " {'sample': {'CI': 0, 'CII': 0, 'Cro': 2, 'N': 0},\n",
       "  'size': 2,\n",
       "  'type': 'cyclic'}]"
      ]
     },
     "execution_count": 21,
     "metadata": {},
     "output_type": "execute_result"
    }
   ],
   "source": [
    "attractors = phage.reachable_attractors()\n",
    "attractors"
   ]
  },
  {
   "cell_type": "code",
   "execution_count": 22,
   "metadata": {
    "collapsed": false,
    "deletable": true,
    "editable": true
   },
   "outputs": [
    {
     "data": {
      "image/svg+xml": [
       "<?xml version=\"1.0\" encoding=\"UTF-8\" standalone=\"no\"?>\n",
       "<!DOCTYPE svg PUBLIC \"-//W3C//DTD SVG 1.1//EN\"\n",
       " \"http://www.w3.org/Graphics/SVG/1.1/DTD/svg11.dtd\">\n",
       "<!-- Generated by graphviz version 2.38.0 (20140413.2041)\n",
       " -->\n",
       "<!-- Title: SG Pages: 1 -->\n",
       "<svg width=\"202pt\" height=\"116pt\"\n",
       " viewBox=\"0.00 0.00 201.68 116.00\" xmlns=\"http://www.w3.org/2000/svg\" xmlns:xlink=\"http://www.w3.org/1999/xlink\">\n",
       "<g id=\"graph0\" class=\"graph\" transform=\"scale(1 1) rotate(0) translate(4 112)\">\n",
       "<title>SG</title>\n",
       "<polygon fill=\"white\" stroke=\"none\" points=\"-4,4 -4,-112 197.683,-112 197.683,4 -4,4\"/>\n",
       "<!-- 32 -->\n",
       "<g id=\"node1\" class=\"node\"><title>32</title>\n",
       "<ellipse fill=\"lightgrey\" stroke=\"black\" cx=\"96.8414\" cy=\"-90\" rx=\"96.6831\" ry=\"18\"/>\n",
       "<text text-anchor=\"middle\" x=\"96.8414\" y=\"-86.3\" font-family=\"Times,serif\" font-size=\"14.00\">CI=0,CII=0,Cro=2,N=0</text>\n",
       "</g>\n",
       "<!-- 48 -->\n",
       "<g id=\"node2\" class=\"node\"><title>48</title>\n",
       "<ellipse fill=\"none\" stroke=\"black\" cx=\"96.8414\" cy=\"-18\" rx=\"96.6831\" ry=\"18\"/>\n",
       "<text text-anchor=\"middle\" x=\"96.8414\" y=\"-14.3\" font-family=\"Times,serif\" font-size=\"14.00\">CI=0,CII=0,Cro=3,N=0</text>\n",
       "</g>\n",
       "<!-- 32&#45;&gt;48 -->\n",
       "<g id=\"edge1\" class=\"edge\"><title>32&#45;&gt;48</title>\n",
       "<path fill=\"none\" stroke=\"black\" d=\"M90.9257,-71.6966C90.13,-63.9827 89.9035,-54.7125 90.2461,-46.1124\"/>\n",
       "<polygon fill=\"black\" stroke=\"black\" points=\"93.7398,-46.3243 90.9464,-36.1043 86.7568,-45.8356 93.7398,-46.3243\"/>\n",
       "</g>\n",
       "<!-- 48&#45;&gt;32 -->\n",
       "<g id=\"edge2\" class=\"edge\"><title>48&#45;&gt;32</title>\n",
       "<path fill=\"none\" stroke=\"black\" d=\"M102.736,-36.1043C103.542,-43.7913 103.778,-53.0537 103.445,-61.6651\"/>\n",
       "<polygon fill=\"black\" stroke=\"black\" points=\"99.95,-61.4805 102.757,-71.6966 106.934,-61.9597 99.95,-61.4805\"/>\n",
       "</g>\n",
       "</g>\n",
       "</svg>\n"
      ],
      "text/plain": [
       "<networkx.classes.digraph.DiGraph at 0x7fdd0d16d160>"
      ]
     },
     "execution_count": 22,
     "metadata": {},
     "output_type": "execute_result"
    }
   ],
   "source": [
    "phage.having(attractors[1][\"sample\"]).reachable_stategraph() # display the cyclic attractor"
   ]
  },
  {
   "cell_type": "markdown",
   "metadata": {
    "deletable": true,
    "editable": true
   },
   "source": [
    "See the [Pint tutorial on state graph analysis](https://loicpauleve.name/pint/doc/stategraph.html) for more functions and examples."
   ]
  }
 ],
 "metadata": {
  "kernelspec": {
   "display_name": "Python 3",
   "language": "python",
   "name": "python3"
  },
  "language_info": {
   "codemirror_mode": {
    "name": "ipython",
    "version": 3
   },
   "file_extension": ".py",
   "mimetype": "text/x-python",
   "name": "python",
   "nbconvert_exporter": "python",
   "pygments_lexer": "ipython3",
   "version": "3.5.3"
  }
 },
 "nbformat": 4,
 "nbformat_minor": 2
}
