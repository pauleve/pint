{
 "cells": [
  {
   "cell_type": "code",
   "execution_count": 1,
   "metadata": {
    "collapsed": false
   },
   "outputs": [
    {
     "name": "stdout",
     "output_type": "stream",
     "text": [
      "You are using Pint version 2016-09-16\n",
      "\n"
     ]
    }
   ],
   "source": [
    "import pint"
   ]
  },
  {
   "cell_type": "code",
   "execution_count": 2,
   "metadata": {
    "collapsed": false
   },
   "outputs": [
    {
     "name": "stdout",
     "output_type": "stream",
     "text": [
      "Downloading 'http://ginsim.org/sites/default/files/ErbB2_model.zginml' to 'gen/pintodunp3mvErbB2_model.zginml'\n",
      "Source file is in zginml format, importing with logicalmodel\n",
      "Invoking GINsim...\n",
      "Simplifying model...\n"
     ]
    },
    {
     "data": {
      "text/html": [
       "<a href='gen/pinteeuqb4mzErbB2_model.an' target='_blank'>gen/pinteeuqb4mzErbB2_model.an</a><br>"
      ],
      "text/plain": [
       "/home/pauleve/rech/pint/notebook/gen/pinteeuqb4mzErbB2_model.an"
      ]
     },
     "metadata": {},
     "output_type": "display_data"
    },
    {
     "name": "stdout",
     "output_type": "stream",
     "text": [
      "1 state(s) have been registered: Init_WT\n"
     ]
    }
   ],
   "source": [
    "erbb = pint.load(\"http://ginsim.org/sites/default/files/ErbB2_model.zginml\")"
   ]
  },
  {
   "cell_type": "code",
   "execution_count": 3,
   "metadata": {
    "collapsed": false
   },
   "outputs": [
    {
     "name": "stdout",
     "output_type": "stream",
     "text": [
      "# Running command pint-reach --json-stdout --cutsets 5 pRB1=1 --no-init-cutsets -i gen/pinteeuqb4mzErbB2_model.an --initial-context \"EGF\"=1\n"
     ]
    },
    {
     "data": {
      "text/plain": [
       "[{'CDK4': 1},\n",
       " {'CDK6': 1},\n",
       " {'CyclinD1': 1},\n",
       " {'ERalpha': 1},\n",
       " {'MYC': 1},\n",
       " {'pRB1': 1},\n",
       " {'AKT1': 1, 'MEK1': 1},\n",
       " {'ERBB1': 1, 'ERBB2': 1, 'IGF1R': 1},\n",
       " {'ERBB1': 1, 'ERBB2_3': 1, 'IGF1R': 1},\n",
       " {'ERBB1': 1, 'ERBB3': 1, 'IGF1R': 1}]"
      ]
     },
     "execution_count": 3,
     "metadata": {},
     "output_type": "execute_result"
    }
   ],
   "source": [
    "erbb.having(EGF=1).cutsets(\"pRB1=1\")"
   ]
  },
  {
   "cell_type": "code",
   "execution_count": null,
   "metadata": {
    "collapsed": true
   },
   "outputs": [],
   "source": []
  }
 ],
 "metadata": {
  "kernelspec": {
   "display_name": "Python 3",
   "language": "python",
   "name": "python3"
  },
  "language_info": {
   "codemirror_mode": {
    "name": "ipython",
    "version": 3
   },
   "file_extension": ".py",
   "mimetype": "text/x-python",
   "name": "python",
   "nbconvert_exporter": "python",
   "pygments_lexer": "ipython3",
   "version": "3.5.2"
  }
 },
 "nbformat": 4,
 "nbformat_minor": 1
}
