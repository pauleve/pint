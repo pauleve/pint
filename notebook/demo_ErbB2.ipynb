{
 "cells": [
  {
   "cell_type": "code",
   "execution_count": 1,
   "metadata": {
    "collapsed": false
   },
   "outputs": [
    {
     "data": {
      "text/markdown": [
       "You are using Pint version 2016-12-15\n"
      ],
      "text/plain": [
       "<IPython.core.display.Markdown object>"
      ]
     },
     "metadata": {},
     "output_type": "display_data"
    }
   ],
   "source": [
    "import pint"
   ]
  },
  {
   "cell_type": "code",
   "execution_count": 2,
   "metadata": {
    "collapsed": false
   },
   "outputs": [
    {
     "data": {
      "text/markdown": [
       "Downloading 'http://ginsim.org/sites/default/files/ErbB2_model.zginml' to 'gen/pinto5o4ngu3ErbB2_model.zginml'"
      ],
      "text/plain": [
       "<IPython.core.display.Markdown object>"
      ]
     },
     "metadata": {},
     "output_type": "display_data"
    },
    {
     "data": {
      "text/markdown": [
       "Source file is in zginml format, importing with logicalmodel"
      ],
      "text/plain": [
       "<IPython.core.display.Markdown object>"
      ]
     },
     "metadata": {},
     "output_type": "display_data"
    },
    {
     "data": {
      "text/markdown": [
       "Invoking GINsim..."
      ],
      "text/plain": [
       "<IPython.core.display.Markdown object>"
      ]
     },
     "metadata": {},
     "output_type": "display_data"
    },
    {
     "data": {
      "text/markdown": [
       "Simplifying model..."
      ],
      "text/plain": [
       "<IPython.core.display.Markdown object>"
      ]
     },
     "metadata": {},
     "output_type": "display_data"
    },
    {
     "data": {
      "text/html": [
       "<a href='gen/pint5e32oheuErbB2_model.an' target='_blank'>gen/pint5e32oheuErbB2_model.an</a><br>"
      ],
      "text/plain": [
       "/home/pauleve/rech/pint/notebook/gen/pint5e32oheuErbB2_model.an"
      ]
     },
     "metadata": {},
     "output_type": "display_data"
    },
    {
     "data": {
      "text/markdown": [
       "1 state(s) have been registered: Init_WT"
      ],
      "text/plain": [
       "<IPython.core.display.Markdown object>"
      ]
     },
     "metadata": {},
     "output_type": "display_data"
    }
   ],
   "source": [
    "erbb = pint.load(\"http://ginsim.org/sites/default/files/ErbB2_model.zginml\")"
   ]
  },
  {
   "cell_type": "code",
   "execution_count": 3,
   "metadata": {
    "collapsed": false
   },
   "outputs": [
    {
     "data": {
      "text/markdown": [
       "This computation is an *under-approximation*: returned cut-sets are all valid, but they may be non-minimal, and some cut-sets may be missed."
      ],
      "text/plain": [
       "<IPython.core.display.Markdown object>"
      ]
     },
     "metadata": {},
     "output_type": "display_data"
    },
    {
     "data": {
      "text/markdown": [
       "Limiting results to cut-sets with at most 5 elements. Use `maxsize` argument to change."
      ],
      "text/plain": [
       "<IPython.core.display.Markdown object>"
      ]
     },
     "metadata": {},
     "output_type": "display_data"
    },
    {
     "name": "stdout",
     "output_type": "stream",
     "text": [
      "# Running command pint-reach --json-stdout --cutsets 5 pRB1=1 --no-init-cutsets -i gen/pint5e32oheuErbB2_model.an --initial-context \"EGF\"=1\n"
     ]
    },
    {
     "data": {
      "text/plain": [
       "[{'CDK4': 1},\n",
       " {'CDK6': 1},\n",
       " {'CyclinD1': 1},\n",
       " {'ERalpha': 1},\n",
       " {'MYC': 1},\n",
       " {'pRB1': 1},\n",
       " {'AKT1': 1, 'MEK1': 1},\n",
       " {'ERBB1': 1, 'ERBB2': 1, 'IGF1R': 1},\n",
       " {'ERBB1': 1, 'ERBB2_3': 1, 'IGF1R': 1},\n",
       " {'ERBB1': 1, 'ERBB3': 1, 'IGF1R': 1}]"
      ]
     },
     "execution_count": 3,
     "metadata": {},
     "output_type": "execute_result"
    }
   ],
   "source": [
    "erbb.having(EGF=1).cutsets(\"pRB1=1\")"
   ]
  },
  {
   "cell_type": "code",
   "execution_count": 4,
   "metadata": {
    "collapsed": false
   },
   "outputs": [
    {
     "data": {
      "text/markdown": [
       "This computation is an *under-approximation*: returned mutations are all valid, but they may be non-minimal, and some solutions may be missed."
      ],
      "text/plain": [
       "<IPython.core.display.Markdown object>"
      ]
     },
     "metadata": {},
     "output_type": "display_data"
    },
    {
     "data": {
      "text/markdown": [
       "Limiting solutions to mutations of at most 5 automata. Use `maxsize` argument to change."
      ],
      "text/plain": [
       "<IPython.core.display.Markdown object>"
      ]
     },
     "metadata": {},
     "output_type": "display_data"
    },
    {
     "name": "stdout",
     "output_type": "stream",
     "text": [
      "# Running command pint-reach --json-stdout pRB1=1 --oneshot-mutations-for-cut 5 -i gen/pint5e32oheuErbB2_model.an --initial-context \"EGF\"=1\n"
     ]
    },
    {
     "data": {
      "text/plain": [
       "[{'CDK4': 0},\n",
       " {'CDK6': 0},\n",
       " {'CyclinD1': 0},\n",
       " {'EGF': 0},\n",
       " {'ERalpha': 0},\n",
       " {'MYC': 0},\n",
       " {'p21': 1},\n",
       " {'p27': 1},\n",
       " {'pRB1': 0},\n",
       " {'AKT1': 0, 'MEK1': 0},\n",
       " {'ERBB1': 0, 'ERBB2': 0},\n",
       " {'ERBB1': 0, 'ERBB2_3': 0},\n",
       " {'ERBB1': 0, 'ERBB3': 0}]"
      ]
     },
     "execution_count": 4,
     "metadata": {},
     "output_type": "execute_result"
    }
   ],
   "source": [
    "erbb.having(EGF=1).oneshot_mutations_for_cut(\"pRB1=1\")"
   ]
  },
  {
   "cell_type": "code",
   "execution_count": null,
   "metadata": {
    "collapsed": true
   },
   "outputs": [],
   "source": []
  }
 ],
 "metadata": {
  "kernelspec": {
   "display_name": "Python 3",
   "language": "python",
   "name": "python3"
  },
  "language_info": {
   "codemirror_mode": {
    "name": "ipython",
    "version": 3
   },
   "file_extension": ".py",
   "mimetype": "text/x-python",
   "name": "python",
   "nbconvert_exporter": "python",
   "pygments_lexer": "ipython3",
   "version": "3.5.2"
  }
 },
 "nbformat": 4,
 "nbformat_minor": 1
}
