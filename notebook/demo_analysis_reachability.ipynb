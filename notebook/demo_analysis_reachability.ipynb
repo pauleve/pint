{
 "cells": [
  {
   "cell_type": "code",
   "execution_count": 1,
   "metadata": {
    "collapsed": true
   },
   "outputs": [],
   "source": [
    "%load_ext autoreload\n",
    "%autoreload 2"
   ]
  },
  {
   "cell_type": "code",
   "execution_count": 2,
   "metadata": {
    "collapsed": false
   },
   "outputs": [
    {
     "data": {
      "text/markdown": [
       "You are using Pint version 2016-12-15\n"
      ],
      "text/plain": [
       "<IPython.core.display.Markdown object>"
      ]
     },
     "metadata": {},
     "output_type": "display_data"
    }
   ],
   "source": [
    "import pint"
   ]
  },
  {
   "cell_type": "code",
   "execution_count": 3,
   "metadata": {
    "collapsed": false
   },
   "outputs": [
    {
     "data": {
      "text/markdown": [
       "Source file is in Automata Network (an) format"
      ],
      "text/plain": [
       "<IPython.core.display.Markdown object>"
      ]
     },
     "metadata": {},
     "output_type": "display_data"
    }
   ],
   "source": [
    "erbb = pint.load(\"models/ERBB_G1-S.an\")"
   ]
  },
  {
   "cell_type": "code",
   "execution_count": 4,
   "metadata": {
    "collapsed": false
   },
   "outputs": [
    {
     "data": {
      "text/plain": [
       "{'AKT1': 0,\n",
       " 'CDK2': 0,\n",
       " 'CDK4': 0,\n",
       " 'CDK6': 0,\n",
       " 'CycD1': 0,\n",
       " 'CycE1': 0,\n",
       " 'EGF': 1,\n",
       " 'ERBB1': 0,\n",
       " 'ERBB1_2': 0,\n",
       " 'ERBB1_3': 0,\n",
       " 'ERBB2': 0,\n",
       " 'ERBB2_3': 0,\n",
       " 'ERBB3': 0,\n",
       " 'ERalpha': 0,\n",
       " 'IGF1R': 0,\n",
       " 'MEK1': 0,\n",
       " 'MYC': 0,\n",
       " 'p21': 0,\n",
       " 'p27': 0,\n",
       " 'pRB': 0}"
      ]
     },
     "execution_count": 4,
     "metadata": {},
     "output_type": "execute_result"
    }
   ],
   "source": [
    "erbb.initial_state"
   ]
  },
  {
   "cell_type": "code",
   "execution_count": 5,
   "metadata": {
    "collapsed": false
   },
   "outputs": [
    {
     "data": {
      "text/plain": [
       "{'EGF': 1}"
      ]
     },
     "execution_count": 5,
     "metadata": {},
     "output_type": "execute_result"
    }
   ],
   "source": [
    "erbb.initial_state.nonzeros()"
   ]
  },
  {
   "cell_type": "code",
   "execution_count": 12,
   "metadata": {
    "collapsed": false
   },
   "outputs": [
    {
     "name": "stdout",
     "output_type": "stream",
     "text": [
      "# Running command pint-reach --json-stdout pRB=1 -i models/ERBB_G1-S.an\n"
     ]
    },
    {
     "data": {
      "text/plain": [
       "True"
      ]
     },
     "execution_count": 12,
     "metadata": {},
     "output_type": "execute_result"
    }
   ],
   "source": [
    "erbb.reachability(\"pRB=1\")"
   ]
  },
  {
   "cell_type": "code",
   "execution_count": 7,
   "metadata": {
    "collapsed": false
   },
   "outputs": [
    {
     "data": {
      "text/markdown": [
       "This computation is an *under-approximation*: returned cut-sets are all valid, but they may be non-minimal, and some cut-sets may be missed."
      ],
      "text/plain": [
       "<IPython.core.display.Markdown object>"
      ]
     },
     "metadata": {},
     "output_type": "display_data"
    },
    {
     "data": {
      "text/markdown": [
       "Limiting results to cut-sets with at most 5 elements. Use `maxsize` argument to change."
      ],
      "text/plain": [
       "<IPython.core.display.Markdown object>"
      ]
     },
     "metadata": {},
     "output_type": "display_data"
    },
    {
     "name": "stdout",
     "output_type": "stream",
     "text": [
      "# Running command pint-reach --json-stdout --cutsets 5 pRB=1 --no-init-cutsets -i models/ERBB_G1-S.an\n"
     ]
    },
    {
     "data": {
      "text/plain": [
       "[{'CDK4': 1},\n",
       " {'CDK6': 1},\n",
       " {'CycD1': 1},\n",
       " {'ERalpha': 1},\n",
       " {'MYC': 1},\n",
       " {'pRB': 1},\n",
       " {'AKT1': 1, 'MEK1': 1},\n",
       " {'ERBB1': 1, 'ERBB2': 1, 'IGF1R': 1},\n",
       " {'ERBB1': 1, 'ERBB2_3': 1, 'IGF1R': 1},\n",
       " {'ERBB1': 1, 'ERBB3': 1, 'IGF1R': 1}]"
      ]
     },
     "execution_count": 7,
     "metadata": {},
     "output_type": "execute_result"
    }
   ],
   "source": [
    "erbb.cutsets(\"pRB=1\")"
   ]
  },
  {
   "cell_type": "code",
   "execution_count": 8,
   "metadata": {
    "collapsed": false
   },
   "outputs": [
    {
     "name": "stdout",
     "output_type": "stream",
     "text": [
      "# Running command pint-nusmv --json-stdout IGF1R=1 --bifurcations -i models/ERBB_G1-S.an\n"
     ]
    },
    {
     "data": {
      "text/plain": [
       "[\"ERBB2_3\" 0 -> 1 when \"ERBB3\"=1 and \"ERBB2\"=1,\n",
       " \"IGF1R\" 1 -> 0 when \"ERBB2_3\"=1]"
      ]
     },
     "execution_count": 8,
     "metadata": {},
     "output_type": "execute_result"
    }
   ],
   "source": [
    "erbb.bifurcations(\"IGF1R=1\", method=\"exact\")"
   ]
  },
  {
   "cell_type": "code",
   "execution_count": null,
   "metadata": {
    "collapsed": true
   },
   "outputs": [],
   "source": []
  }
 ],
 "metadata": {
  "kernelspec": {
   "display_name": "Python 3",
   "language": "python",
   "name": "python3"
  },
  "language_info": {
   "codemirror_mode": {
    "name": "ipython",
    "version": 3
   },
   "file_extension": ".py",
   "mimetype": "text/x-python",
   "name": "python",
   "nbconvert_exporter": "python",
   "pygments_lexer": "ipython3",
   "version": "3.5.2"
  }
 },
 "nbformat": 4,
 "nbformat_minor": 1
}
