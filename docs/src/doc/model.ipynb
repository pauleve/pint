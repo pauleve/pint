{
 "cells": [
  {
   "cell_type": "raw",
   "metadata": {
    "deletable": true,
    "editable": true,
    "raw_mimetype": "text/restructuredtext"
   },
   "source": [
    ":part: doc-python"
   ]
  },
  {
   "cell_type": "code",
   "execution_count": 1,
   "metadata": {
    "collapsed": false,
    "deletable": true,
    "editable": true,
    "nbsphinx": "hidden"
   },
   "outputs": [
    {
     "data": {
      "text/markdown": [
       "You are using Pint version 2016-12-15 and pypint 1.0rc2"
      ],
      "text/plain": [
       "<IPython.core.display.Markdown object>"
      ]
     },
     "metadata": {},
     "output_type": "display_data"
    }
   ],
   "source": [
    "import pypint"
   ]
  },
  {
   "cell_type": "markdown",
   "metadata": {
    "deletable": true,
    "editable": true
   },
   "source": [
    "## Model input"
   ]
  },
  {
   "cell_type": "raw",
   "metadata": {
    "deletable": true,
    "editable": true,
    "raw_mimetype": "text/restructuredtext"
   },
   "source": [
    ".. contents:: Content\n",
    "    :local:\n",
    "    \n",
    "Pint relies on :ref:`doc-automata-networks` framework which encompasses asynchronous Boolean and multi-valued networks.\n",
    "\n",
    "The python module allows a seamless importation of models in different file formats. The conversion is made automatically and is ensured to be exact. The next sections show how to load a model, access and update its initial state, and saving and exporting to different formats. Finally, we show how to get basic informations on the automata network model."
   ]
  },
  {
   "cell_type": "markdown",
   "metadata": {
    "deletable": true,
    "editable": true
   },
   "source": [
    "### Loading a model"
   ]
  },
  {
   "cell_type": "raw",
   "metadata": {
    "deletable": true,
    "editable": true,
    "raw_mimetype": "text/restructuredtext"
   },
   "source": [
    "Pint supports multiple formats for specifying Boolean and multi-valued networks, in particular SBML-qual and GINsim.\n",
    "Most of the conversions are performed using `BioLQM <https://github.com/colomoto/bioLQM>`_.\n",
    "See :py:func:`.load` for the full list of supported formats. If you are missing one, please `open an issue <https://github.com/pauleve/pint/issues>`_."
   ]
  },
  {
   "cell_type": "markdown",
   "metadata": {
    "deletable": true,
    "editable": true
   },
   "source": [
    "The loading of a model is done with the function `pypint.load` which returns an abstract object representing the automata network. The format is guessed from the file extension.\n",
    "\n",
    "The argument can either be a local path to a file, or a URL which will be downloaded prior to loading:"
   ]
  },
  {
   "cell_type": "code",
   "execution_count": 2,
   "metadata": {
    "collapsed": false,
    "deletable": true,
    "editable": true
   },
   "outputs": [
    {
     "data": {
      "text/markdown": [
       "Downloading 'http://ginsim.org/sites/default/files/drosophilaCellCycleVariants.zginml' to 'gen/pintaa2rr28wdrosophilaCellCycleVariants.zginml'"
      ],
      "text/plain": [
       "<IPython.core.display.Markdown object>"
      ]
     },
     "metadata": {},
     "output_type": "display_data"
    },
    {
     "data": {
      "text/markdown": [
       "Source file is in zginml format, importing with logicalmodel"
      ],
      "text/plain": [
       "<IPython.core.display.Markdown object>"
      ]
     },
     "metadata": {},
     "output_type": "display_data"
    },
    {
     "data": {
      "text/markdown": [
       "Invoking GINsim..."
      ],
      "text/plain": [
       "<IPython.core.display.Markdown object>"
      ]
     },
     "metadata": {},
     "output_type": "display_data"
    },
    {
     "data": {
      "text/markdown": [
       "Simplifying model..."
      ],
      "text/plain": [
       "<IPython.core.display.Markdown object>"
      ]
     },
     "metadata": {},
     "output_type": "display_data"
    },
    {
     "data": {
      "text/html": [
       "<a href='gen/pinthg0bfqmkdrosophilaCellCycleVariants.an' target='_blank'>gen/pinthg0bfqmkdrosophilaCellCycleVariants.an</a><br>"
      ],
      "text/plain": [
       "/home/pauleve/rech/pint/docs/src/doc/gen/pinthg0bfqmkdrosophilaCellCycleVariants.an"
      ]
     },
     "metadata": {},
     "output_type": "display_data"
    },
    {
     "data": {
      "text/markdown": [
       "6 state(s) have been registered: NoCycD_Endocycle, G0, Cycle_Init, Syncytial_Cycles, Ago_Endocycle, Endocycle_init"
      ],
      "text/plain": [
       "<IPython.core.display.Markdown object>"
      ]
     },
     "metadata": {},
     "output_type": "display_data"
    }
   ],
   "source": [
    "m = pypint.load(\"http://ginsim.org/sites/default/files/drosophilaCellCycleVariants.zginml\")"
   ]
  },
  {
   "cell_type": "markdown",
   "metadata": {
    "deletable": true,
    "editable": true
   },
   "source": [
    "The `load` function also supports importing models from [CellCollective](http://cellcollective.org) simply by supplying the URL to the model repository:"
   ]
  },
  {
   "cell_type": "code",
   "execution_count": 3,
   "metadata": {
    "collapsed": false,
    "deletable": true,
    "editable": true
   },
   "outputs": [
    {
     "data": {
      "text/markdown": [
       "Downloading 'http://api.cellcollective.org/model/export/4705?type=SBML' to 'gen/pintcjqoq6wr4705.zip'"
      ],
      "text/plain": [
       "<IPython.core.display.Markdown object>"
      ]
     },
     "metadata": {},
     "output_type": "display_data"
    },
    {
     "data": {
      "text/markdown": [
       "Source file is in sbml format, importing with logicalmodel"
      ],
      "text/plain": [
       "<IPython.core.display.Markdown object>"
      ]
     },
     "metadata": {},
     "output_type": "display_data"
    },
    {
     "data": {
      "text/markdown": [
       "Simplifying model..."
      ],
      "text/plain": [
       "<IPython.core.display.Markdown object>"
      ]
     },
     "metadata": {},
     "output_type": "display_data"
    },
    {
     "data": {
      "text/html": [
       "<a href='gen/pint1rjmd87_4705.an' target='_blank'>gen/pint1rjmd87_4705.an</a><br>"
      ],
      "text/plain": [
       "/home/pauleve/rech/pint/docs/src/doc/gen/pint1rjmd87_4705.an"
      ]
     },
     "metadata": {},
     "output_type": "display_data"
    }
   ],
   "source": [
    "m2 = pypint.load(\"https://cellcollective.org/#4705/septation-initiation-network\")"
   ]
  },
  {
   "cell_type": "markdown",
   "metadata": {
    "deletable": true,
    "editable": true
   },
   "source": [
    "Finally, within the Jupyter notebook web interface, a model can be uploaded by calling `load` without any argument. Once the file selected, it will be uploaded in the notebook, and loaded as a local file."
   ]
  },
  {
   "cell_type": "code",
   "execution_count": 4,
   "metadata": {
    "collapsed": false,
    "deletable": true,
    "editable": true
   },
   "outputs": [
    {
     "data": {
      "text/html": [
       "<input type=\"file\" id=\"pint-loading-4849603\"\n",
       "                   onchange=\"load_with_upload(Jupyter, 'pint-loading-4849603', this)\">"
      ],
      "text/plain": [
       "<IPython.core.display.HTML object>"
      ]
     },
     "metadata": {},
     "output_type": "display_data"
    }
   ],
   "source": [
    "m3 = pypint.load()"
   ]
  },
  {
   "cell_type": "markdown",
   "metadata": {
    "deletable": true,
    "editable": true
   },
   "source": [
    "### Initial state\n",
    "\n",
    "An automata network comes with an initial state, associating to each automaton its starting local state.\n",
    "Some formats, such as GINsim, allow to define different states that are identified with a name. In such a case, the `load` function displays the registered states.\n",
    "\n",
    "The initial state of a model `m` is accessed using `m.initial_state`. It is a dict-like object which supports updating."
   ]
  },
  {
   "cell_type": "code",
   "execution_count": 5,
   "metadata": {
    "collapsed": false,
    "deletable": true,
    "editable": true
   },
   "outputs": [
    {
     "data": {
      "text/plain": [
       "{'Ago': 0,\n",
       " 'CycA': 0,\n",
       " 'CycB': 0,\n",
       " 'CycD': 0,\n",
       " 'CycE': 0,\n",
       " 'Dap': 0,\n",
       " 'E2F': 0,\n",
       " 'Fzr': 0,\n",
       " 'Fzy': 0,\n",
       " 'Notch': 0,\n",
       " 'Rb': 0,\n",
       " 'Rux': 0,\n",
       " 'Stg': 0,\n",
       " 'Wee1': 0}"
      ]
     },
     "execution_count": 5,
     "metadata": {},
     "output_type": "execute_result"
    }
   ],
   "source": [
    "m.initial_state"
   ]
  },
  {
   "cell_type": "code",
   "execution_count": 6,
   "metadata": {
    "collapsed": false,
    "deletable": true,
    "editable": true
   },
   "outputs": [
    {
     "data": {
      "text/plain": [
       "{'CycE': 1}"
      ]
     },
     "execution_count": 6,
     "metadata": {},
     "output_type": "execute_result"
    }
   ],
   "source": [
    "m.initial_state[\"CycE\"] = 1  # modification of the initial state\n",
    "m.initial_state.nonzeros()   # display only initial automata local states different from 0"
   ]
  },
  {
   "cell_type": "markdown",
   "metadata": {
    "deletable": true,
    "editable": true
   },
   "source": [
    "Registered states are stored in `m.named_states` and can be directly assigned as the initial state:"
   ]
  },
  {
   "cell_type": "code",
   "execution_count": 7,
   "metadata": {
    "collapsed": false,
    "deletable": true,
    "editable": true
   },
   "outputs": [
    {
     "data": {
      "text/plain": [
       "{'Dap': 1, 'Fzr': 1, 'Notch': 1, 'Rb': 1, 'Rux': 1}"
      ]
     },
     "execution_count": 7,
     "metadata": {},
     "output_type": "execute_result"
    }
   ],
   "source": [
    "m.initial_state = m.named_states[\"NoCycD_Endocycle\"]\n",
    "m.initial_state.changes() # display changes since the default initial state of the model"
   ]
  },
  {
   "cell_type": "raw",
   "metadata": {
    "collapsed": false,
    "deletable": true,
    "editable": true,
    "raw_mimetype": "text/restructuredtext"
   },
   "source": [
    "Instead of modifying *in-place* the model, one can use the method :py:meth:`.Model.having` to create a new copy of the model with supplied initial state modifications:"
   ]
  },
  {
   "cell_type": "code",
   "execution_count": 8,
   "metadata": {
    "collapsed": false,
    "deletable": true,
    "editable": true
   },
   "outputs": [],
   "source": [
    "m.initial_state.reset()    # restore to default initial state\n",
    "m2 = m.having(CycE=1)      # having can take keyword arguments\n",
    "m2 = m.having({\"Notch\": 1, \"Stg\": 1})   # .. or a dictionnary\n",
    "m2 = m.having(\"NoCycD_Endocycle\")       # .. or the name of a registered state"
   ]
  },
  {
   "cell_type": "markdown",
   "metadata": {
    "deletable": true,
    "editable": true
   },
   "source": [
    "### Saving and exporting\n",
    "\n",
    "A model can be saved to a local file, in Pint native format:"
   ]
  },
  {
   "cell_type": "code",
   "execution_count": 9,
   "metadata": {
    "collapsed": false,
    "deletable": true,
    "editable": true
   },
   "outputs": [
    {
     "data": {
      "text/html": [
       "<a href='models/demo_droso.an' target='_blank'>models/demo_droso.an</a><br>"
      ],
      "text/plain": [
       "/home/pauleve/rech/pint/docs/src/doc/models/demo_droso.an"
      ]
     },
     "execution_count": 9,
     "metadata": {},
     "output_type": "execute_result"
    }
   ],
   "source": [
    "m.save_as(\"models/demo_droso.an\")"
   ]
  },
  {
   "cell_type": "raw",
   "metadata": {
    "deletable": true,
    "editable": true,
    "raw_mimetype": "text/restructuredtext"
   },
   "source": [
    "Pint can also export the model to different formats, such as Petri net (PEP format with ``.ll`` extension or ROMEO with ``.xml`` extension) and NuSMV (``.smv``). See :py:data:`.EXPORT_SUPPORTED_EXTENSIONS` for the full list of supported exportation format."
   ]
  },
  {
   "cell_type": "markdown",
   "metadata": {
    "deletable": true,
    "editable": true
   },
   "source": [
    "### Model description\n",
    "\n",
    "Basic statistics on the model can be obtained with the ``summary`` method:"
   ]
  },
  {
   "cell_type": "code",
   "execution_count": 10,
   "metadata": {
    "collapsed": false,
    "deletable": true,
    "editable": true
   },
   "outputs": [
    {
     "data": {
      "text/plain": [
       "{'max_local_states': 2,\n",
       " 'nb_automata': 14,\n",
       " 'nb_local_states': 28,\n",
       " 'nb_states': 16384,\n",
       " 'nb_transitions': 61}"
      ]
     },
     "execution_count": 10,
     "metadata": {},
     "output_type": "execute_result"
    }
   ],
   "source": [
    "m.summary()"
   ]
  },
  {
   "cell_type": "markdown",
   "metadata": {
    "deletable": true,
    "editable": true
   },
   "source": [
    "* `max_local_states` gives the number of local states of the largest automaton;\n",
    "* `nb_automata` is self explanatory\n",
    "* `nb_local_states` is the sum of the number of local states in each automaton\n",
    "* `nb_states` is the total number of global states (in our example, it corresponds to 2^14)\n",
    "* `nb_transitions` is the number of defined local transitions\n",
    "\n",
    "The list of automata and their local states and transitions can be accessed as follows:"
   ]
  },
  {
   "cell_type": "code",
   "execution_count": 11,
   "metadata": {
    "collapsed": false,
    "deletable": true,
    "editable": true
   },
   "outputs": [
    {
     "data": {
      "text/plain": [
       "['Ago',\n",
       " 'CycA',\n",
       " 'CycB',\n",
       " 'CycD',\n",
       " 'CycE',\n",
       " 'Dap',\n",
       " 'E2F',\n",
       " 'Fzr',\n",
       " 'Fzy',\n",
       " 'Notch',\n",
       " 'Rb',\n",
       " 'Rux',\n",
       " 'Stg',\n",
       " 'Wee1']"
      ]
     },
     "execution_count": 11,
     "metadata": {},
     "output_type": "execute_result"
    }
   ],
   "source": [
    "m.automata"
   ]
  },
  {
   "cell_type": "code",
   "execution_count": 12,
   "metadata": {
    "collapsed": false,
    "deletable": true,
    "editable": true
   },
   "outputs": [
    {
     "data": {
      "text/plain": [
       "{'Ago': [0, 1],\n",
       " 'CycA': [0, 1],\n",
       " 'CycB': [0, 1],\n",
       " 'CycD': [0, 1],\n",
       " 'CycE': [0, 1],\n",
       " 'Dap': [0, 1],\n",
       " 'E2F': [0, 1],\n",
       " 'Fzr': [0, 1],\n",
       " 'Fzy': [0, 1],\n",
       " 'Notch': [0, 1],\n",
       " 'Rb': [0, 1],\n",
       " 'Rux': [0, 1],\n",
       " 'Stg': [0, 1],\n",
       " 'Wee1': [0, 1]}"
      ]
     },
     "execution_count": 12,
     "metadata": {},
     "output_type": "execute_result"
    }
   ],
   "source": [
    "m.local_states"
   ]
  },
  {
   "cell_type": "code",
   "execution_count": 13,
   "metadata": {
    "collapsed": false,
    "deletable": true,
    "editable": true
   },
   "outputs": [
    {
     "data": {
      "text/plain": [
       "[\"Ago\" 1 -> 0,\n",
       " \"Dap\" 1 -> 0 when \"CycE\"=0 and \"Notch\"=1,\n",
       " \"CycA\" 1 -> 0 when \"Rb\"=0 and \"E2F\"=0,\n",
       " \"CycA\" 1 -> 0 when \"Rb\"=0 and \"E2F\"=1 and \"Fzr\"=1 and \"Fzy\"=0,\n",
       " \"CycA\" 1 -> 0 when \"Rb\"=0 and \"E2F\"=1 and \"Fzy\"=1]"
      ]
     },
     "execution_count": 13,
     "metadata": {},
     "output_type": "execute_result"
    }
   ],
   "source": [
    "m.local_transitions[:5]"
   ]
  },
  {
   "cell_type": "raw",
   "metadata": {
    "deletable": true,
    "editable": true,
    "raw_mimetype": "text/restructuredtext"
   },
   "source": [
    "This later list is actually composed of :py:class:`.LocalTransition` and :py:class:`.SynchronizedLocalTransitions` objects. It allows for further programmatic treatment.\n",
    "\n",
    "Finally, the method :py:meth:`.dependency_graph` returns a directed graph among automata, where an edge from `b` to `a` means that at least one transition of `a` depends on the local state of `b`. The returned object is a `NetworkX digraph <http://networkx.readthedocs.io/en/stable/reference/classes.digraph.html>`_ which can be further manipulated, or directly displayed in the jupyter notebook:"
   ]
  },
  {
   "cell_type": "code",
   "execution_count": 14,
   "metadata": {
    "collapsed": false,
    "deletable": true,
    "editable": true
   },
   "outputs": [
    {
     "data": {
      "image/svg+xml": [
       "<?xml version=\"1.0\" encoding=\"UTF-8\" standalone=\"no\"?>\n",
       "<!DOCTYPE svg PUBLIC \"-//W3C//DTD SVG 1.1//EN\"\n",
       " \"http://www.w3.org/Graphics/SVG/1.1/DTD/svg11.dtd\">\n",
       "<!-- Generated by graphviz version 2.38.0 (20140413.2041)\n",
       " -->\n",
       "<!-- Pages: 1 -->\n",
       "<svg width=\"678pt\" height=\"476pt\"\n",
       " viewBox=\"0.00 0.00 678.00 476.00\" xmlns=\"http://www.w3.org/2000/svg\" xmlns:xlink=\"http://www.w3.org/1999/xlink\">\n",
       "<g id=\"graph0\" class=\"graph\" transform=\"scale(1 1) rotate(0) translate(4 472)\">\n",
       "<polygon fill=\"white\" stroke=\"none\" points=\"-4,4 -4,-472 674,-472 674,4 -4,4\"/>\n",
       "<!-- CycB -->\n",
       "<g id=\"node1\" class=\"node\"><title>CycB</title>\n",
       "<ellipse fill=\"none\" stroke=\"black\" cx=\"523\" cy=\"-450\" rx=\"30.5947\" ry=\"18\"/>\n",
       "<text text-anchor=\"middle\" x=\"523\" y=\"-446.3\" font-family=\"Times,serif\" font-size=\"14.00\">CycB</text>\n",
       "</g>\n",
       "<!-- Rux -->\n",
       "<g id=\"node3\" class=\"node\"><title>Rux</title>\n",
       "<ellipse fill=\"none\" stroke=\"black\" cx=\"347\" cy=\"-378\" rx=\"27\" ry=\"18\"/>\n",
       "<text text-anchor=\"middle\" x=\"347\" y=\"-374.3\" font-family=\"Times,serif\" font-size=\"14.00\">Rux</text>\n",
       "</g>\n",
       "<!-- CycB&#45;&gt;Rux -->\n",
       "<g id=\"edge7\" class=\"edge\"><title>CycB&#45;&gt;Rux</title>\n",
       "<path fill=\"none\" stroke=\"black\" d=\"M498.157,-439.119C467.024,-426.737 413.599,-405.488 379.315,-391.853\"/>\n",
       "<polygon fill=\"black\" stroke=\"black\" points=\"380.347,-388.496 369.762,-388.053 377.76,-395.001 380.347,-388.496\"/>\n",
       "</g>\n",
       "<!-- Rb -->\n",
       "<g id=\"node4\" class=\"node\"><title>Rb</title>\n",
       "<ellipse fill=\"none\" stroke=\"black\" cx=\"235\" cy=\"-306\" rx=\"27\" ry=\"18\"/>\n",
       "<text text-anchor=\"middle\" x=\"235\" y=\"-302.3\" font-family=\"Times,serif\" font-size=\"14.00\">Rb</text>\n",
       "</g>\n",
       "<!-- CycB&#45;&gt;Rb -->\n",
       "<g id=\"edge1\" class=\"edge\"><title>CycB&#45;&gt;Rb</title>\n",
       "<path fill=\"none\" stroke=\"black\" d=\"M492.669,-447.204C449.379,-443.421 368.734,-431.756 311,-396 284.968,-379.878 263.248,-351.896 249.785,-331.604\"/>\n",
       "<polygon fill=\"black\" stroke=\"black\" points=\"252.712,-329.685 244.363,-323.164 246.823,-333.469 252.712,-329.685\"/>\n",
       "</g>\n",
       "<!-- E2F -->\n",
       "<g id=\"node9\" class=\"node\"><title>E2F</title>\n",
       "<ellipse fill=\"none\" stroke=\"black\" cx=\"290\" cy=\"-162\" rx=\"27\" ry=\"18\"/>\n",
       "<text text-anchor=\"middle\" x=\"290\" y=\"-158.3\" font-family=\"Times,serif\" font-size=\"14.00\">E2F</text>\n",
       "</g>\n",
       "<!-- CycB&#45;&gt;E2F -->\n",
       "<g id=\"edge2\" class=\"edge\"><title>CycB&#45;&gt;E2F</title>\n",
       "<path fill=\"none\" stroke=\"black\" d=\"M492.268,-449.703C420.658,-449.395 245.27,-436.819 199,-324 177.006,-270.373 231.285,-212.317 265.201,-182.746\"/>\n",
       "<polygon fill=\"black\" stroke=\"black\" points=\"267.555,-185.339 272.915,-176.2 263.026,-180.001 267.555,-185.339\"/>\n",
       "</g>\n",
       "<!-- Fzr -->\n",
       "<g id=\"node10\" class=\"node\"><title>Fzr</title>\n",
       "<ellipse fill=\"none\" stroke=\"black\" cx=\"567\" cy=\"-18\" rx=\"27\" ry=\"18\"/>\n",
       "<text text-anchor=\"middle\" x=\"567\" y=\"-14.3\" font-family=\"Times,serif\" font-size=\"14.00\">Fzr</text>\n",
       "</g>\n",
       "<!-- CycB&#45;&gt;Fzr -->\n",
       "<g id=\"edge3\" class=\"edge\"><title>CycB&#45;&gt;Fzr</title>\n",
       "<path fill=\"none\" stroke=\"black\" d=\"M543.95,-436.631C580.709,-415.937 652,-370.253 652,-307 652,-307 652,-307 652,-161 652,-111.968 612.55,-66.8703 587.211,-41.1867\"/>\n",
       "<polygon fill=\"black\" stroke=\"black\" points=\"589.412,-38.4388 579.859,-33.8564 584.469,-43.3957 589.412,-38.4388\"/>\n",
       "</g>\n",
       "<!-- Fzy -->\n",
       "<g id=\"node11\" class=\"node\"><title>Fzy</title>\n",
       "<ellipse fill=\"none\" stroke=\"black\" cx=\"459\" cy=\"-306\" rx=\"27\" ry=\"18\"/>\n",
       "<text text-anchor=\"middle\" x=\"459\" y=\"-302.3\" font-family=\"Times,serif\" font-size=\"14.00\">Fzy</text>\n",
       "</g>\n",
       "<!-- CycB&#45;&gt;Fzy -->\n",
       "<g id=\"edge4\" class=\"edge\"><title>CycB&#45;&gt;Fzy</title>\n",
       "<path fill=\"none\" stroke=\"black\" d=\"M511.474,-433.261C497.926,-409.232 476.808,-363.103 465.643,-333.752\"/>\n",
       "<polygon fill=\"black\" stroke=\"black\" points=\"468.85,-332.33 462.137,-324.133 462.273,-334.727 468.85,-332.33\"/>\n",
       "</g>\n",
       "<!-- Wee1 -->\n",
       "<g id=\"node12\" class=\"node\"><title>Wee1</title>\n",
       "<ellipse fill=\"none\" stroke=\"black\" cx=\"592\" cy=\"-306\" rx=\"31.6951\" ry=\"18\"/>\n",
       "<text text-anchor=\"middle\" x=\"592\" y=\"-302.3\" font-family=\"Times,serif\" font-size=\"14.00\">Wee1</text>\n",
       "</g>\n",
       "<!-- CycB&#45;&gt;Wee1 -->\n",
       "<g id=\"edge5\" class=\"edge\"><title>CycB&#45;&gt;Wee1</title>\n",
       "<path fill=\"none\" stroke=\"black\" d=\"M526.739,-431.871C536.213,-406.953 558.526,-360.557 574.637,-331.872\"/>\n",
       "<polygon fill=\"black\" stroke=\"black\" points=\"577.86,-333.289 579.835,-322.88 571.8,-329.786 577.86,-333.289\"/>\n",
       "</g>\n",
       "<!-- Stg -->\n",
       "<g id=\"node13\" class=\"node\"><title>Stg</title>\n",
       "<ellipse fill=\"none\" stroke=\"black\" cx=\"388\" cy=\"-90\" rx=\"27\" ry=\"18\"/>\n",
       "<text text-anchor=\"middle\" x=\"388\" y=\"-86.3\" font-family=\"Times,serif\" font-size=\"14.00\">Stg</text>\n",
       "</g>\n",
       "<!-- CycB&#45;&gt;Stg -->\n",
       "<g id=\"edge6\" class=\"edge\"><title>CycB&#45;&gt;Stg</title>\n",
       "<path fill=\"none\" stroke=\"black\" d=\"M516.493,-432.095C510.486,-402.263 503.623,-338.642 486,-288 463.22,-222.538 420.354,-152.82 399.401,-116.445\"/>\n",
       "<polygon fill=\"black\" stroke=\"black\" points=\"402.316,-114.491 394.338,-107.52 396.227,-117.945 402.316,-114.491\"/>\n",
       "</g>\n",
       "<!-- CycD -->\n",
       "<g id=\"node2\" class=\"node\"><title>CycD</title>\n",
       "<ellipse fill=\"none\" stroke=\"black\" cx=\"216\" cy=\"-450\" rx=\"31.3957\" ry=\"18\"/>\n",
       "<text text-anchor=\"middle\" x=\"216\" y=\"-446.3\" font-family=\"Times,serif\" font-size=\"14.00\">CycD</text>\n",
       "</g>\n",
       "<!-- CycD&#45;&gt;Rux -->\n",
       "<g id=\"edge9\" class=\"edge\"><title>CycD&#45;&gt;Rux</title>\n",
       "<path fill=\"none\" stroke=\"black\" d=\"M238.222,-437.125C260.004,-425.486 293.344,-407.671 317.371,-394.832\"/>\n",
       "<polygon fill=\"black\" stroke=\"black\" points=\"319.228,-397.808 326.398,-390.008 315.929,-391.634 319.228,-397.808\"/>\n",
       "</g>\n",
       "<!-- CycD&#45;&gt;Rb -->\n",
       "<g id=\"edge8\" class=\"edge\"><title>CycD&#45;&gt;Rb</title>\n",
       "<path fill=\"none\" stroke=\"black\" d=\"M218.292,-431.871C221.53,-407.67 227.479,-363.211 231.335,-334.393\"/>\n",
       "<polygon fill=\"black\" stroke=\"black\" points=\"234.843,-334.565 232.7,-324.189 227.905,-333.637 234.843,-334.565\"/>\n",
       "</g>\n",
       "<!-- Rux&#45;&gt;Rb -->\n",
       "<g id=\"edge10\" class=\"edge\"><title>Rux&#45;&gt;Rb</title>\n",
       "<path fill=\"none\" stroke=\"black\" d=\"M328.001,-365.125C310.06,-353.913 282.949,-336.968 262.62,-324.263\"/>\n",
       "<polygon fill=\"black\" stroke=\"black\" points=\"264.427,-321.265 254.092,-318.933 260.717,-327.201 264.427,-321.265\"/>\n",
       "</g>\n",
       "<!-- Rux&#45;&gt;E2F -->\n",
       "<g id=\"edge11\" class=\"edge\"><title>Rux&#45;&gt;E2F</title>\n",
       "<path fill=\"none\" stroke=\"black\" d=\"M341.378,-360.146C333.523,-336.254 319.095,-291.091 309,-252 303.7,-231.477 298.737,-208.023 295.213,-190.345\"/>\n",
       "<polygon fill=\"black\" stroke=\"black\" points=\"298.575,-189.301 293.215,-180.163 291.706,-190.649 298.575,-189.301\"/>\n",
       "</g>\n",
       "<!-- Rux&#45;&gt;Fzr -->\n",
       "<g id=\"edge12\" class=\"edge\"><title>Rux&#45;&gt;Fzr</title>\n",
       "<path fill=\"none\" stroke=\"black\" d=\"M359.264,-361.766C377.081,-339.787 409.471,-300.453 423,-288 483.441,-232.364 525.584,-247.084 573,-180 601.224,-140.069 605.414,-119.548 594,-72 591.663,-62.2662 587.225,-52.3046 582.612,-43.6835\"/>\n",
       "<polygon fill=\"black\" stroke=\"black\" points=\"585.617,-41.8879 577.628,-34.9289 579.534,-45.351 585.617,-41.8879\"/>\n",
       "</g>\n",
       "<!-- Rux&#45;&gt;Fzy -->\n",
       "<g id=\"edge13\" class=\"edge\"><title>Rux&#45;&gt;Fzy</title>\n",
       "<path fill=\"none\" stroke=\"black\" d=\"M365.999,-365.125C383.94,-353.913 411.051,-336.968 431.38,-324.263\"/>\n",
       "<polygon fill=\"black\" stroke=\"black\" points=\"433.283,-327.201 439.908,-318.933 429.573,-321.265 433.283,-327.201\"/>\n",
       "</g>\n",
       "<!-- Rux&#45;&gt;Wee1 -->\n",
       "<g id=\"edge14\" class=\"edge\"><title>Rux&#45;&gt;Wee1</title>\n",
       "<path fill=\"none\" stroke=\"black\" d=\"M371.387,-370.032C414.279,-357.777 503.483,-332.291 554.342,-317.759\"/>\n",
       "<polygon fill=\"black\" stroke=\"black\" points=\"555.324,-321.119 563.977,-315.006 553.401,-314.388 555.324,-321.119\"/>\n",
       "</g>\n",
       "<!-- Rux&#45;&gt;Stg -->\n",
       "<g id=\"edge15\" class=\"edge\"><title>Rux&#45;&gt;Stg</title>\n",
       "<path fill=\"none\" stroke=\"black\" d=\"M354.49,-360.459C364.688,-336.939 382.424,-292.217 389,-252 396.618,-205.406 393.748,-150.21 390.914,-118.046\"/>\n",
       "<polygon fill=\"black\" stroke=\"black\" points=\"394.396,-117.692 389.969,-108.067 387.427,-118.352 394.396,-117.692\"/>\n",
       "</g>\n",
       "<!-- CycA -->\n",
       "<g id=\"node6\" class=\"node\"><title>CycA</title>\n",
       "<ellipse fill=\"none\" stroke=\"black\" cx=\"349\" cy=\"-234\" rx=\"31.3957\" ry=\"18\"/>\n",
       "<text text-anchor=\"middle\" x=\"349\" y=\"-230.3\" font-family=\"Times,serif\" font-size=\"14.00\">CycA</text>\n",
       "</g>\n",
       "<!-- Rb&#45;&gt;CycA -->\n",
       "<g id=\"edge18\" class=\"edge\"><title>Rb&#45;&gt;CycA</title>\n",
       "<path fill=\"none\" stroke=\"black\" d=\"M251.522,-291.503C268.712,-279.962 295.694,-263.328 317.003,-251.095\"/>\n",
       "<polygon fill=\"black\" stroke=\"black\" points=\"318.763,-254.12 325.743,-246.15 315.316,-248.028 318.763,-254.12\"/>\n",
       "</g>\n",
       "<!-- CycE -->\n",
       "<g id=\"node8\" class=\"node\"><title>CycE</title>\n",
       "<ellipse fill=\"none\" stroke=\"black\" cx=\"129\" cy=\"-90\" rx=\"30.5947\" ry=\"18\"/>\n",
       "<text text-anchor=\"middle\" x=\"129\" y=\"-86.3\" font-family=\"Times,serif\" font-size=\"14.00\">CycE</text>\n",
       "</g>\n",
       "<!-- Rb&#45;&gt;CycE -->\n",
       "<g id=\"edge19\" class=\"edge\"><title>Rb&#45;&gt;CycE</title>\n",
       "<path fill=\"none\" stroke=\"black\" d=\"M211.185,-297.277C192.011,-288.693 166.66,-273.195 153,-252 126.36,-210.666 120.633,-152.015 122.481,-118.098\"/>\n",
       "<polygon fill=\"black\" stroke=\"black\" points=\"125.979,-118.266 123.33,-108.008 119.004,-117.679 125.979,-118.266\"/>\n",
       "</g>\n",
       "<!-- Rb&#45;&gt;E2F -->\n",
       "<g id=\"edge17\" class=\"edge\"><title>Rb&#45;&gt;E2F</title>\n",
       "<path fill=\"none\" stroke=\"black\" d=\"M241.417,-288.433C250.846,-264.088 268.541,-218.404 279.774,-189.402\"/>\n",
       "<polygon fill=\"black\" stroke=\"black\" points=\"283.105,-190.491 283.454,-179.902 276.578,-187.963 283.105,-190.491\"/>\n",
       "</g>\n",
       "<!-- Rb&#45;&gt;Stg -->\n",
       "<g id=\"edge16\" class=\"edge\"><title>Rb&#45;&gt;Stg</title>\n",
       "<path fill=\"none\" stroke=\"black\" d=\"M231.79,-287.874C226.836,-255.977 221.047,-186.829 254,-144 277.232,-113.805 320.242,-100.779 351.279,-95.1808\"/>\n",
       "<polygon fill=\"black\" stroke=\"black\" points=\"351.99,-98.6112 361.299,-93.5528 350.867,-91.7018 351.99,-98.6112\"/>\n",
       "</g>\n",
       "<!-- Dap -->\n",
       "<g id=\"node5\" class=\"node\"><title>Dap</title>\n",
       "<ellipse fill=\"none\" stroke=\"black\" cx=\"129\" cy=\"-18\" rx=\"27\" ry=\"18\"/>\n",
       "<text text-anchor=\"middle\" x=\"129\" y=\"-14.3\" font-family=\"Times,serif\" font-size=\"14.00\">Dap</text>\n",
       "</g>\n",
       "<!-- Dap&#45;&gt;CycE -->\n",
       "<g id=\"edge20\" class=\"edge\"><title>Dap&#45;&gt;CycE</title>\n",
       "<path fill=\"none\" stroke=\"black\" d=\"M134.862,-35.789C135.7,-43.5912 135.945,-53.067 135.597,-61.8479\"/>\n",
       "<polygon fill=\"black\" stroke=\"black\" points=\"132.089,-61.8338 134.878,-72.055 139.072,-62.3255 132.089,-61.8338\"/>\n",
       "</g>\n",
       "<!-- CycA&#45;&gt;Rux -->\n",
       "<g id=\"edge24\" class=\"edge\"><title>CycA&#45;&gt;Rux</title>\n",
       "<path fill=\"none\" stroke=\"black\" d=\"M348.758,-252.189C348.417,-276.424 347.79,-320.888 347.385,-349.679\"/>\n",
       "<polygon fill=\"black\" stroke=\"black\" points=\"343.883,-349.823 347.241,-359.871 350.882,-349.922 343.883,-349.823\"/>\n",
       "</g>\n",
       "<!-- CycA&#45;&gt;Rb -->\n",
       "<g id=\"edge21\" class=\"edge\"><title>CycA&#45;&gt;Rb</title>\n",
       "<path fill=\"none\" stroke=\"black\" d=\"M331.632,-249.064C313.988,-260.861 286.651,-277.677 265.458,-289.786\"/>\n",
       "<polygon fill=\"black\" stroke=\"black\" points=\"263.505,-286.869 256.505,-294.821 266.937,-292.97 263.505,-286.869\"/>\n",
       "</g>\n",
       "<!-- CycA&#45;&gt;E2F -->\n",
       "<g id=\"edge22\" class=\"edge\"><title>CycA&#45;&gt;E2F</title>\n",
       "<path fill=\"none\" stroke=\"black\" d=\"M331.512,-218.834C322.723,-209.819 312.374,-197.904 304.096,-187.396\"/>\n",
       "<polygon fill=\"black\" stroke=\"black\" points=\"306.814,-185.188 297.97,-179.354 301.245,-189.43 306.814,-185.188\"/>\n",
       "</g>\n",
       "<!-- CycA&#45;&gt;Fzr -->\n",
       "<g id=\"edge23\" class=\"edge\"><title>CycA&#45;&gt;Fzr</title>\n",
       "<path fill=\"none\" stroke=\"black\" d=\"M380.414,-233.653C421.22,-232.211 491.284,-222.788 530,-180 563.294,-143.204 564.164,-81.5335 564.244,-46.1545\"/>\n",
       "<polygon fill=\"black\" stroke=\"black\" points=\"567.744,-46.0876 564.279,-36.0756 560.744,-46.0635 567.744,-46.0876\"/>\n",
       "</g>\n",
       "<!-- Ago -->\n",
       "<g id=\"node7\" class=\"node\"><title>Ago</title>\n",
       "<ellipse fill=\"none\" stroke=\"black\" cx=\"27\" cy=\"-162\" rx=\"27\" ry=\"18\"/>\n",
       "<text text-anchor=\"middle\" x=\"27\" y=\"-158.3\" font-family=\"Times,serif\" font-size=\"14.00\">Ago</text>\n",
       "</g>\n",
       "<!-- Ago&#45;&gt;CycE -->\n",
       "<g id=\"edge25\" class=\"edge\"><title>Ago&#45;&gt;CycE</title>\n",
       "<path fill=\"none\" stroke=\"black\" d=\"M45.2356,-148.485C60.8952,-137.739 83.7019,-122.087 101.565,-109.828\"/>\n",
       "<polygon fill=\"black\" stroke=\"black\" points=\"103.619,-112.663 109.884,-104.119 99.6582,-106.892 103.619,-112.663\"/>\n",
       "</g>\n",
       "<!-- CycE&#45;&gt;Rux -->\n",
       "<g id=\"edge29\" class=\"edge\"><title>CycE&#45;&gt;Rux</title>\n",
       "<path fill=\"none\" stroke=\"black\" d=\"M126.645,-107.962C123.199,-138.429 119.425,-203.738 142,-252 159.293,-288.97 165.842,-300.202 199,-324 232.965,-348.377 279.274,-362.558 310.993,-370.016\"/>\n",
       "<polygon fill=\"black\" stroke=\"black\" points=\"310.628,-373.521 321.152,-372.293 312.159,-366.691 310.628,-373.521\"/>\n",
       "</g>\n",
       "<!-- CycE&#45;&gt;Rb -->\n",
       "<g id=\"edge27\" class=\"edge\"><title>CycE&#45;&gt;Rb</title>\n",
       "<path fill=\"none\" stroke=\"black\" d=\"M133.854,-108.008C137.638,-139.117 141.477,-206.192 171,-252 180.306,-266.44 195.039,-278.236 208.132,-287.002\"/>\n",
       "<polygon fill=\"black\" stroke=\"black\" points=\"206.539,-290.138 216.848,-292.583 210.314,-284.243 206.539,-290.138\"/>\n",
       "</g>\n",
       "<!-- CycE&#45;&gt;Dap -->\n",
       "<g id=\"edge26\" class=\"edge\"><title>CycE&#45;&gt;Dap</title>\n",
       "<path fill=\"none\" stroke=\"black\" d=\"M123.122,-72.055C122.291,-64.2306 122.054,-54.7484 122.41,-45.9768\"/>\n",
       "<polygon fill=\"black\" stroke=\"black\" points=\"125.916,-46.0131 123.138,-35.789 118.934,-45.514 125.916,-46.0131\"/>\n",
       "</g>\n",
       "<!-- CycE&#45;&gt;Fzr -->\n",
       "<g id=\"edge28\" class=\"edge\"><title>CycE&#45;&gt;Fzr</title>\n",
       "<path fill=\"none\" stroke=\"black\" d=\"M158.078,-84.3529C235.479,-71.9828 446.393,-38.275 531.09,-24.739\"/>\n",
       "<polygon fill=\"black\" stroke=\"black\" points=\"531.688,-28.188 541.01,-23.1536 530.583,-21.2757 531.688,-28.188\"/>\n",
       "</g>\n",
       "<!-- E2F&#45;&gt;CycA -->\n",
       "<g id=\"edge31\" class=\"edge\"><title>E2F&#45;&gt;CycA</title>\n",
       "<path fill=\"none\" stroke=\"black\" d=\"M306.984,-176.65C315.787,-185.629 326.247,-197.642 334.641,-208.27\"/>\n",
       "<polygon fill=\"black\" stroke=\"black\" points=\"332.007,-210.588 340.858,-216.411 337.57,-206.339 332.007,-210.588\"/>\n",
       "</g>\n",
       "<!-- E2F&#45;&gt;CycE -->\n",
       "<g id=\"edge32\" class=\"edge\"><title>E2F&#45;&gt;CycE</title>\n",
       "<path fill=\"none\" stroke=\"black\" d=\"M267.951,-151.414C240.635,-139.537 193.836,-119.19 162.177,-105.425\"/>\n",
       "<polygon fill=\"black\" stroke=\"black\" points=\"163.443,-102.159 152.877,-101.381 160.652,-108.578 163.443,-102.159\"/>\n",
       "</g>\n",
       "<!-- E2F&#45;&gt;Stg -->\n",
       "<g id=\"edge30\" class=\"edge\"><title>E2F&#45;&gt;Stg</title>\n",
       "<path fill=\"none\" stroke=\"black\" d=\"M307.975,-148.161C323.032,-137.405 344.73,-121.907 361.735,-109.761\"/>\n",
       "<polygon fill=\"black\" stroke=\"black\" points=\"364.036,-112.418 370.139,-103.758 359.968,-106.722 364.036,-112.418\"/>\n",
       "</g>\n",
       "<!-- Fzr&#45;&gt;CycB -->\n",
       "<g id=\"edge33\" class=\"edge\"><title>Fzr&#45;&gt;CycB</title>\n",
       "<path fill=\"none\" stroke=\"black\" d=\"M586.891,-30.5441C617.125,-52.7427 670,-104.235 670,-161 670,-307 670,-307 670,-307 670,-369.132 601.214,-414.312 557.602,-435.507\"/>\n",
       "<polygon fill=\"black\" stroke=\"black\" points=\"556.026,-432.38 548.446,-439.783 558.987,-438.723 556.026,-432.38\"/>\n",
       "</g>\n",
       "<!-- Fzr&#45;&gt;CycA -->\n",
       "<g id=\"edge34\" class=\"edge\"><title>Fzr&#45;&gt;CycA</title>\n",
       "<path fill=\"none\" stroke=\"black\" d=\"M574.45,-35.5746C581.967,-67.7724 584.928,-139.188 548,-180 508.565,-223.583 436.606,-232.549 390.746,-233.726\"/>\n",
       "<polygon fill=\"black\" stroke=\"black\" points=\"390.481,-230.229 380.532,-233.872 390.581,-237.228 390.481,-230.229\"/>\n",
       "</g>\n",
       "<!-- Fzy&#45;&gt;CycB -->\n",
       "<g id=\"edge35\" class=\"edge\"><title>Fzy&#45;&gt;CycB</title>\n",
       "<path fill=\"none\" stroke=\"black\" d=\"M470.365,-322.453C483.901,-346.392 505.132,-392.746 516.345,-422.216\"/>\n",
       "<polygon fill=\"black\" stroke=\"black\" points=\"513.151,-423.675 519.865,-431.871 519.728,-421.278 513.151,-423.675\"/>\n",
       "</g>\n",
       "<!-- Fzy&#45;&gt;CycA -->\n",
       "<g id=\"edge36\" class=\"edge\"><title>Fzy&#45;&gt;CycA</title>\n",
       "<path fill=\"none\" stroke=\"black\" d=\"M439.839,-292.807C422.758,-281.937 397.508,-265.869 377.962,-253.43\"/>\n",
       "<polygon fill=\"black\" stroke=\"black\" points=\"379.748,-250.418 369.432,-248.002 375.99,-256.324 379.748,-250.418\"/>\n",
       "</g>\n",
       "<!-- Wee1&#45;&gt;CycB -->\n",
       "<g id=\"edge37\" class=\"edge\"><title>Wee1&#45;&gt;CycB</title>\n",
       "<path fill=\"none\" stroke=\"black\" d=\"M588.26,-324.133C578.768,-349.097 556.394,-395.608 540.278,-424.279\"/>\n",
       "<polygon fill=\"black\" stroke=\"black\" points=\"537.06,-422.853 535.08,-433.261 543.118,-426.359 537.06,-422.853\"/>\n",
       "</g>\n",
       "<!-- Stg&#45;&gt;CycB -->\n",
       "<g id=\"edge38\" class=\"edge\"><title>Stg&#45;&gt;CycB</title>\n",
       "<path fill=\"none\" stroke=\"black\" d=\"M402.924,-105.546C428.516,-137.174 478.673,-215.218 504,-288 519.833,-333.499 526.981,-389.474 527.373,-422.009\"/>\n",
       "<polygon fill=\"black\" stroke=\"black\" points=\"523.872,-422.053 527.25,-432.095 530.872,-422.139 523.872,-422.053\"/>\n",
       "</g>\n",
       "<!-- Notch -->\n",
       "<g id=\"node14\" class=\"node\"><title>Notch</title>\n",
       "<ellipse fill=\"none\" stroke=\"black\" cx=\"498\" cy=\"-162\" rx=\"32.4942\" ry=\"18\"/>\n",
       "<text text-anchor=\"middle\" x=\"498\" y=\"-158.3\" font-family=\"Times,serif\" font-size=\"14.00\">Notch</text>\n",
       "</g>\n",
       "<!-- Notch&#45;&gt;Dap -->\n",
       "<g id=\"edge39\" class=\"edge\"><title>Notch&#45;&gt;Dap</title>\n",
       "<path fill=\"none\" stroke=\"black\" d=\"M489.181,-144.518C477.273,-123.991 454.039,-89.4982 424,-72 380.591,-46.7136 234.841,-29.4204 165.827,-22.4479\"/>\n",
       "<polygon fill=\"black\" stroke=\"black\" points=\"166.126,-18.9605 155.829,-21.456 165.435,-25.9263 166.126,-18.9605\"/>\n",
       "</g>\n",
       "<!-- Notch&#45;&gt;Fzr -->\n",
       "<g id=\"edge41\" class=\"edge\"><title>Notch&#45;&gt;Fzr</title>\n",
       "<path fill=\"none\" stroke=\"black\" d=\"M506.05,-144.433C517.995,-119.85 540.513,-73.5091 554.581,-44.557\"/>\n",
       "<polygon fill=\"black\" stroke=\"black\" points=\"557.779,-45.9857 559.001,-35.4616 551.482,-42.9263 557.779,-45.9857\"/>\n",
       "</g>\n",
       "<!-- Notch&#45;&gt;Stg -->\n",
       "<g id=\"edge40\" class=\"edge\"><title>Notch&#45;&gt;Stg</title>\n",
       "<path fill=\"none\" stroke=\"black\" d=\"M477.568,-147.998C460.082,-136.87 434.758,-120.755 415.495,-108.497\"/>\n",
       "<polygon fill=\"black\" stroke=\"black\" points=\"417.17,-105.414 406.854,-102.998 413.412,-111.32 417.17,-105.414\"/>\n",
       "</g>\n",
       "</g>\n",
       "</svg>\n"
      ],
      "text/plain": [
       "<networkx.classes.digraph.DiGraph at 0x7f2b589c3780>"
      ]
     },
     "execution_count": 14,
     "metadata": {},
     "output_type": "execute_result"
    }
   ],
   "source": [
    "m.dependency_graph()"
   ]
  },
  {
   "cell_type": "markdown",
   "metadata": {
    "deletable": true,
    "editable": true
   },
   "source": [
    "### Related functions and classes"
   ]
  },
  {
   "cell_type": "raw",
   "metadata": {
    "collapsed": true,
    "deletable": true,
    "editable": true,
    "raw_mimetype": "text/restructuredtext"
   },
   "source": [
    ".. autofunction:: pypint.model.load\n",
    "    :noindex:\n",
    "\n",
    ".. autoclass:: pypint.model.Model\n",
    "    :noindex:\n",
    "    :members: having, save_as, summary, dependency_graph\n",
    "\n",
    ".. seealso:: \n",
    "    :py:class:`.Model`\n",
    "        Complete API\n",
    "    :py:class:`.InitialState`\n",
    "        Initial state API"
   ]
  }
 ],
 "metadata": {
  "celltoolbar": "Raw Cell Format",
  "kernelspec": {
   "display_name": "Python 3",
   "language": "python",
   "name": "python3"
  },
  "language_info": {
   "codemirror_mode": {
    "name": "ipython",
    "version": 3
   },
   "file_extension": ".py",
   "mimetype": "text/x-python",
   "name": "python",
   "nbconvert_exporter": "python",
   "pygments_lexer": "ipython3",
   "version": "3.5.3"
  }
 },
 "nbformat": 4,
 "nbformat_minor": 1
}
