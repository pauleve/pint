{
 "cells": [
  {
   "cell_type": "raw",
   "metadata": {
    "deletable": true,
    "editable": true,
    "raw_mimetype": "text/restructuredtext"
   },
   "source": [
    ":part: doc-python"
   ]
  },
  {
   "cell_type": "code",
   "execution_count": 2,
   "metadata": {
    "collapsed": false,
    "deletable": true,
    "editable": true,
    "nbsphinx": "hidden"
   },
   "outputs": [
    {
     "data": {
      "text/markdown": [
       "You are using Pint version 2017-04-13 and pypint 1.0"
      ],
      "text/plain": [
       "<IPython.core.display.Markdown object>"
      ]
     },
     "metadata": {},
     "output_type": "display_data"
    }
   ],
   "source": [
    "import pypint"
   ]
  },
  {
   "cell_type": "markdown",
   "metadata": {
    "deletable": true,
    "editable": true
   },
   "source": [
    "## Transient reachability analysis"
   ]
  },
  {
   "cell_type": "raw",
   "metadata": {
    "deletable": true,
    "editable": true,
    "raw_mimetype": "text/restructuredtext"
   },
   "source": [
    ".. contents:: Content\n",
    "    :local:"
   ]
  },
  {
   "cell_type": "markdown",
   "metadata": {
    "deletable": true,
    "editable": true
   },
   "source": [
    "The main features of pint relate to the transient reachability analysis, for which efficient over- and under-approximation have been designed.\n",
    "\n",
    "The reachability properties are specfied in term of a *goal*. We first detail the different possible specifications for such a goal, and then illustrate various analyses of its reachability.\n",
    "\n",
    "### Goal specification\n",
    "\n",
    "In its simplest form, a goal is the local state of one automaton, for instance `g=1`. The goal is reached as soon as a state where `g=1` is reached. Note that there is no assumption on the stability of this state, this is why we refer to the *transient* reachability analysis.\n",
    "\n",
    "Besides the single local state, goal can be\n",
    "* a (sub-)state, specified either as by a dict-like object or string representation of the (sub)-state\n",
    "* a sequence of (sub-)state: for instance a `Goal(\"a=1\",\"b=1\")` is reached if one can reach a state where `a=1` and from which can be reached a state where `b=1`\n",
    "* a disjunction of goals: `Goal(\"a=1\")|Goal(\"c=1\")` is reached if one can reach a state where either `a=1` or `c=1`."
   ]
  },
  {
   "cell_type": "raw",
   "metadata": {
    "deletable": true,
    "editable": true,
    "raw_mimetype": "text/restructuredtext"
   },
   "source": [
    "In general, a goal is instanciated using the class :py:class:`.Goal`. "
   ]
  },
  {
   "cell_type": "code",
   "execution_count": 2,
   "metadata": {
    "collapsed": true,
    "deletable": true,
    "editable": true
   },
   "outputs": [],
   "source": [
    "from pypint import Goal # avoid typing pypint\n",
    "simple = Goal(\"g=1\")    # simple goal\n",
    "simple = Goal(g=1) # equivalent notation\n",
    "substate = Goal({\"a\": 1, \"b\": 1})   # reach a state where both a=1 and b=1\n",
    "seq = Goal({\"a\": 1, \"b\": 1}, {\"c\": 1}) # reach a state where a=1 and b=1 and from c=1 is reachable\n",
    "seq = Goal(\"a=1,b=1\", \"c=1\") # equivalent to above\n",
    "alt = Goal(\"a=1\", \"b=1\") | Goal(\"c=1\") # either reach a state where a=1 and then a state where b=1, \n",
    "                                       # or reach a state where c=1"
   ]
  },
  {
   "cell_type": "markdown",
   "metadata": {
    "deletable": true,
    "editable": true,
    "raw_mimetype": "text/restructuredtext"
   },
   "source": [
    "Note that if the goal consists of a single argument (such as a simple local state), there is no need to explicitly instanciates this class: `method(Goal(\"g=1\"))` is equivalent to `method(\"g=1\")`."
   ]
  },
  {
   "cell_type": "markdown",
   "metadata": {
    "deletable": true,
    "editable": true
   },
   "source": [
    "### Static reachability analysis"
   ]
  },
  {
   "cell_type": "code",
   "execution_count": 3,
   "metadata": {
    "collapsed": false
   },
   "outputs": [
    {
     "data": {
      "text/markdown": [
       "Downloading 'http://ginsim.org/sites/default/files/MAPK_large_19june2013.zginml' to 'gen/pintx6ie2p7pMAPK_large_19june2013.zginml'"
      ],
      "text/plain": [
       "<IPython.core.display.Markdown object>"
      ]
     },
     "metadata": {},
     "output_type": "display_data"
    },
    {
     "data": {
      "text/markdown": [
       "Source file is in zginml format, importing with logicalmodel"
      ],
      "text/plain": [
       "<IPython.core.display.Markdown object>"
      ]
     },
     "metadata": {},
     "output_type": "display_data"
    },
    {
     "data": {
      "text/markdown": [
       "Invoking GINsim..."
      ],
      "text/plain": [
       "<IPython.core.display.Markdown object>"
      ]
     },
     "metadata": {},
     "output_type": "display_data"
    },
    {
     "data": {
      "text/markdown": [
       "Simplifying model..."
      ],
      "text/plain": [
       "<IPython.core.display.Markdown object>"
      ]
     },
     "metadata": {},
     "output_type": "display_data"
    },
    {
     "data": {
      "text/html": [
       "<a href='gen/pintjoscjnk5MAPK_large_19june2013.an' target='_blank'>gen/pintjoscjnk5MAPK_large_19june2013.an</a><br>"
      ],
      "text/plain": [
       "/home/pauleve/rech/pint/docs/src/doc/gen/pintjoscjnk5MAPK_large_19june2013.an"
      ]
     },
     "metadata": {},
     "output_type": "display_data"
    },
    {
     "data": {
      "text/markdown": [
       "25 state(s) have been registered: initState_23, initState_13, initState_7, initState_9, initState_3, initState_17, initState_12, initState_4, initState_11, initState_19, initState_15, initState_16, initState_8, initState_20, initState_2, initState_24, initState_21, initState_10, initState_5, initState_22, initState_25, initState_6, initState_14, initState_18, initState_1"
      ],
      "text/plain": [
       "<IPython.core.display.Markdown object>"
      ]
     },
     "metadata": {},
     "output_type": "display_data"
    },
    {
     "data": {
      "text/plain": [
       "{'max_local_states': 2,\n",
       " 'nb_automata': 53,\n",
       " 'nb_local_states': 106,\n",
       " 'nb_states': 9007199254740992,\n",
       " 'nb_transitions': 177}"
      ]
     },
     "execution_count": 3,
     "metadata": {},
     "output_type": "execute_result"
    }
   ],
   "source": [
    "mapk = pypint.load(\"http://ginsim.org/sites/default/files/MAPK_large_19june2013.zginml\")\n",
    "mapk.summary()"
   ]
  },
  {
   "cell_type": "code",
   "execution_count": 4,
   "metadata": {
    "collapsed": false
   },
   "outputs": [
    {
     "data": {
      "text/plain": [
       "True"
      ]
     },
     "execution_count": 4,
     "metadata": {},
     "output_type": "execute_result"
    }
   ],
   "source": [
    "mapk.having(\"initState_1\").reachability(\"Proliferation=1\")"
   ]
  },
  {
   "cell_type": "code",
   "execution_count": 6,
   "metadata": {
    "collapsed": false
   },
   "outputs": [
    {
     "data": {
      "text/markdown": [
       "Approximations are inconclusive, fallback to exact model-checking with `its`"
      ],
      "text/plain": [
       "<IPython.core.display.Markdown object>"
      ]
     },
     "metadata": {},
     "output_type": "display_data"
    },
    {
     "data": {
      "text/plain": [
       "True"
      ]
     },
     "execution_count": 6,
     "metadata": {},
     "output_type": "execute_result"
    }
   ],
   "source": [
    "mapk.having(\"initState_10\").reachability(\"Proliferation=1\")"
   ]
  },
  {
   "cell_type": "code",
   "execution_count": 7,
   "metadata": {
    "collapsed": false
   },
   "outputs": [
    {
     "data": {
      "text/plain": [
       "pypint.types.Inconc"
      ]
     },
     "execution_count": 7,
     "metadata": {},
     "output_type": "execute_result"
    }
   ],
   "source": [
    "mapk.having(\"initState_10\").reachability(\"Proliferation=1\", fallback=None)"
   ]
  },
  {
   "cell_type": "code",
   "execution_count": null,
   "metadata": {
    "collapsed": false
   },
   "outputs": [],
   "source": [
    "mapk.having(\"initState_1\").reachability(\"Proliferation=1\", tool=\"nusmv\")"
   ]
  },
  {
   "cell_type": "markdown",
   "metadata": {
    "deletable": true,
    "editable": true
   },
   "source": [
    "### Identification of mutations to control goal reachability"
   ]
  },
  {
   "cell_type": "code",
   "execution_count": 13,
   "metadata": {
    "collapsed": false,
    "deletable": true,
    "editable": true
   },
   "outputs": [
    {
     "data": {
      "text/markdown": [
       "Source file is in Automata Network (an) format"
      ],
      "text/plain": [
       "<IPython.core.display.Markdown object>"
      ]
     },
     "metadata": {},
     "output_type": "display_data"
    },
    {
     "data": {
      "text/markdown": [
       "This computation is an *under-approximation*: returned mutations are all valid, but they may be non-minimal, and some solutions may be missed."
      ],
      "text/plain": [
       "<IPython.core.display.Markdown object>"
      ]
     },
     "metadata": {},
     "output_type": "display_data"
    },
    {
     "data": {
      "text/markdown": [
       "Limiting solutions to mutations of at most 3 automata. Use `maxsize` argument to change."
      ],
      "text/plain": [
       "<IPython.core.display.Markdown object>"
      ]
     },
     "metadata": {},
     "output_type": "display_data"
    },
    {
     "data": {
      "text/plain": [
       "[{'AKT1': 1},\n",
       " {'CDH1': 1, 'NICD': 0},\n",
       " {'CDH2': 1, 'NICD': 0},\n",
       " {'CTNNB1': 0, 'NICD': 0},\n",
       " {'DKK1': 1, 'NICD': 0},\n",
       " {'AKT2': 1, 'ERK': 1, 'ZEB2': 0},\n",
       " {'AKT2': 1, 'ERK': 1, 'p63': 1},\n",
       " {'AKT2': 1, 'ZEB2': 0, 'p21': 0},\n",
       " {'ERK': 1, 'SNAI1': 1, 'ZEB2': 0},\n",
       " {'ERK': 1, 'SNAI2': 1, 'ZEB2': 0},\n",
       " {'ERK': 1, 'SNAI2': 1, 'p63': 1},\n",
       " {'ERK': 1, 'ZEB1': 1, 'ZEB2': 0},\n",
       " {'ERK': 1, 'ZEB1': 1, 'p53': 1},\n",
       " {'ERK': 1, 'ZEB1': 1, 'p63': 1},\n",
       " {'ERK': 1, 'ZEB2': 0, 'p53': 0},\n",
       " {'ERK': 1, 'miR200': 0, 'p63': 1},\n",
       " {'NICD': 0, 'SNAI2': 1, 'TWIST1': 0},\n",
       " {'NICD': 0, 'TWIST1': 0, 'p53': 0},\n",
       " {'SNAI2': 1, 'ZEB2': 0, 'p21': 0},\n",
       " {'ZEB2': 0, 'p21': 0, 'p53': 0}]"
      ]
     },
     "execution_count": 13,
     "metadata": {},
     "output_type": "execute_result"
    }
   ],
   "source": [
    "wt = pypint.load(\"models/invasion_pathways.an\")\n",
    "wt.initial_state[\"ECMicroenv\"] = 1\n",
    "goal = pypint.Goal(\"Apoptosis=1\") | pypint.Goal(\"CellCycleArrest=1\")\n",
    "mutations = wt.oneshot_mutations_for_cut(goal, maxsize=3, exclude={\"ECMicroenv\"})\n",
    "mutations"
   ]
  },
  {
   "cell_type": "code",
   "execution_count": 16,
   "metadata": {
    "collapsed": false,
    "deletable": true,
    "editable": true
   },
   "outputs": [
    {
     "data": {
      "text/plain": [
       "True"
      ]
     },
     "execution_count": 16,
     "metadata": {},
     "output_type": "execute_result"
    }
   ],
   "source": [
    "wt.reachability(goal)"
   ]
  },
  {
   "cell_type": "code",
   "execution_count": 14,
   "metadata": {
    "collapsed": false,
    "deletable": true,
    "editable": true
   },
   "outputs": [
    {
     "data": {
      "text/plain": [
       "False"
      ]
     },
     "execution_count": 14,
     "metadata": {},
     "output_type": "execute_result"
    }
   ],
   "source": [
    "wt.lock(mutations[6]).reachability(goal)"
   ]
  },
  {
   "cell_type": "markdown",
   "metadata": {
    "deletable": true,
    "editable": true
   },
   "source": [
    "### Cut sets of paths to goal"
   ]
  },
  {
   "cell_type": "code",
   "execution_count": null,
   "metadata": {
    "collapsed": false,
    "deletable": true,
    "editable": true
   },
   "outputs": [],
   "source": [
    "wt.reachability(\"Apoptosis=1\")"
   ]
  },
  {
   "cell_type": "code",
   "execution_count": null,
   "metadata": {
    "collapsed": false,
    "deletable": true,
    "editable": true
   },
   "outputs": [],
   "source": [
    "wt.cutsets(\"Apoptosis=1\",maxsize=3)"
   ]
  },
  {
   "cell_type": "code",
   "execution_count": null,
   "metadata": {
    "collapsed": true,
    "deletable": true,
    "editable": true
   },
   "outputs": [],
   "source": [
    "wt.disable(p53=1).reachability(\"Apoptosis=1\")"
   ]
  },
  {
   "cell_type": "code",
   "execution_count": null,
   "metadata": {
    "collapsed": true,
    "deletable": true,
    "editable": true
   },
   "outputs": [],
   "source": [
    "wt.cutsets(\"Apoptosis=1\",maxsize=3,exclude_initial_state=False)"
   ]
  },
  {
   "cell_type": "code",
   "execution_count": null,
   "metadata": {
    "collapsed": true,
    "deletable": true,
    "editable": true
   },
   "outputs": [],
   "source": [
    "wt.disable(p53=0).reachability(\"Apoptosis=1\")"
   ]
  },
  {
   "cell_type": "markdown",
   "metadata": {
    "deletable": true,
    "editable": true
   },
   "source": [
    "### Identification of bifurcation transitions"
   ]
  },
  {
   "cell_type": "code",
   "execution_count": null,
   "metadata": {
    "collapsed": true
   },
   "outputs": [],
   "source": [
    "wt.bifurcations(\"Apoptosis=1\")"
   ]
  },
  {
   "cell_type": "markdown",
   "metadata": {
    "deletable": true,
    "editable": true
   },
   "source": [
    "### Goal-oriented model reduction\n",
    "\n",
    "Pint can statically detect part of transitions that do not take part in minimal paths to the goal reachability. A path is minimal if and only it contains no cycle and all the transitions are causally related.\n",
    "These transitions can then be removed from the model while preserving all the minimal paths to the goal and potentially reducing the reachable state grah significantly.\n",
    "\n",
    "The following command loads a model of 53 automata and 173 local transitions.\n",
    "The reduction for reachability of active Apoptosis from the state where DNA_damage is on leads to an automata network with only 69 local transitions. In this case, the model-checking with NuSMV is tractable only with the reduced model."
   ]
  },
  {
   "cell_type": "code",
   "execution_count": 5,
   "metadata": {
    "collapsed": false,
    "deletable": true,
    "editable": true
   },
   "outputs": [
    {
     "data": {
      "text/markdown": [
       "Source file is in Automata Network (an) format"
      ],
      "text/plain": [
       "<IPython.core.display.Markdown object>"
      ]
     },
     "metadata": {},
     "output_type": "display_data"
    },
    {
     "data": {
      "text/plain": [
       "(53, 173)"
      ]
     },
     "execution_count": 5,
     "metadata": {},
     "output_type": "execute_result"
    }
   ],
   "source": [
    "mapk53 = pypint.load(\"models/mapk53.an\")\n",
    "len(mapk53.automata), len(mapk53.local_transitions)"
   ]
  },
  {
   "cell_type": "code",
   "execution_count": 11,
   "metadata": {
    "collapsed": false,
    "deletable": true,
    "editable": true
   },
   "outputs": [
    {
     "data": {
      "text/html": [
       "<a href='gen/pint890dwkid.an' target='_blank'>gen/pint890dwkid.an</a><br>"
      ],
      "text/plain": [
       "/home/pauleve/rech/pint/docs/src/doc/gen/pint890dwkid.an"
      ]
     },
     "metadata": {},
     "output_type": "display_data"
    },
    {
     "data": {
      "text/plain": [
       "69"
      ]
     },
     "execution_count": 11,
     "metadata": {},
     "output_type": "execute_result"
    }
   ],
   "source": [
    "red = mapk53.having(DNA_damage=1).reduce_for_goal(Apoptosis=1)\n",
    "red.save_as(\"gen/mapk53-apoptosis.smv\")  # export for later NuSMV model checking\n",
    "len(red.local_transitions)"
   ]
  },
  {
   "cell_type": "raw",
   "metadata": {
    "deletable": true,
    "editable": true,
    "raw_mimetype": "text/restructuredtext"
   },
   "source": [
    "By default, :py:meth:`.reduce_for_goal` also removes unused automata and local states. To prevent this behaviour, add the parameter ``squeeze=False``.\n",
    "\n",
    "Note that the method :py:meth:`.reachability` automatically performs the model reduction before calling the fallback model-checker. Therefore, this method is mainly used prior to an export for an external analysis, for instance with NuSMV or with mole."
   ]
  },
  {
   "cell_type": "markdown",
   "metadata": {
    "deletable": true,
    "editable": true
   },
   "source": [
    "### Related functions and classes"
   ]
  },
  {
   "cell_type": "raw",
   "metadata": {
    "collapsed": true,
    "deletable": true,
    "editable": true,
    "raw_mimetype": "text/restructuredtext"
   },
   "source": [
    ".. autoclass:: pypint.types.Goal\n",
    "    :noindex:\n",
    "\n",
    ".. automethod:: pypint.model.Model.reachability\n",
    "    :noindex:\n",
    "\n",
    ".. automethod:: pypint.model.Model.oneshot_mutations_for_cut\n",
    "    :noindex:\n",
    "\n",
    ".. automethod:: pypint.model.Model.lock\n",
    "    :noindex:\n",
    "\n",
    ".. automethod:: pypint.model.Model.cutsets\n",
    "    :noindex:\n",
    "    \n",
    ".. automethod:: pypint.model.Model.disable\n",
    "    :noindex:\n",
    "\n",
    ".. automethod:: pypint.model.Model.bifurcations\n",
    "    :noindex:\n",
    "\n",
    ".. automethod:: pypint.model.Model.reduce_for_goal\n",
    "    :noindex:\n",
    "\n",
    ".. seealso:: \n",
    "    :py:class:`.Model`\n",
    "        Complete API"
   ]
  }
 ],
 "metadata": {
  "celltoolbar": "Raw Cell Format",
  "kernelspec": {
   "display_name": "Python 3",
   "language": "python",
   "name": "python3"
  },
  "language_info": {
   "codemirror_mode": {
    "name": "ipython",
    "version": 3
   },
   "file_extension": ".py",
   "mimetype": "text/x-python",
   "name": "python",
   "nbconvert_exporter": "python",
   "pygments_lexer": "ipython3",
   "version": "3.5.3"
  }
 },
 "nbformat": 4,
 "nbformat_minor": 1
}
