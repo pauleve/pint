{
 "cells": [
  {
   "cell_type": "raw",
   "metadata": {
    "deletable": true,
    "editable": true,
    "raw_mimetype": "text/restructuredtext"
   },
   "source": [
    ":part: doc-python"
   ]
  },
  {
   "cell_type": "code",
   "execution_count": 1,
   "metadata": {
    "collapsed": false,
    "deletable": true,
    "editable": true,
    "nbsphinx": "hidden"
   },
   "outputs": [
    {
     "data": {
      "text/markdown": [
       "You are using Pint version 2017-04-13 and pypint 1.0"
      ],
      "text/plain": [
       "<IPython.core.display.Markdown object>"
      ]
     },
     "metadata": {},
     "output_type": "display_data"
    }
   ],
   "source": [
    "import pypint"
   ]
  },
  {
   "cell_type": "markdown",
   "metadata": {
    "deletable": true,
    "editable": true
   },
   "source": [
    "## Transient reachability analysis"
   ]
  },
  {
   "cell_type": "raw",
   "metadata": {
    "deletable": true,
    "editable": true,
    "raw_mimetype": "text/restructuredtext"
   },
   "source": [
    ".. contents:: Content\n",
    "    :local:"
   ]
  },
  {
   "cell_type": "markdown",
   "metadata": {
    "deletable": true,
    "editable": true
   },
   "source": [
    "The main features of pint relate to the transient reachability analysis, for which efficient over- and under-approximation have been designed.\n",
    "\n",
    "The reachability properties are specfied in term of a *goal*. We first detail the different possible specifications for such a goal, and then illustrate various analyses of its reachability.\n",
    "\n",
    "### Goal specification\n",
    "\n",
    "In its simplest form, a goal is the local state of one automaton, for instance `g=1`. The goal is reached as soon as a state where `g=1` is reached. Note that there is no assumption on the stability of this state, this is why we refer to the *transient* reachability analysis.\n",
    "\n",
    "Besides the single local state, a goal can be\n",
    "* a (sub-)state, specified either as by a dict-like object or string representation of the (sub)-state\n",
    "* a sequence of (sub-)state: for instance a `Goal(\"a=1\",\"b=1\")` is reached if one can reach a state where `a=1` and from which can be reached a state where `b=1`\n",
    "* a disjunction of goals: `Goal(\"a=1\")|Goal(\"c=1\")` is reached if one can reach a state where either `a=1` or `c=1`."
   ]
  },
  {
   "cell_type": "raw",
   "metadata": {
    "deletable": true,
    "editable": true,
    "raw_mimetype": "text/restructuredtext"
   },
   "source": [
    "In general, a goal is instanciated using the class :py:class:`.Goal`. "
   ]
  },
  {
   "cell_type": "code",
   "execution_count": 2,
   "metadata": {
    "collapsed": true,
    "deletable": true,
    "editable": true
   },
   "outputs": [],
   "source": [
    "from pypint import Goal # avoid typing pypint\n",
    "simple = Goal(\"g=1\")    # simple goal\n",
    "simple = Goal(g=1) # equivalent notation\n",
    "substate = Goal({\"a\": 1, \"b\": 1})   # reach a state where both a=1 and b=1\n",
    "seq = Goal({\"a\": 1, \"b\": 1}, {\"c\": 1}) # reach a state where a=1 and b=1 and from c=1 is reachable\n",
    "seq = Goal(\"a=1,b=1\", \"c=1\") # equivalent to above\n",
    "alt = Goal(\"a=1\", \"b=1\") | Goal(\"c=1\") # either reach a state where a=1 and then a state where b=1, \n",
    "                                       # or reach a state where c=1"
   ]
  },
  {
   "cell_type": "markdown",
   "metadata": {
    "deletable": true,
    "editable": true,
    "raw_mimetype": "text/restructuredtext"
   },
   "source": [
    "Note that if the goal consists of a single argument (such as a simple local state), there is no need to explicitly instanciates this class: `method(Goal(\"g=1\"))` is equivalent to `method(\"g=1\")`."
   ]
  },
  {
   "cell_type": "markdown",
   "metadata": {
    "deletable": true,
    "editable": true
   },
   "source": [
    "### Static reachability analysis"
   ]
  },
  {
   "cell_type": "markdown",
   "metadata": {},
   "source": [
    "Verifying reachability properties in automata networks is a PSPACE-complete problem, and is therefore hardly tractable for large systems.\n",
    "Pint implements a static analysis for the formal approximaton of reachability properties with a lower complexity. It consists in both over- and under-approximations, i.e., the verification of necessary *or* sufficient conditions.\n",
    "As evaluated in [[Paulevé et al in MSCS 2012](http://loicpauleve.name/PMR12-MSCS.pdf);\n",
    "[Folschette et al in TCS 2015](https://hal.archives-ouvertes.fr/hal-01202671/file/main.pdf);\n",
    "[Paulevé et al in LMBS 2014](https://hal.archives-ouvertes.fr/hal-01060490/file/PCFMR14-chapterLMBS.pdf)], such an analysis can be tractable on networks with several hundreds of nodes.\n",
    "\n",
    "Let us load a medium-size model:"
   ]
  },
  {
   "cell_type": "code",
   "execution_count": 3,
   "metadata": {
    "collapsed": false,
    "deletable": true,
    "editable": true
   },
   "outputs": [
    {
     "data": {
      "text/markdown": [
       "Downloading 'http://ginsim.org/sites/default/files/MAPK_large_19june2013.zginml' to 'gen/pintz1udn39lMAPK_large_19june2013.zginml'"
      ],
      "text/plain": [
       "<IPython.core.display.Markdown object>"
      ]
     },
     "metadata": {},
     "output_type": "display_data"
    },
    {
     "data": {
      "text/markdown": [
       "Source file is in zginml format, importing with logicalmodel"
      ],
      "text/plain": [
       "<IPython.core.display.Markdown object>"
      ]
     },
     "metadata": {},
     "output_type": "display_data"
    },
    {
     "data": {
      "text/markdown": [
       "Invoking GINsim..."
      ],
      "text/plain": [
       "<IPython.core.display.Markdown object>"
      ]
     },
     "metadata": {},
     "output_type": "display_data"
    },
    {
     "data": {
      "text/markdown": [
       "Simplifying model..."
      ],
      "text/plain": [
       "<IPython.core.display.Markdown object>"
      ]
     },
     "metadata": {},
     "output_type": "display_data"
    },
    {
     "data": {
      "text/html": [
       "<a href='gen/pint9sv8qywmMAPK_large_19june2013.an' target='_blank'>gen/pint9sv8qywmMAPK_large_19june2013.an</a><br>"
      ],
      "text/plain": [
       "/home/pauleve/rech/pint/docs/src/doc/gen/pint9sv8qywmMAPK_large_19june2013.an"
      ]
     },
     "metadata": {},
     "output_type": "display_data"
    },
    {
     "data": {
      "text/markdown": [
       "25 state(s) have been registered: initState_11, initState_14, initState_12, initState_25, initState_23, initState_17, initState_6, initState_16, initState_4, initState_21, initState_13, initState_2, initState_9, initState_19, initState_1, initState_7, initState_3, initState_15, initState_10, initState_22, initState_18, initState_8, initState_24, initState_5, initState_20"
      ],
      "text/plain": [
       "<IPython.core.display.Markdown object>"
      ]
     },
     "metadata": {},
     "output_type": "display_data"
    },
    {
     "data": {
      "text/plain": [
       "{'max_local_states': 2,\n",
       " 'nb_automata': 53,\n",
       " 'nb_local_states': 106,\n",
       " 'nb_states': 9007199254740992,\n",
       " 'nb_transitions': 177}"
      ]
     },
     "execution_count": 3,
     "metadata": {},
     "output_type": "execute_result"
    }
   ],
   "source": [
    "mapk = pypint.load(\"http://ginsim.org/sites/default/files/MAPK_large_19june2013.zginml\")\n",
    "mapk.summary()"
   ]
  },
  {
   "cell_type": "raw",
   "metadata": {
    "raw_mimetype": "text/restructuredtext"
   },
   "source": [
    "The :py:meth:`.reachability` method takes a main argument the goal. It returns either ``True`` or ``False`` depending if the goal is reachable or not from the model initial state."
   ]
  },
  {
   "cell_type": "code",
   "execution_count": 4,
   "metadata": {
    "collapsed": false,
    "deletable": true,
    "editable": true
   },
   "outputs": [
    {
     "data": {
      "text/plain": [
       "True"
      ]
     },
     "execution_count": 4,
     "metadata": {},
     "output_type": "execute_result"
    }
   ],
   "source": [
    "mapk.having(\"initState_1\").reachability(\"Proliferation=1\")"
   ]
  },
  {
   "cell_type": "raw",
   "metadata": {
    "raw_mimetype": "text/restructuredtext"
   },
   "source": [
    "By default, if the static analysis is not conclusive (i.e., the necessary condition is satisified, but the sufficient condition is not), pint falls back to exact model checking with `ITS <http://ddd.lip6.fr/itstools.php>`_. The model-checker can be modified with the ``fallback`` argument (see :py:meth:`.reachability` documentation)."
   ]
  },
  {
   "cell_type": "code",
   "execution_count": 5,
   "metadata": {
    "collapsed": false,
    "deletable": true,
    "editable": true
   },
   "outputs": [
    {
     "data": {
      "text/markdown": [
       "Approximations are inconclusive, fallback to exact model-checking with `its`"
      ],
      "text/plain": [
       "<IPython.core.display.Markdown object>"
      ]
     },
     "metadata": {},
     "output_type": "display_data"
    },
    {
     "data": {
      "text/plain": [
       "True"
      ]
     },
     "execution_count": 5,
     "metadata": {},
     "output_type": "execute_result"
    }
   ],
   "source": [
    "mapk.having(\"initState_10\").reachability(\"Proliferation=1\")"
   ]
  },
  {
   "cell_type": "raw",
   "metadata": {},
   "source": [
    "When facing large models, it can be cautious to disable the fallback to exact model-checking. This can be done by setting ``fallback`` to ``None``. In this case, the method may also return :py:class:`.Inconc`."
   ]
  },
  {
   "cell_type": "code",
   "execution_count": 6,
   "metadata": {
    "collapsed": false,
    "deletable": true,
    "editable": true
   },
   "outputs": [
    {
     "data": {
      "text/plain": [
       "pypint.types.Inconc"
      ]
     },
     "execution_count": 6,
     "metadata": {},
     "output_type": "execute_result"
    }
   ],
   "source": [
    "mapk.having(\"initState_10\").reachability(\"Proliferation=1\", fallback=None)"
   ]
  },
  {
   "cell_type": "markdown",
   "metadata": {},
   "source": [
    "Finally, the static analysis can be bypassed by specifying the `tool` argument to the desired model-checker."
   ]
  },
  {
   "cell_type": "code",
   "execution_count": null,
   "metadata": {
    "collapsed": false,
    "deletable": true,
    "editable": true
   },
   "outputs": [],
   "source": [
    "mapk.having(\"initState_1\").reachability(\"Proliferation=1\", tool=\"nusmv\")"
   ]
  },
  {
   "cell_type": "markdown",
   "metadata": {},
   "source": [
    "It is worth noting that prior to any model-checking verification, the model is first reduced using the *goal-oriented model reduction* to enhance the tractability of the analysis."
   ]
  },
  {
   "cell_type": "markdown",
   "metadata": {
    "deletable": true,
    "editable": true
   },
   "source": [
    "### Identification of mutations to control goal reachability\n",
    "\n",
    "One of the prime application of reachability analysis is the identification of perturbations which would control the goal reachability.\n",
    "\n",
    "Pint offers an efficient static analysis which identify mutations for preventing a goal to occur. The analysis aims at being tractable on networks with hundreds of nodes."
   ]
  },
  {
   "cell_type": "raw",
   "metadata": {
    "raw_mimetype": "text/restructuredtext"
   },
   "source": [
    "The method :py:meth:`.oneshot_mutations_for_cut` takes as main argument the goal and returns a list of mutations which makes it impossible to reach.\n",
    "\n",
    "In the following example, we compute the mutations which prevent both the activation of `Apoptosis` and `CellCycleArrest`. A mutation can be tested with the :py:meth:`.lock` method which blocks the specfied automata to the given local states. It is guaranteed that the reachability returns false. We test it here with the 7-th returned mutations, i.e., ``{'AKT2': 1, 'ERK': 1, 'p63': 1}``."
   ]
  },
  {
   "cell_type": "code",
   "execution_count": 7,
   "metadata": {
    "collapsed": false,
    "deletable": true,
    "editable": true
   },
   "outputs": [
    {
     "data": {
      "text/markdown": [
       "Source file is in Automata Network (an) format"
      ],
      "text/plain": [
       "<IPython.core.display.Markdown object>"
      ]
     },
     "metadata": {},
     "output_type": "display_data"
    },
    {
     "data": {
      "text/markdown": [
       "This computation is an *under-approximation*: returned mutations are all valid, but they may be non-minimal, and some solutions may be missed."
      ],
      "text/plain": [
       "<IPython.core.display.Markdown object>"
      ]
     },
     "metadata": {},
     "output_type": "display_data"
    },
    {
     "data": {
      "text/markdown": [
       "Limiting solutions to mutations of at most 3 automata. Use `maxsize` argument to change."
      ],
      "text/plain": [
       "<IPython.core.display.Markdown object>"
      ]
     },
     "metadata": {},
     "output_type": "display_data"
    },
    {
     "data": {
      "text/plain": [
       "[{'AKT1': 1},\n",
       " {'CDH1': 1, 'NICD': 0},\n",
       " {'CDH2': 1, 'NICD': 0},\n",
       " {'CTNNB1': 0, 'NICD': 0},\n",
       " {'DKK1': 1, 'NICD': 0},\n",
       " {'AKT2': 1, 'ERK': 1, 'ZEB2': 0},\n",
       " {'AKT2': 1, 'ERK': 1, 'p63': 1},\n",
       " {'AKT2': 1, 'ZEB2': 0, 'p21': 0},\n",
       " {'ERK': 1, 'SNAI1': 1, 'ZEB2': 0},\n",
       " {'ERK': 1, 'SNAI2': 1, 'ZEB2': 0},\n",
       " {'ERK': 1, 'SNAI2': 1, 'p63': 1},\n",
       " {'ERK': 1, 'ZEB1': 1, 'ZEB2': 0},\n",
       " {'ERK': 1, 'ZEB1': 1, 'p53': 1},\n",
       " {'ERK': 1, 'ZEB1': 1, 'p63': 1},\n",
       " {'ERK': 1, 'ZEB2': 0, 'p53': 0},\n",
       " {'ERK': 1, 'miR200': 0, 'p63': 1},\n",
       " {'NICD': 0, 'SNAI2': 1, 'TWIST1': 0},\n",
       " {'NICD': 0, 'TWIST1': 0, 'p53': 0},\n",
       " {'SNAI2': 1, 'ZEB2': 0, 'p21': 0},\n",
       " {'ZEB2': 0, 'p21': 0, 'p53': 0}]"
      ]
     },
     "execution_count": 7,
     "metadata": {},
     "output_type": "execute_result"
    }
   ],
   "source": [
    "wt = pypint.load(\"models/invasion_pathways.an\")\n",
    "wt.initial_state[\"ECMicroenv\"] = 1\n",
    "goal = Goal(\"Apoptosis=1\") | Goal(\"CellCycleArrest=1\")\n",
    "mutations = wt.oneshot_mutations_for_cut(goal, maxsize=3, exclude={\"ECMicroenv\"})\n",
    "mutations"
   ]
  },
  {
   "cell_type": "code",
   "execution_count": 8,
   "metadata": {
    "collapsed": false,
    "deletable": true,
    "editable": true
   },
   "outputs": [
    {
     "data": {
      "text/plain": [
       "False"
      ]
     },
     "execution_count": 8,
     "metadata": {},
     "output_type": "execute_result"
    }
   ],
   "source": [
    "wt.lock(mutations[6]).reachability(goal)"
   ]
  },
  {
   "cell_type": "markdown",
   "metadata": {
    "deletable": true,
    "editable": true
   },
   "source": [
    "### Cut sets of paths to goal\n",
    "\n",
    "Cut sets are sets of local states of automata which cover *all* the paths (or traces) from the initial state to any state where the goal is present. Therefore, disabling the local states of a cut set removes (cuts) all the paths to the goal, making it impossible to reach.\n",
    "\n",
    "The method is fully detailed in [[Paulevé et al at CAV 2013](https://hal.archives-ouvertes.fr/hal-00769447v3/document)]. It is tractable on very networks, up to several thousands of automata."
   ]
  },
  {
   "cell_type": "raw",
   "metadata": {
    "raw_mimetype": "text/restructuredtext"
   },
   "source": [
    "The call of the method :py:meth:`.cutsets` is similar to :py:meth:`.oneshot_mutations_for_cut`. It returns a list of cut sets of all the paths to the given goal:"
   ]
  },
  {
   "cell_type": "code",
   "execution_count": 9,
   "metadata": {
    "collapsed": false,
    "deletable": true,
    "editable": true
   },
   "outputs": [
    {
     "data": {
      "text/markdown": [
       "This computation is an *under-approximation*: returned cut-sets are all valid, but they may be non-minimal, and some cut-sets may be missed."
      ],
      "text/plain": [
       "<IPython.core.display.Markdown object>"
      ]
     },
     "metadata": {},
     "output_type": "display_data"
    },
    {
     "data": {
      "text/markdown": [
       "Limiting results to cut-sets with at most 3 elements. Use `maxsize` argument to change."
      ],
      "text/plain": [
       "<IPython.core.display.Markdown object>"
      ]
     },
     "metadata": {},
     "output_type": "display_data"
    },
    {
     "data": {
      "text/plain": [
       "[{'p53': 1}, {'CTNNB1': 1, 'NICD': 1}]"
      ]
     },
     "execution_count": 9,
     "metadata": {},
     "output_type": "execute_result"
    }
   ],
   "source": [
    "wt.cutsets(\"Apoptosis=1\",maxsize=3)"
   ]
  },
  {
   "cell_type": "raw",
   "metadata": {
    "raw_mimetype": "text/restructuredtext"
   },
   "source": [
    "A cut set can be applied using the :py:meth:`.disable` method which removes all the transitions which involve the given local states. The reachability of the goal is guaranteed to be impossible:"
   ]
  },
  {
   "cell_type": "code",
   "execution_count": 10,
   "metadata": {
    "collapsed": false,
    "deletable": true,
    "editable": true
   },
   "outputs": [
    {
     "data": {
      "text/plain": [
       "False"
      ]
     },
     "execution_count": 10,
     "metadata": {},
     "output_type": "execute_result"
    }
   ],
   "source": [
    "wt.disable(p53=1).reachability(\"Apoptosis=1\")"
   ]
  },
  {
   "cell_type": "markdown",
   "metadata": {},
   "source": [
    "Remark that the semantics of a cut set is different than the one of a mutation: a mutation specifies the state in which an automaton should be enforced (gain/loss of function), whereas a cut set specifies which states should be avoided.\n",
    "Therefore, the cut set `{'CTNNB1': 1, 'NICD': 1}` can be implemented as a mutation by enforcing `CTNNB1` and `NICD` to 0.\n",
    "However, to be correct, this latter reasonning assumes that the initial state is not changed by the mutation, i.e. `CTNNB1` and `NICD` should be 0 in the initial state. The mutation then prevent any value change which will prevent the goal reachability.\n",
    "\n",
    "By default, the returned cut sets do not involve initial local state, so one can implement them as mutations safely. A more complete set of cut sets can be returned by explicitely allowing initial local states:"
   ]
  },
  {
   "cell_type": "code",
   "execution_count": 11,
   "metadata": {
    "collapsed": false,
    "deletable": true,
    "editable": true
   },
   "outputs": [
    {
     "data": {
      "text/markdown": [
       "This computation is an *under-approximation*: returned cut-sets are all valid, but they may be non-minimal, and some cut-sets may be missed."
      ],
      "text/plain": [
       "<IPython.core.display.Markdown object>"
      ]
     },
     "metadata": {},
     "output_type": "display_data"
    },
    {
     "data": {
      "text/markdown": [
       "Limiting results to cut-sets with at most 3 elements. Use `maxsize` argument to change."
      ],
      "text/plain": [
       "<IPython.core.display.Markdown object>"
      ]
     },
     "metadata": {},
     "output_type": "display_data"
    },
    {
     "data": {
      "text/plain": [
       "[{'AKT1': 0},\n",
       " {'AKT2': 0},\n",
       " {'DNAdamage': 0},\n",
       " {'ERK': 0},\n",
       " {'SNAI2': 0},\n",
       " {'ZEB2': 0},\n",
       " {'miR200': 0},\n",
       " {'miR34': 0},\n",
       " {'p53': 0},\n",
       " {'p53': 1},\n",
       " {'p63': 0},\n",
       " {'p73': 0},\n",
       " {'CDH1': 0, 'CTNNB1': 0},\n",
       " {'CDH1': 0, 'ECMicroenv': 1},\n",
       " {'CDH1': 0, 'NICD': 1},\n",
       " {'CDH2': 0, 'CTNNB1': 0},\n",
       " {'CDH2': 0, 'ECMicroenv': 1},\n",
       " {'CDH2': 0, 'NICD': 1},\n",
       " {'CTNNB1': [0, 1]},\n",
       " {'CTNNB1': 0, 'DKK1': 0},\n",
       " {'CTNNB1': 1, 'ECMicroenv': 1},\n",
       " {'CTNNB1': 1, 'NICD': 1},\n",
       " {'DKK1': 0, 'ECMicroenv': 1},\n",
       " {'DKK1': 0, 'NICD': 1}]"
      ]
     },
     "execution_count": 11,
     "metadata": {},
     "output_type": "execute_result"
    }
   ],
   "source": [
    "wt.cutsets(\"Apoptosis=1\",maxsize=3,exclude_initial_state=False)"
   ]
  },
  {
   "cell_type": "markdown",
   "metadata": {
    "collapsed": true,
    "deletable": true,
    "editable": true
   },
   "source": [
    "This last example also shows that a cut set can contain several, if not all, local states of a same automaton: `{'CTNNB1': [0, 1]}` means that all the paths to the Apoptosis activation use, at some point, either the inactive or active form of `CTNNB1`. Hence disabling all the transitions triggered by `CTNNB1` will break all the possible ways to Apoptosis."
   ]
  },
  {
   "cell_type": "markdown",
   "metadata": {
    "deletable": true,
    "editable": true
   },
   "source": [
    "### Identification of bifurcation transitions\n",
    "\n",
    "Given an initial state and a goal, a *bifurcation transitions* is a transition after which the goal is no longer reachable. Bifurcation transitions are local transitions of the automata network that are triggered in the transient dynamics.\n",
    "\n",
    "Bifurcation transitions are helpful to understand differentiation processes, as they give the decisive modification which removed the capability to reach the goal."
   ]
  },
  {
   "cell_type": "raw",
   "metadata": {
    "raw_mimetype": "text/restructuredtext"
   },
   "source": [
    "The method :py:meth:`.bifurcations` takes as first argument the goal for which the bifurcation transitions will be identified. It returns a list of transitions, which can be :py:class:`.LocalTransition` and :py:class:`.SynchronisedLocalTransitions` objects.\n",
    "\n",
    "The method may be tractable on networks with several hundreds of nodes."
   ]
  },
  {
   "cell_type": "code",
   "execution_count": 12,
   "metadata": {
    "collapsed": false,
    "deletable": true,
    "editable": true
   },
   "outputs": [
    {
     "data": {
      "text/markdown": [
       "This computation is an *under-approximation*: returned transitions are all bifurcation transitions, but some may have been missed. Use `method=\"exact\"` for complete identification."
      ],
      "text/plain": [
       "<IPython.core.display.Markdown object>"
      ]
     },
     "metadata": {},
     "output_type": "display_data"
    },
    {
     "data": {
      "text/plain": [
       "[\"AKT2\" 0 -> 1 when \"TWIST1\"=1 and \"GF\"=0 and \"CDH2\"=0 and \"p53\"=0 and \"miR203\"=0 and \"miR34\"=0 and \"TGFbeta\"=0 and \"NICD\"=1,\n",
       " \"AKT2\" 0 -> 1 when \"TWIST1\"=1 and \"GF\"=0 and \"miR34\"=0 and \"TGFbeta\"=1 and \"p53\"=0 and \"miR203\"=0,\n",
       " \"SNAI2\" 0 -> 1 when \"TWIST1\"=0 and \"NICD\"=1 and \"miR200\"=0 and \"p53\"=0 and \"CTNNB1\"=0 and \"miR203\"=0,\n",
       " \"SNAI2\" 0 -> 1 when \"p53\"=0 and \"miR200\"=0 and \"TWIST1\"=1 and \"miR203\"=0,\n",
       " \"SNAI2\" 0 -> 1 when \"p53\"=0 and \"miR203\"=0 and \"miR200\"=0 and \"TWIST1\"=0 and \"CTNNB1\"=1,\n",
       " \"AKT2\" 0 -> 1 when \"CDH2\"=1 and \"TWIST1\"=1 and \"GF\"=0 and \"miR34\"=0 and \"TGFbeta\"=0 and \"p53\"=0 and \"miR203\"=0,\n",
       " \"AKT2\" 0 -> 1 when \"p53\"=0 and \"miR203\"=0 and \"miR34\"=0 and \"TWIST1\"=1 and \"GF\"=1]"
      ]
     },
     "execution_count": 12,
     "metadata": {},
     "output_type": "execute_result"
    }
   ],
   "source": [
    "wt.bifurcations(\"Apoptosis=1\")"
   ]
  },
  {
   "cell_type": "markdown",
   "metadata": {},
   "source": [
    "For each of the returned local transitions, there exists a state reachable from the initial state which (1) can reach the goal; and (2) after applying the bifurcation transition, the goal is no longer reachable.\n",
    "\n",
    "This method also allows a `method=\"exact\"` keyword for the complete identification of bifurcation transitions using model-checking. It is however not tractable on large networks."
   ]
  },
  {
   "cell_type": "code",
   "execution_count": 13,
   "metadata": {
    "collapsed": false,
    "deletable": true,
    "editable": true
   },
   "outputs": [
    {
     "data": {
      "text/markdown": [
       "Source file is in Automata Network (an) format"
      ],
      "text/plain": [
       "<IPython.core.display.Markdown object>"
      ]
     },
     "metadata": {},
     "output_type": "display_data"
    },
    {
     "data": {
      "text/plain": [
       "(53, 173)"
      ]
     },
     "execution_count": 13,
     "metadata": {},
     "output_type": "execute_result"
    }
   ],
   "source": [
    "mapk53 = pypint.load(\"models/mapk53.an\")\n",
    "len(mapk53.automata), len(mapk53.local_transitions)"
   ]
  },
  {
   "cell_type": "code",
   "execution_count": 14,
   "metadata": {
    "collapsed": false,
    "deletable": true,
    "editable": true
   },
   "outputs": [
    {
     "data": {
      "text/html": [
       "<a href='gen/pinte8ujpu45.an' target='_blank'>gen/pinte8ujpu45.an</a><br>"
      ],
      "text/plain": [
       "/home/pauleve/rech/pint/docs/src/doc/gen/pinte8ujpu45.an"
      ]
     },
     "metadata": {},
     "output_type": "display_data"
    },
    {
     "data": {
      "text/plain": [
       "69"
      ]
     },
     "execution_count": 14,
     "metadata": {},
     "output_type": "execute_result"
    }
   ],
   "source": [
    "red = mapk53.having(DNA_damage=1).reduce_for_goal(Apoptosis=1)\n",
    "red.save_as(\"gen/mapk53-apoptosis.smv\")  # export for later NuSMV model checking\n",
    "len(red.local_transitions)"
   ]
  },
  {
   "cell_type": "raw",
   "metadata": {
    "deletable": true,
    "editable": true,
    "raw_mimetype": "text/restructuredtext"
   },
   "source": [
    "By default, :py:meth:`.reduce_for_goal` also removes unused automata and local states. To prevent this behaviour, add the parameter ``squeeze=False``.\n",
    "\n",
    "Note that the method :py:meth:`.reachability` automatically performs the model reduction before calling the fallback model-checker. Therefore, this method is mainly used prior to an export for an external analysis, for instance with NuSMV or with mole."
   ]
  },
  {
   "cell_type": "markdown",
   "metadata": {
    "deletable": true,
    "editable": true
   },
   "source": [
    "### Related functions and classes"
   ]
  },
  {
   "cell_type": "raw",
   "metadata": {
    "collapsed": true,
    "deletable": true,
    "editable": true,
    "raw_mimetype": "text/restructuredtext"
   },
   "source": [
    ".. autoclass:: pypint.types.Goal\n",
    "    :noindex:\n",
    "\n",
    ".. automethod:: pypint.model.Model.reachability\n",
    "    :noindex:\n",
    "\n",
    ".. automethod:: pypint.model.Model.oneshot_mutations_for_cut\n",
    "    :noindex:\n",
    "\n",
    ".. automethod:: pypint.model.Model.lock\n",
    "    :noindex:\n",
    "\n",
    ".. automethod:: pypint.model.Model.cutsets\n",
    "    :noindex:\n",
    "    \n",
    ".. automethod:: pypint.model.Model.disable\n",
    "    :noindex:\n",
    "\n",
    ".. automethod:: pypint.model.Model.bifurcations\n",
    "    :noindex:\n",
    "\n",
    ".. automethod:: pypint.model.Model.reduce_for_goal\n",
    "    :noindex:\n",
    "\n",
    ".. seealso:: \n",
    "    :py:class:`.Model`\n",
    "        Complete API"
   ]
  }
 ],
 "metadata": {
  "celltoolbar": "Raw Cell Format",
  "kernelspec": {
   "display_name": "Python 3",
   "language": "python",
   "name": "python3"
  },
  "language_info": {
   "codemirror_mode": {
    "name": "ipython",
    "version": 3
   },
   "file_extension": ".py",
   "mimetype": "text/x-python",
   "name": "python",
   "nbconvert_exporter": "python",
   "pygments_lexer": "ipython3",
   "version": "3.5.3"
  }
 },
 "nbformat": 4,
 "nbformat_minor": 1
}
