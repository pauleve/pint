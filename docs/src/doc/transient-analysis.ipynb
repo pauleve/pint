{
 "cells": [
  {
   "cell_type": "raw",
   "metadata": {
    "raw_mimetype": "text/restructuredtext"
   },
   "source": [
    ":part: doc-python"
   ]
  },
  {
   "cell_type": "markdown",
   "metadata": {
    "deletable": true,
    "editable": true
   },
   "source": [
    "## Transient reachability analysis"
   ]
  },
  {
   "cell_type": "raw",
   "metadata": {
    "deletable": true,
    "editable": true,
    "raw_mimetype": "text/restructuredtext"
   },
   "source": [
    ".. contents:: Content\n",
    "    :local:"
   ]
  },
  {
   "cell_type": "code",
   "execution_count": 1,
   "metadata": {
    "collapsed": false,
    "deletable": true,
    "editable": true,
    "nbsphinx": "hidden"
   },
   "outputs": [
    {
     "data": {
      "text/markdown": [
       "You are using Pint version 2016-12-15\n"
      ],
      "text/plain": [
       "<IPython.core.display.Markdown object>"
      ]
     },
     "metadata": {},
     "output_type": "display_data"
    }
   ],
   "source": [
    "import pint"
   ]
  },
  {
   "cell_type": "markdown",
   "metadata": {},
   "source": [
    "### Goal specification"
   ]
  },
  {
   "cell_type": "markdown",
   "metadata": {},
   "source": [
    "### Static reachability analysis"
   ]
  },
  {
   "cell_type": "markdown",
   "metadata": {},
   "source": [
    "### Identification of mutations to control goal reachability"
   ]
  },
  {
   "cell_type": "markdown",
   "metadata": {},
   "source": [
    "### Identification of bifurcation transitions"
   ]
  },
  {
   "cell_type": "markdown",
   "metadata": {},
   "source": [
    "### Model reduction"
   ]
  },
  {
   "cell_type": "markdown",
   "metadata": {
    "deletable": true,
    "editable": true
   },
   "source": [
    "### Related functions and classes"
   ]
  },
  {
   "cell_type": "raw",
   "metadata": {
    "collapsed": true,
    "deletable": true,
    "editable": true,
    "raw_mimetype": "text/restructuredtext"
   },
   "source": [
    ".. autoclass:: pint.types.Goal\n",
    "    :noindex:\n",
    "\n",
    ".. automethod:: pint.model.Model.reachability\n",
    "    :noindex:\n",
    "\n",
    ".. automethod:: pint.model.Model.oneshot_mutations_for_cut\n",
    "    :noindex:\n",
    "\n",
    ".. automethod:: pint.model.Model.lock\n",
    "    :noindex:\n",
    "\n",
    ".. automethod:: pint.model.Model.cutsets\n",
    "    :noindex:\n",
    "    \n",
    ".. automethod:: pint.model.Model.disable\n",
    "    :noindex:\n",
    "\n",
    ".. automethod:: pint.model.Model.bifurcations\n",
    "    :noindex:\n",
    "\n",
    ".. automethod:: pint.model.Model.reduce_for_goal\n",
    "    :noindex:\n",
    "\n",
    ".. seealso:: \n",
    "    :py:class:`.Model`\n",
    "        Complete API"
   ]
  }
 ],
 "metadata": {
  "celltoolbar": "Raw Cell Format",
  "kernelspec": {
   "display_name": "Python 3",
   "language": "python",
   "name": "python3"
  },
  "language_info": {
   "codemirror_mode": {
    "name": "ipython",
    "version": 3
   },
   "file_extension": ".py",
   "mimetype": "text/x-python",
   "name": "python",
   "nbconvert_exporter": "python",
   "pygments_lexer": "ipython3",
   "version": "3.5.3"
  }
 },
 "nbformat": 4,
 "nbformat_minor": 1
}
