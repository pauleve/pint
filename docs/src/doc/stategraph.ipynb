{
 "cells": [
  {
   "cell_type": "raw",
   "metadata": {
    "deletable": true,
    "editable": true,
    "raw_mimetype": "text/restructuredtext"
   },
   "source": [
    ":part: doc-python"
   ]
  },
  {
   "cell_type": "code",
   "execution_count": 1,
   "metadata": {
    "collapsed": false,
    "deletable": true,
    "editable": true,
    "nbsphinx": "hidden"
   },
   "outputs": [
    {
     "data": {
      "text/markdown": [
       "You are using Pint version 2016-12-15 and pypint 1.0rc2"
      ],
      "text/plain": [
       "<IPython.core.display.Markdown object>"
      ]
     },
     "metadata": {},
     "output_type": "display_data"
    }
   ],
   "source": [
    "import pypint"
   ]
  },
  {
   "cell_type": "markdown",
   "metadata": {
    "deletable": true,
    "editable": true
   },
   "source": [
    "## State graph analysis"
   ]
  },
  {
   "cell_type": "raw",
   "metadata": {
    "deletable": true,
    "editable": true,
    "raw_mimetype": "text/restructuredtext"
   },
   "source": [
    ".. contents:: Content\n",
    "    :local:"
   ]
  },
  {
   "cell_type": "markdown",
   "metadata": {
    "deletable": true,
    "editable": true
   },
   "source": [
    "### Fixpoints"
   ]
  },
  {
   "cell_type": "markdown",
   "metadata": {},
   "source": [
    "Fixpoints are global states of the networks where no transition is possible.\n",
    "Pint implements the complete fixpoints computation in automata networks as Boolean satisfaction constraints (SAT).\n",
    "It should be tractable on networks with hundreds of components. Usually, the main limitation is the potential very high number of fixpoints.\n",
    "\n",
    "Let us illustrate the fixpoint computation on a medium size example:"
   ]
  },
  {
   "cell_type": "code",
   "execution_count": 2,
   "metadata": {
    "collapsed": false,
    "deletable": true,
    "editable": true
   },
   "outputs": [
    {
     "data": {
      "text/markdown": [
       "Source file is in Automata Network (an) format"
      ],
      "text/plain": [
       "<IPython.core.display.Markdown object>"
      ]
     },
     "metadata": {},
     "output_type": "display_data"
    },
    {
     "data": {
      "text/plain": [
       "20"
      ]
     },
     "execution_count": 2,
     "metadata": {},
     "output_type": "execute_result"
    }
   ],
   "source": [
    "erbb = pypint.load(\"models/ERBB_G1-S.an\")\n",
    "len(erbb.automata)"
   ]
  },
  {
   "cell_type": "raw",
   "metadata": {
    "raw_mimetype": "text/restructuredtext"
   },
   "source": [
    "The method :py:meth:`.fixpoints` returns the list of all the fixpoints of the network. The result is independent from the initial state. In the following example, we use `Pandas <http://pandas.pydata.org/>`_ to provide a pretty display of the returned list. This is purely cosmetic."
   ]
  },
  {
   "cell_type": "code",
   "execution_count": 3,
   "metadata": {
    "collapsed": false,
    "deletable": true,
    "editable": true
   },
   "outputs": [
    {
     "data": {
      "text/html": [
       "<div>\n",
       "<table border=\"1\" class=\"dataframe\">\n",
       "  <thead>\n",
       "    <tr style=\"text-align: right;\">\n",
       "      <th></th>\n",
       "      <th>AKT1</th>\n",
       "      <th>CDK2</th>\n",
       "      <th>CDK4</th>\n",
       "      <th>CDK6</th>\n",
       "      <th>CycD1</th>\n",
       "      <th>CycE1</th>\n",
       "      <th>EGF</th>\n",
       "      <th>ERBB1</th>\n",
       "      <th>ERBB1_2</th>\n",
       "      <th>ERBB1_3</th>\n",
       "      <th>ERBB2</th>\n",
       "      <th>ERBB2_3</th>\n",
       "      <th>ERBB3</th>\n",
       "      <th>ERalpha</th>\n",
       "      <th>IGF1R</th>\n",
       "      <th>MEK1</th>\n",
       "      <th>MYC</th>\n",
       "      <th>p21</th>\n",
       "      <th>p27</th>\n",
       "      <th>pRB</th>\n",
       "    </tr>\n",
       "  </thead>\n",
       "  <tbody>\n",
       "    <tr>\n",
       "      <th>0</th>\n",
       "      <td>0</td>\n",
       "      <td>0</td>\n",
       "      <td>0</td>\n",
       "      <td>0</td>\n",
       "      <td>0</td>\n",
       "      <td>0</td>\n",
       "      <td>0</td>\n",
       "      <td>0</td>\n",
       "      <td>0</td>\n",
       "      <td>0</td>\n",
       "      <td>0</td>\n",
       "      <td>0</td>\n",
       "      <td>0</td>\n",
       "      <td>0</td>\n",
       "      <td>0</td>\n",
       "      <td>0</td>\n",
       "      <td>0</td>\n",
       "      <td>0</td>\n",
       "      <td>0</td>\n",
       "      <td>0</td>\n",
       "    </tr>\n",
       "    <tr>\n",
       "      <th>1</th>\n",
       "      <td>1</td>\n",
       "      <td>1</td>\n",
       "      <td>1</td>\n",
       "      <td>1</td>\n",
       "      <td>1</td>\n",
       "      <td>1</td>\n",
       "      <td>0</td>\n",
       "      <td>0</td>\n",
       "      <td>0</td>\n",
       "      <td>0</td>\n",
       "      <td>0</td>\n",
       "      <td>0</td>\n",
       "      <td>0</td>\n",
       "      <td>1</td>\n",
       "      <td>1</td>\n",
       "      <td>1</td>\n",
       "      <td>1</td>\n",
       "      <td>0</td>\n",
       "      <td>0</td>\n",
       "      <td>1</td>\n",
       "    </tr>\n",
       "    <tr>\n",
       "      <th>2</th>\n",
       "      <td>1</td>\n",
       "      <td>1</td>\n",
       "      <td>1</td>\n",
       "      <td>1</td>\n",
       "      <td>1</td>\n",
       "      <td>1</td>\n",
       "      <td>1</td>\n",
       "      <td>1</td>\n",
       "      <td>1</td>\n",
       "      <td>1</td>\n",
       "      <td>1</td>\n",
       "      <td>1</td>\n",
       "      <td>1</td>\n",
       "      <td>1</td>\n",
       "      <td>0</td>\n",
       "      <td>1</td>\n",
       "      <td>1</td>\n",
       "      <td>0</td>\n",
       "      <td>0</td>\n",
       "      <td>1</td>\n",
       "    </tr>\n",
       "  </tbody>\n",
       "</table>\n",
       "</div>"
      ],
      "text/plain": [
       "   AKT1  CDK2  CDK4  CDK6  CycD1  CycE1  EGF  ERBB1  ERBB1_2  ERBB1_3  ERBB2  \\\n",
       "0     0     0     0     0      0      0    0      0        0        0      0   \n",
       "1     1     1     1     1      1      1    0      0        0        0      0   \n",
       "2     1     1     1     1      1      1    1      1        1        1      1   \n",
       "\n",
       "   ERBB2_3  ERBB3  ERalpha  IGF1R  MEK1  MYC  p21  p27  pRB  \n",
       "0        0      0        0      0     0    0    0    0    0  \n",
       "1        0      0        1      1     1    1    0    0    1  \n",
       "2        1      1        1      0     1    1    0    0    1  "
      ]
     },
     "execution_count": 3,
     "metadata": {},
     "output_type": "execute_result"
    }
   ],
   "source": [
    "fps = erbb.fixpoints()\n",
    "import pandas as pd # for pretty display of fixpoints\n",
    "pd.DataFrame(fps)"
   ]
  },
  {
   "cell_type": "markdown",
   "metadata": {},
   "source": [
    "Returned fixpoints can be set as initial state of the network as follows:"
   ]
  },
  {
   "cell_type": "code",
   "execution_count": 4,
   "metadata": {
    "collapsed": false
   },
   "outputs": [
    {
     "data": {
      "text/plain": [
       "{'AKT1': 1,\n",
       " 'CDK2': 1,\n",
       " 'CDK4': 1,\n",
       " 'CDK6': 1,\n",
       " 'CycD1': 1,\n",
       " 'CycE1': 1,\n",
       " 'ERalpha': 1,\n",
       " 'IGF1R': 1,\n",
       " 'MEK1': 1,\n",
       " 'MYC': 1,\n",
       " 'pRB': 1}"
      ]
     },
     "execution_count": 4,
     "metadata": {},
     "output_type": "execute_result"
    }
   ],
   "source": [
    "erbb_fp = erbb.having(fps[1]) # copy the model with the second fixpoint of the list as initial state\n",
    "erbb_fp.initial_state.nonzeros()"
   ]
  },
  {
   "cell_type": "markdown",
   "metadata": {
    "deletable": true,
    "editable": true
   },
   "source": [
    "### Reachable state graph\n",
    "\n",
    "Pint also implements explicit reachable state graph analysis from the model initial state. Note that such a kind of approach is limited in scalability. On classical desktop computers, the state graph analysis can handle mostly up to a few (reachable) million states."
   ]
  },
  {
   "cell_type": "raw",
   "metadata": {
    "raw_mimetype": "text/restructuredtext"
   },
   "source": [
    "The method :py:meth:`.count_reachable_states` returns the number of states that can be reached from the initial state. The implementation only relies on sets of reachable states and do not store transitions, which increases the tractability."
   ]
  },
  {
   "cell_type": "code",
   "execution_count": 5,
   "metadata": {
    "collapsed": false
   },
   "outputs": [
    {
     "data": {
      "text/plain": [
       "{'EGF': 1}"
      ]
     },
     "execution_count": 5,
     "metadata": {},
     "output_type": "execute_result"
    }
   ],
   "source": [
    "erbb.initial_state.nonzeros()"
   ]
  },
  {
   "cell_type": "code",
   "execution_count": 6,
   "metadata": {
    "collapsed": false
   },
   "outputs": [
    {
     "data": {
      "text/plain": [
       "2963"
      ]
     },
     "execution_count": 6,
     "metadata": {},
     "output_type": "execute_result"
    }
   ],
   "source": [
    "erbb.count_reachable_states()"
   ]
  },
  {
   "cell_type": "raw",
   "metadata": {
    "raw_mimetype": "text/restructuredtext"
   },
   "source": [
    "The method :py:meth:`.reachable_attractors` returns the complete list of attractors reachable from the initial state. An attractor is described by a type (fixpoint or cyclic), a size, and an instance of state belonging to the attractor."
   ]
  },
  {
   "cell_type": "code",
   "execution_count": 7,
   "metadata": {
    "collapsed": false
   },
   "outputs": [
    {
     "data": {
      "text/plain": [
       "[{'sample': {'AKT1': 1,\n",
       "   'CDK2': 1,\n",
       "   'CDK4': 1,\n",
       "   'CDK6': 1,\n",
       "   'CycD1': 1,\n",
       "   'CycE1': 1,\n",
       "   'EGF': 1,\n",
       "   'ERBB1': 1,\n",
       "   'ERBB1_2': 1,\n",
       "   'ERBB1_3': 1,\n",
       "   'ERBB2': 1,\n",
       "   'ERBB2_3': 1,\n",
       "   'ERBB3': 1,\n",
       "   'ERalpha': 1,\n",
       "   'IGF1R': 0,\n",
       "   'MEK1': 1,\n",
       "   'MYC': 1,\n",
       "   'p21': 0,\n",
       "   'p27': 0,\n",
       "   'pRB': 1},\n",
       "  'size': 1,\n",
       "  'type': 'fixpoint'}]"
      ]
     },
     "execution_count": 7,
     "metadata": {},
     "output_type": "execute_result"
    }
   ],
   "source": [
    "erbb.reachable_attractors()"
   ]
  },
  {
   "cell_type": "code",
   "execution_count": 8,
   "metadata": {
    "collapsed": false
   },
   "outputs": [
    {
     "data": {
      "text/markdown": [
       "Source file is in Automata Network (an) format"
      ],
      "text/plain": [
       "<IPython.core.display.Markdown object>"
      ]
     },
     "metadata": {},
     "output_type": "display_data"
    },
    {
     "data": {
      "text/plain": [
       "[{'sample': {'CI': 2, 'CII': 0, 'Cro': 0, 'N': 0},\n",
       "  'size': 1,\n",
       "  'type': 'fixpoint'},\n",
       " {'sample': {'CI': 0, 'CII': 0, 'Cro': 2, 'N': 0},\n",
       "  'size': 2,\n",
       "  'type': 'cyclic'}]"
      ]
     },
     "execution_count": 8,
     "metadata": {},
     "output_type": "execute_result"
    }
   ],
   "source": [
    "phage = pypint.load(\"models/phageLambda.an\")\n",
    "attractors = phage.reachable_attractors()\n",
    "attractors"
   ]
  },
  {
   "cell_type": "raw",
   "metadata": {
    "raw_mimetype": "text/restructuredtext"
   },
   "source": [
    "Finally, the method :py:meth:`.reachable_stategraph` returns a `NetworkX digraph <http://networkx.readthedocs.io/en/stable/reference/classes.digraph.html>`_ of the reachable state transition graph. Note that the performance can be tempered by the data exchange between the Pint binary and the python module.\n",
    "\n",
    "If the graph is of small size, it can be displayed using GraphViz. The initial state has a gray background."
   ]
  },
  {
   "cell_type": "code",
   "execution_count": 9,
   "metadata": {
    "collapsed": false
   },
   "outputs": [
    {
     "data": {
      "text/markdown": [
       "Source file is in Automata Network (an) format"
      ],
      "text/plain": [
       "<IPython.core.display.Markdown object>"
      ]
     },
     "metadata": {},
     "output_type": "display_data"
    },
    {
     "data": {
      "image/svg+xml": [
       "<?xml version=\"1.0\" encoding=\"UTF-8\" standalone=\"no\"?>\n",
       "<!DOCTYPE svg PUBLIC \"-//W3C//DTD SVG 1.1//EN\"\n",
       " \"http://www.w3.org/Graphics/SVG/1.1/DTD/svg11.dtd\">\n",
       "<!-- Generated by graphviz version 2.38.0 (20140413.2041)\n",
       " -->\n",
       "<!-- Title: SG Pages: 1 -->\n",
       "<svg width=\"380pt\" height=\"332pt\"\n",
       " viewBox=\"0.00 0.00 379.79 332.00\" xmlns=\"http://www.w3.org/2000/svg\" xmlns:xlink=\"http://www.w3.org/1999/xlink\">\n",
       "<g id=\"graph0\" class=\"graph\" transform=\"scale(1 1) rotate(0) translate(4 328)\">\n",
       "<title>SG</title>\n",
       "<polygon fill=\"white\" stroke=\"none\" points=\"-4,4 -4,-328 375.79,-328 375.79,4 -4,4\"/>\n",
       "<!-- 3 -->\n",
       "<g id=\"node1\" class=\"node\"><title>3</title>\n",
       "<ellipse fill=\"none\" stroke=\"black\" cx=\"204.895\" cy=\"-306\" rx=\"55.7903\" ry=\"18\"/>\n",
       "<text text-anchor=\"middle\" x=\"204.895\" y=\"-302.3\" font-family=\"Times,serif\" font-size=\"14.00\">a=1,c=0,f=1</text>\n",
       "</g>\n",
       "<!-- 1 -->\n",
       "<g id=\"node2\" class=\"node\"><title>1</title>\n",
       "<ellipse fill=\"none\" stroke=\"black\" cx=\"55.895\" cy=\"-90\" rx=\"55.7903\" ry=\"18\"/>\n",
       "<text text-anchor=\"middle\" x=\"55.895\" y=\"-86.3\" font-family=\"Times,serif\" font-size=\"14.00\">a=1,c=0,f=0</text>\n",
       "</g>\n",
       "<!-- 3&#45;&gt;1 -->\n",
       "<g id=\"edge2\" class=\"edge\"><title>3&#45;&gt;1</title>\n",
       "<path fill=\"none\" stroke=\"black\" d=\"M181.055,-289.674C150.831,-268.827 99.6816,-228.515 74.895,-180 65.0403,-160.711 60.2916,-136.558 58.0062,-118.282\"/>\n",
       "<polygon fill=\"black\" stroke=\"black\" points=\"61.4797,-117.847 56.9253,-108.281 54.5203,-118.6 61.4797,-117.847\"/>\n",
       "</g>\n",
       "<!-- 7 -->\n",
       "<g id=\"node7\" class=\"node\"><title>7</title>\n",
       "<ellipse fill=\"none\" stroke=\"black\" cx=\"204.895\" cy=\"-234\" rx=\"55.7903\" ry=\"18\"/>\n",
       "<text text-anchor=\"middle\" x=\"204.895\" y=\"-230.3\" font-family=\"Times,serif\" font-size=\"14.00\">a=1,c=1,f=1</text>\n",
       "</g>\n",
       "<!-- 3&#45;&gt;7 -->\n",
       "<g id=\"edge1\" class=\"edge\"><title>3&#45;&gt;7</title>\n",
       "<path fill=\"none\" stroke=\"black\" d=\"M199.017,-288.055C198.199,-280.346 197.956,-271.027 198.29,-262.364\"/>\n",
       "<polygon fill=\"black\" stroke=\"black\" points=\"201.789,-262.491 198.982,-252.275 194.806,-262.012 201.789,-262.491\"/>\n",
       "</g>\n",
       "<!-- 2 -->\n",
       "<g id=\"node3\" class=\"node\"><title>2</title>\n",
       "<ellipse fill=\"lightgrey\" stroke=\"black\" cx=\"315.895\" cy=\"-90\" rx=\"55.7903\" ry=\"18\"/>\n",
       "<text text-anchor=\"middle\" x=\"315.895\" y=\"-86.3\" font-family=\"Times,serif\" font-size=\"14.00\">a=0,c=0,f=1</text>\n",
       "</g>\n",
       "<!-- 2&#45;&gt;3 -->\n",
       "<g id=\"edge4\" class=\"edge\"><title>2&#45;&gt;3</title>\n",
       "<path fill=\"none\" stroke=\"black\" d=\"M325.097,-107.851C333.783,-126.092 344.197,-155.816 334.895,-180 317.121,-226.212 271.703,-263.028 239.574,-284.423\"/>\n",
       "<polygon fill=\"black\" stroke=\"black\" points=\"237.387,-281.669 230.898,-290.044 241.194,-287.544 237.387,-281.669\"/>\n",
       "</g>\n",
       "<!-- 0 -->\n",
       "<g id=\"node4\" class=\"node\"><title>0</title>\n",
       "<ellipse fill=\"none\" stroke=\"black\" cx=\"250.895\" cy=\"-18\" rx=\"55.7903\" ry=\"18\"/>\n",
       "<text text-anchor=\"middle\" x=\"250.895\" y=\"-14.3\" font-family=\"Times,serif\" font-size=\"14.00\">a=0,c=0,f=0</text>\n",
       "</g>\n",
       "<!-- 2&#45;&gt;0 -->\n",
       "<g id=\"edge3\" class=\"edge\"><title>2&#45;&gt;0</title>\n",
       "<path fill=\"none\" stroke=\"black\" d=\"M300.491,-72.411C292.315,-63.6062 282.121,-52.6282 273.105,-42.9189\"/>\n",
       "<polygon fill=\"black\" stroke=\"black\" points=\"275.558,-40.4163 266.189,-35.4699 270.428,-45.1795 275.558,-40.4163\"/>\n",
       "</g>\n",
       "<!-- 6 -->\n",
       "<g id=\"node8\" class=\"node\"><title>6</title>\n",
       "<ellipse fill=\"none\" stroke=\"black\" cx=\"269.895\" cy=\"-162\" rx=\"55.7903\" ry=\"18\"/>\n",
       "<text text-anchor=\"middle\" x=\"269.895\" y=\"-158.3\" font-family=\"Times,serif\" font-size=\"14.00\">a=0,c=1,f=1</text>\n",
       "</g>\n",
       "<!-- 2&#45;&gt;6 -->\n",
       "<g id=\"edge5\" class=\"edge\"><title>2&#45;&gt;6</title>\n",
       "<path fill=\"none\" stroke=\"black\" d=\"M310.539,-108.124C305.815,-116.674 299.108,-127.171 292.431,-136.551\"/>\n",
       "<polygon fill=\"black\" stroke=\"black\" points=\"289.49,-134.641 286.365,-144.765 295.121,-138.8 289.49,-134.641\"/>\n",
       "</g>\n",
       "<!-- 5 -->\n",
       "<g id=\"node5\" class=\"node\"><title>5</title>\n",
       "<ellipse fill=\"none\" stroke=\"black\" cx=\"139.895\" cy=\"-162\" rx=\"55.7903\" ry=\"18\"/>\n",
       "<text text-anchor=\"middle\" x=\"139.895\" y=\"-158.3\" font-family=\"Times,serif\" font-size=\"14.00\">a=1,c=1,f=0</text>\n",
       "</g>\n",
       "<!-- 5&#45;&gt;1 -->\n",
       "<g id=\"edge7\" class=\"edge\"><title>5&#45;&gt;1</title>\n",
       "<path fill=\"none\" stroke=\"black\" d=\"M120.413,-144.765C109.281,-135.488 95.1523,-123.714 82.9564,-113.551\"/>\n",
       "<polygon fill=\"black\" stroke=\"black\" points=\"85.1947,-110.86 75.2718,-107.147 80.7134,-116.238 85.1947,-110.86\"/>\n",
       "</g>\n",
       "<!-- 4 -->\n",
       "<g id=\"node6\" class=\"node\"><title>4</title>\n",
       "<ellipse fill=\"none\" stroke=\"black\" cx=\"185.895\" cy=\"-90\" rx=\"55.7903\" ry=\"18\"/>\n",
       "<text text-anchor=\"middle\" x=\"185.895\" y=\"-86.3\" font-family=\"Times,serif\" font-size=\"14.00\">a=0,c=1,f=0</text>\n",
       "</g>\n",
       "<!-- 5&#45;&gt;4 -->\n",
       "<g id=\"edge6\" class=\"edge\"><title>5&#45;&gt;4</title>\n",
       "<path fill=\"none\" stroke=\"black\" d=\"M151.03,-144.055C156.511,-135.715 163.23,-125.491 169.301,-116.252\"/>\n",
       "<polygon fill=\"black\" stroke=\"black\" points=\"172.295,-118.068 174.862,-107.789 166.445,-114.224 172.295,-118.068\"/>\n",
       "</g>\n",
       "<!-- 4&#45;&gt;0 -->\n",
       "<g id=\"edge8\" class=\"edge\"><title>4&#45;&gt;0</title>\n",
       "<path fill=\"none\" stroke=\"black\" d=\"M201.299,-72.411C209.475,-63.6062 219.669,-52.6282 228.685,-42.9189\"/>\n",
       "<polygon fill=\"black\" stroke=\"black\" points=\"231.362,-45.1795 235.602,-35.4699 226.232,-40.4163 231.362,-45.1795\"/>\n",
       "</g>\n",
       "<!-- 7&#45;&gt;3 -->\n",
       "<g id=\"edge10\" class=\"edge\"><title>7&#45;&gt;3</title>\n",
       "<path fill=\"none\" stroke=\"black\" d=\"M210.808,-252.275C211.61,-260.03 211.835,-269.362 211.486,-278.005\"/>\n",
       "<polygon fill=\"black\" stroke=\"black\" points=\"207.989,-277.832 210.773,-288.055 214.972,-278.327 207.989,-277.832\"/>\n",
       "</g>\n",
       "<!-- 7&#45;&gt;5 -->\n",
       "<g id=\"edge9\" class=\"edge\"><title>7&#45;&gt;5</title>\n",
       "<path fill=\"none\" stroke=\"black\" d=\"M189.491,-216.411C181.315,-207.606 171.121,-196.628 162.105,-186.919\"/>\n",
       "<polygon fill=\"black\" stroke=\"black\" points=\"164.558,-184.416 155.189,-179.47 159.428,-189.179 164.558,-184.416\"/>\n",
       "</g>\n",
       "<!-- 7&#45;&gt;6 -->\n",
       "<g id=\"edge11\" class=\"edge\"><title>7&#45;&gt;6</title>\n",
       "<path fill=\"none\" stroke=\"black\" d=\"M220.299,-216.411C228.475,-207.606 238.669,-196.628 247.685,-186.919\"/>\n",
       "<polygon fill=\"black\" stroke=\"black\" points=\"250.362,-189.179 254.602,-179.47 245.232,-184.416 250.362,-189.179\"/>\n",
       "</g>\n",
       "<!-- 6&#45;&gt;2 -->\n",
       "<g id=\"edge12\" class=\"edge\"><title>6&#45;&gt;2</title>\n",
       "<path fill=\"none\" stroke=\"black\" d=\"M275.152,-144.055C279.864,-135.505 286.584,-124.975 293.283,-115.556\"/>\n",
       "<polygon fill=\"black\" stroke=\"black\" points=\"296.249,-117.432 299.37,-107.307 290.616,-113.275 296.249,-117.432\"/>\n",
       "</g>\n",
       "<!-- 6&#45;&gt;4 -->\n",
       "<g id=\"edge13\" class=\"edge\"><title>6&#45;&gt;4</title>\n",
       "<path fill=\"none\" stroke=\"black\" d=\"M250.413,-144.765C239.281,-135.488 225.152,-123.714 212.956,-113.551\"/>\n",
       "<polygon fill=\"black\" stroke=\"black\" points=\"215.195,-110.86 205.272,-107.147 210.713,-116.238 215.195,-110.86\"/>\n",
       "</g>\n",
       "</g>\n",
       "</svg>\n"
      ],
      "text/plain": [
       "<networkx.classes.digraph.DiGraph at 0x7f13a7b70080>"
      ]
     },
     "execution_count": 9,
     "metadata": {},
     "output_type": "execute_result"
    }
   ],
   "source": [
    "metazoan = pypint.load(\"models/metazoan.an\")\n",
    "metazoan.reachable_stategraph()"
   ]
  },
  {
   "cell_type": "code",
   "execution_count": 10,
   "metadata": {
    "collapsed": false
   },
   "outputs": [
    {
     "data": {
      "image/svg+xml": [
       "<?xml version=\"1.0\" encoding=\"UTF-8\" standalone=\"no\"?>\n",
       "<!DOCTYPE svg PUBLIC \"-//W3C//DTD SVG 1.1//EN\"\n",
       " \"http://www.w3.org/Graphics/SVG/1.1/DTD/svg11.dtd\">\n",
       "<!-- Generated by graphviz version 2.38.0 (20140413.2041)\n",
       " -->\n",
       "<!-- Title: SG Pages: 1 -->\n",
       "<svg width=\"202pt\" height=\"116pt\"\n",
       " viewBox=\"0.00 0.00 201.68 116.00\" xmlns=\"http://www.w3.org/2000/svg\" xmlns:xlink=\"http://www.w3.org/1999/xlink\">\n",
       "<g id=\"graph0\" class=\"graph\" transform=\"scale(1 1) rotate(0) translate(4 112)\">\n",
       "<title>SG</title>\n",
       "<polygon fill=\"white\" stroke=\"none\" points=\"-4,4 -4,-112 197.683,-112 197.683,4 -4,4\"/>\n",
       "<!-- 48 -->\n",
       "<g id=\"node1\" class=\"node\"><title>48</title>\n",
       "<ellipse fill=\"none\" stroke=\"black\" cx=\"96.8414\" cy=\"-90\" rx=\"96.6831\" ry=\"18\"/>\n",
       "<text text-anchor=\"middle\" x=\"96.8414\" y=\"-86.3\" font-family=\"Times,serif\" font-size=\"14.00\">CI=0,CII=0,Cro=3,N=0</text>\n",
       "</g>\n",
       "<!-- 32 -->\n",
       "<g id=\"node2\" class=\"node\"><title>32</title>\n",
       "<ellipse fill=\"lightgrey\" stroke=\"black\" cx=\"96.8414\" cy=\"-18\" rx=\"96.6831\" ry=\"18\"/>\n",
       "<text text-anchor=\"middle\" x=\"96.8414\" y=\"-14.3\" font-family=\"Times,serif\" font-size=\"14.00\">CI=0,CII=0,Cro=2,N=0</text>\n",
       "</g>\n",
       "<!-- 48&#45;&gt;32 -->\n",
       "<g id=\"edge1\" class=\"edge\"><title>48&#45;&gt;32</title>\n",
       "<path fill=\"none\" stroke=\"black\" d=\"M90.9257,-71.6966C90.13,-63.9827 89.9035,-54.7125 90.2461,-46.1124\"/>\n",
       "<polygon fill=\"black\" stroke=\"black\" points=\"93.7398,-46.3243 90.9464,-36.1043 86.7568,-45.8356 93.7398,-46.3243\"/>\n",
       "</g>\n",
       "<!-- 32&#45;&gt;48 -->\n",
       "<g id=\"edge2\" class=\"edge\"><title>32&#45;&gt;48</title>\n",
       "<path fill=\"none\" stroke=\"black\" d=\"M102.736,-36.1043C103.542,-43.7913 103.778,-53.0537 103.445,-61.6651\"/>\n",
       "<polygon fill=\"black\" stroke=\"black\" points=\"99.95,-61.4805 102.757,-71.6966 106.934,-61.9597 99.95,-61.4805\"/>\n",
       "</g>\n",
       "</g>\n",
       "</svg>\n"
      ],
      "text/plain": [
       "<networkx.classes.digraph.DiGraph at 0x7f13d00b1160>"
      ]
     },
     "execution_count": 10,
     "metadata": {},
     "output_type": "execute_result"
    }
   ],
   "source": [
    "phage.having(attractors[1][\"sample\"]).reachable_stategraph() # display the cyclic attractor of the Lambda phage model"
   ]
  },
  {
   "cell_type": "markdown",
   "metadata": {
    "deletable": true,
    "editable": true
   },
   "source": [
    "### Related functions and classes"
   ]
  },
  {
   "cell_type": "raw",
   "metadata": {
    "collapsed": true,
    "deletable": true,
    "editable": true,
    "raw_mimetype": "text/restructuredtext"
   },
   "source": [
    ".. automethod:: pypint.model.Model.fixpoints\n",
    "    :noindex:\n",
    "    \n",
    ".. automethod:: pypint.model.Model.count_reachable_states\n",
    "    :noindex:\n",
    "    \n",
    ".. automethod:: pypint.model.Model.reachable_stategraph\n",
    "    :noindex:\n",
    "    \n",
    ".. automethod:: pypint.model.Model.reachable_attractors\n",
    "    :noindex:\n",
    "\n",
    ".. seealso:: \n",
    "    :py:class:`.Model`\n",
    "        Complete API"
   ]
  }
 ],
 "metadata": {
  "celltoolbar": "Raw Cell Format",
  "kernelspec": {
   "display_name": "Python 3",
   "language": "python",
   "name": "python3"
  },
  "language_info": {
   "codemirror_mode": {
    "name": "ipython",
    "version": 3
   },
   "file_extension": ".py",
   "mimetype": "text/x-python",
   "name": "python",
   "nbconvert_exporter": "python",
   "pygments_lexer": "ipython3",
   "version": "3.5.3"
  }
 },
 "nbformat": 4,
 "nbformat_minor": 1
}
