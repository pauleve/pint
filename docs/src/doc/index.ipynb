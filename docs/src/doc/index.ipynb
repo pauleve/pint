{
 "cells": [
  {
   "cell_type": "raw",
   "metadata": {
    "raw_mimetype": "text/restructuredtext"
   },
   "source": [
    ":part: doc\n",
    ":title: Documentation"
   ]
  },
  {
   "cell_type": "markdown",
   "metadata": {
    "deletable": true,
    "editable": true
   },
   "source": [
    "# Installation\n",
    "\n",
    "# Automata networks\n",
    "\n",
    "TODO: syntax of ``.an``\n",
    "\n",
    "# Python/notebook interface\n",
    "\n",
    "\n",
    "## Tutorial\n",
    "\n",
    "The code examples in this documentation assume that the `pint` module has been loaded as follows:"
   ]
  },
  {
   "cell_type": "code",
   "execution_count": 1,
   "metadata": {
    "collapsed": false,
    "deletable": true,
    "editable": true
   },
   "outputs": [
    {
     "data": {
      "text/markdown": [
       "You are using Pint version 2016-12-15\n",
       "/1.0"
      ],
      "text/plain": [
       "<IPython.core.display.Markdown object>"
      ]
     },
     "metadata": {},
     "output_type": "display_data"
    }
   ],
   "source": [
    "import pint"
   ]
  },
  {
   "cell_type": "raw",
   "metadata": {
    "deletable": true,
    "editable": true,
    "raw_mimetype": "text/restructuredtext"
   },
   "source": [
    ".. toctree::\n",
    "   :maxdepth: 2\n",
    "\n",
    "   model.ipynb\n",
    "   transient-analysis.ipynb\n",
    "   stategraph.ipynb"
   ]
  },
  {
   "cell_type": "markdown",
   "metadata": {
    "deletable": true,
    "editable": true
   },
   "source": [
    "## Detailed API"
   ]
  },
  {
   "cell_type": "raw",
   "metadata": {
    "deletable": true,
    "editable": true,
    "raw_mimetype": "text/restructuredtext"
   },
   "source": [
    ".. toctree::\n",
    "\n",
    "   api\n",
    "\n",
    "* :ref:`genindex`\n",
    "* :ref:`search`"
   ]
  },
  {
   "cell_type": "markdown",
   "metadata": {},
   "source": [
    "# Command line usage\n",
    "\n",
    "Instead of the python API, one can invoke directly the Pint command line tools:\n",
    "\n",
    "* Model transformation and exportation\n",
    "    * `pint-export`\n",
    "* Analysis tools\n",
    "    * ``pint-reach`` -- Static analysis of reachability\n",
    "    * ``pint-stable`` -- Stable states listing\n",
    "    * ``pint-sg``  -- State graph analysis\n",
    "    * ``pint-lcg``  -- Local Causality Graph computation\n",
    "* Interface with model-checkers\n",
    "    * ``pint-its`` -- Model-checking with ITS\n",
    "    * ``pint-mole`` -- Model-checking with mole\n",
    "    * ``pint-nusmv`` -- Model-checking with NuSMV\n",
    "* Miscellaneous commands\n",
    "    * `pint-confg` -- Pint installation informations\n",
    "    * `pint_install_deps` -- Script to install third-party dependencies\n",
    "    * `pint` -- Pint+OCaml interactive toplevel\n",
    "    * `pintc` -- Pint+OCaml native-code compiler\n",
    "\n",
    "Note that all these command take as input a model in the Pint native format (``.an``).\n",
    "You may need to use python API to convert model from other formats."
   ]
  },
  {
   "cell_type": "raw",
   "metadata": {
    "raw_mimetype": "text/restructuredtext"
   },
   "source": [
    "All these commands come with a ``--help`` option which display the full usage of it.\n",
    "Another source of documentation is the debug mode of pint python module (:py:func:`pint.ui.enable_dbg`) which displays the executed command lines."
   ]
  },
  {
   "cell_type": "markdown",
   "metadata": {},
   "source": [
    "# OCaml API\n",
    "\n",
    "All functions implemented in Pint are available through an OCaml library that can be embedded in other OCaml programs. The library is compiled by executing ``make libpint`` in the source directory and is named\n",
    "``pint.cmxa``.\n",
    "\n",
    "``pintc file.ml`` can be used as a shortcut to compile OCaml code against the pint library.\n",
    "\n",
    "``pint`` is an OCaml interactive toplevel embedding the Pint modules.\n",
    "\n",
    "See http://loicpauleve.name/pint/doc/ocaml-api/ for API of Pint OCaml module."
   ]
  }
 ],
 "metadata": {
  "celltoolbar": "Raw Cell Format",
  "kernelspec": {
   "display_name": "Python 3",
   "language": "python",
   "name": "python3"
  },
  "language_info": {
   "codemirror_mode": {
    "name": "ipython",
    "version": 3
   },
   "file_extension": ".py",
   "mimetype": "text/x-python",
   "name": "python",
   "nbconvert_exporter": "python",
   "pygments_lexer": "ipython3",
   "version": "3.5.3"
  }
 },
 "nbformat": 4,
 "nbformat_minor": 2
}
