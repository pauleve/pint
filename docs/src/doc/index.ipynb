{
 "cells": [
  {
   "cell_type": "raw",
   "metadata": {
    "deletable": true,
    "editable": true,
    "raw_mimetype": "text/restructuredtext"
   },
   "source": [
    ":part: doc\n",
    ":title: Documentation\n",
    "\n",
    ".. contents:: Content\n",
    "    :local:\n",
    "\n",
    ".. toctree::\n",
    "    :hidden:\n",
    "    \n",
    "    install"
   ]
  },
  {
   "cell_type": "markdown",
   "metadata": {
    "deletable": true,
    "editable": true
   },
   "source": [
    "# Installation"
   ]
  },
  {
   "cell_type": "raw",
   "metadata": {
    "deletable": true,
    "editable": true,
    "raw_mimetype": "text/restructuredtext"
   },
   "source": [
    "Pint is distributed as binaries for Ubuntu/Debian and Mac OS X.\n",
    "A docker image which contains all dependencies and the Jupyter notebook is also available.\n",
    "See brief instructions below or the :doc:`complete installation instructions <install>`.\n",
    "\n",
    "Binaries\n",
    "--------\n",
    "\n",
    "- Ubuntu/Debian: :distdeb:`.deb`\n",
    "- Mac OS X: :distdmg:`.dmg`, then read the README file to complete the installation."
   ]
  },
  {
   "cell_type": "markdown",
   "metadata": {
    "deletable": true,
    "editable": true
   },
   "source": [
    "## Docker\n",
    "\n",
    "A [Docker](http://docker.com/) image which includes all Pint features is\n",
    "provided: [pauleve/pint](https://hub.docker.com/r/pauleve/pint/).\n",
    "\n",
    "Docker is the easiest way to use Pint with the Jupyter notebook interface on any operating system.\n",
    "\n",
    "Installation/upgrade using the command line:\n",
    "```\n",
    "docker pull pauleve/pint\n",
    "```\n",
    "The image can be mounted as follows, binding your current directory to the default image working directory:\n",
    "```\n",
    "docker run -it --rm -p 8888:8888 -v \"$PWD\":/notebook pauleve/pint\n",
    "```\n",
    "You can then go http://localhost:8888 to access to the Jupyter notebook.\n",
    "\n",
    "Please refer to Docker documentation for other usage.\n",
    "You can also use the python script [docker-pint.py](https://raw.githubusercontent.com/pauleve/pint/master/bin/docker-pint.py) to ease docker invocation\n",
    "(see `python docker-pint.py --help` for the different options).\n",
    "\n",
    "\n",
    "\n",
    "# Automata networks\n",
    "\n",
    "Pint takes as input automata networks.\n",
    "Automata networks are transition-centered models, close to 1-bounded Petri nets.\n",
    "They gather a finite number of finite-state machines, where their internal transitions can be conditioned by the state of other automata in the network.\n",
    "\n",
    "Pint use a simple text format to specify automata networks and their initial state. The text files have the extension `.an`."
   ]
  },
  {
   "cell_type": "raw",
   "metadata": {
    "deletable": true,
    "editable": true,
    "raw_mimetype": "text/restructuredtext"
   },
   "source": [
    "Models expressed as Boolean and multi-valued networks can be automatically converted using the python interface.\n",
    "See :py:func:`pint.model.load` and :doc:`model` tutorial."
   ]
  },
  {
   "cell_type": "markdown",
   "metadata": {},
   "source": [
    "The structure of a `.an` file is the following.\n",
    "You can refer to the [model repository](https://github.com/pauleve/pint/tree/master/examples) for some examples.\n",
    "\n",
    "**Automata declaration**\n",
    "\n",
    "An automaton is defined by a name and a list of local states.\n",
    "If the name of the automaton contain special characters, it should be enclosed with `\"`.\n",
    "The local states can either be integers, or strings (enclosed in `\"`).\n",
    "\n",
    "Examples:\n",
    "```\n",
    "a [0, 1]\n",
    "b [0, 1, 2]\n",
    "\"Fyn-1\" [\"inactive\", \"active\"]\n",
    "```\n",
    "\n",
    "**Transitions**\n",
    "\n",
    "A transition specifies a local state change within one automaton, and can be conditionned by the state of other automata.\n",
    "\n",
    "Examples:\n",
    "```\n",
    "a 0 -> 1 when \"Fyn-1\"=\"active\" and b=2\n",
    "a 1 -> 0  (* no external condition *)\n",
    "\"Fyn-1\" \"inactive\" -> \"active\" when a=0\n",
    "\"Fyn-1\" 0 -> 1 when a=0 (* equivalent to previous declaration *)\n",
    "```\n",
    "\n",
    "Transitions can also be coupled, i.e., their application is done simultaneously:\n",
    "```\n",
    "{ b 0 -> 1 ; \"Fyn-1\" \"active\" -> \"inactive\" } when a = 1\n",
    "```\n",
    "The above synchronized transition can be perfomed only when `a=1`, `b=0`, and `Fyn-1=active`.\n",
    "\n",
    "\n",
    "**Initial state**\n",
    "\n",
    "By default, each automaton start at the local state `0`. The initial state of the automata network can be overrided with the following\n",
    "directive:\n",
    "```\n",
    "initial_state a=1,b=2\n",
    "```"
   ]
  },
  {
   "cell_type": "markdown",
   "metadata": {
    "deletable": true,
    "editable": true
   },
   "source": [
    "# Python/notebook interface\n",
    "\n",
    "The `pint` module requires Python >= 3. It can be installed with the `pip` command line as follows:\n",
    "\n",
    "```\n",
    "pip3 install pint\n",
    "```\n",
    "and upgraded with\n",
    "```\n",
    "pip3 install -U pint\n",
    "```\n",
    "\n",
    "## Tutorial\n",
    "\n",
    "The code examples in this documentation assume that the `pint` module has been loaded as follows:"
   ]
  },
  {
   "cell_type": "code",
   "execution_count": 1,
   "metadata": {
    "collapsed": false,
    "deletable": true,
    "editable": true
   },
   "outputs": [
    {
     "data": {
      "text/markdown": [
       "You are using Pint version 2016-12-15\n",
       "/1.0"
      ],
      "text/plain": [
       "<IPython.core.display.Markdown object>"
      ]
     },
     "metadata": {},
     "output_type": "display_data"
    }
   ],
   "source": [
    "import pint"
   ]
  },
  {
   "cell_type": "raw",
   "metadata": {
    "deletable": true,
    "editable": true,
    "raw_mimetype": "text/restructuredtext"
   },
   "source": [
    ".. toctree::\n",
    "   :maxdepth: 2\n",
    "\n",
    "   model.ipynb\n",
    "   transient-analysis.ipynb\n",
    "   stategraph.ipynb"
   ]
  },
  {
   "cell_type": "markdown",
   "metadata": {
    "deletable": true,
    "editable": true
   },
   "source": [
    "## Detailed API"
   ]
  },
  {
   "cell_type": "raw",
   "metadata": {
    "deletable": true,
    "editable": true,
    "raw_mimetype": "text/restructuredtext"
   },
   "source": [
    ".. toctree::\n",
    "\n",
    "   api\n",
    "\n",
    "* :ref:`genindex`\n",
    "* :ref:`search`"
   ]
  },
  {
   "cell_type": "markdown",
   "metadata": {
    "deletable": true,
    "editable": true
   },
   "source": [
    "# Command line usage\n",
    "\n",
    "Instead of the python API, one can invoke directly the Pint command line tools:\n",
    "\n",
    "* Model transformation and exportation\n",
    "    * `pint-export`\n",
    "* Analysis tools\n",
    "    * ``pint-reach`` -- Static analysis of reachability\n",
    "    * ``pint-stable`` -- Stable states listing\n",
    "    * ``pint-sg``  -- State graph analysis\n",
    "    * ``pint-lcg``  -- Local Causality Graph computation\n",
    "* Interface with model-checkers\n",
    "    * ``pint-its`` -- Model-checking with ITS\n",
    "    * ``pint-mole`` -- Model-checking with mole\n",
    "    * ``pint-nusmv`` -- Model-checking with NuSMV\n",
    "* Miscellaneous commands\n",
    "    * `pint-confg` -- Pint installation informations\n",
    "    * `pint_install_deps` -- Script to install third-party dependencies\n",
    "    * `pint` -- Pint+OCaml interactive toplevel\n",
    "    * `pintc` -- Pint+OCaml native-code compiler\n",
    "\n",
    "Note that all these command take as input a model in the Pint native format (``.an``).\n",
    "You may need to use python API to convert model from other formats."
   ]
  },
  {
   "cell_type": "raw",
   "metadata": {
    "deletable": true,
    "editable": true,
    "raw_mimetype": "text/restructuredtext"
   },
   "source": [
    "All these commands come with a ``--help`` option which display the full usage of it.\n",
    "Another source of documentation is the debug mode of pint python module (:py:func:`pint.ui.enable_dbg`) which displays the executed command lines."
   ]
  },
  {
   "cell_type": "markdown",
   "metadata": {
    "deletable": true,
    "editable": true
   },
   "source": [
    "# OCaml API\n",
    "\n",
    "All functions implemented in Pint are available through an OCaml library that can be embedded in other OCaml programs. The library is compiled by executing ``make libpint`` in the source directory and is named\n",
    "``pint.cmxa``.\n",
    "\n",
    "``pintc file.ml`` can be used as a shortcut to compile OCaml code against the pint library.\n",
    "\n",
    "``pint`` is an OCaml interactive toplevel embedding the Pint modules.\n",
    "\n",
    "See [Pint OCaml module API](ocaml-api/)."
   ]
  }
 ],
 "metadata": {
  "celltoolbar": "Raw Cell Format",
  "kernelspec": {
   "display_name": "Python 3",
   "language": "python",
   "name": "python3"
  },
  "language_info": {
   "codemirror_mode": {
    "name": "ipython",
    "version": 3
   },
   "file_extension": ".py",
   "mimetype": "text/x-python",
   "name": "python",
   "nbconvert_exporter": "python",
   "pygments_lexer": "ipython3",
   "version": "3.5.3"
  }
 },
 "nbformat": 4,
 "nbformat_minor": 2
}
