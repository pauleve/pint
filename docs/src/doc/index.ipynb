{
 "cells": [
  {
   "cell_type": "raw",
   "metadata": {
    "raw_mimetype": "text/restructuredtext"
   },
   "source": [
    ":part: doc\n",
    ":title: Documentation\n",
    "\n",
    ".. contents:: Content\n",
    "    :local:"
   ]
  },
  {
   "cell_type": "markdown",
   "metadata": {},
   "source": [
    "# Installation"
   ]
  },
  {
   "cell_type": "raw",
   "metadata": {
    "raw_mimetype": "text/restructuredtext"
   },
   "source": [
    "Pint is distributed as binaries for Ubuntu/Debian and Mac OS X.\n",
    "A docker image which contains all dependencies and the Jupyter notebook is also available.\n",
    "\n",
    "Binaries\n",
    "--------\n",
    "\n",
    "- Ubuntu/Debian: :distdeb:`.deb`.\n",
    "- Static binaries for Linux 64bits: :distlinux64:`.txz`, then read the README file to complete the installation.\n",
    "- Mac OS X: :distdmg:`.dmg`, then read the README file to complete the installation.\n"
   ]
  },
  {
   "cell_type": "markdown",
   "metadata": {},
   "source": [
    "## Conda package\n",
    "\n",
    "Pint can be installed on GNU/Linux using Conda with the [colomoto](https://anaconda.org/colomoto) channel:\n",
    "\n",
    "    conda install -c colomoto pint\n",
    "    \n",
    "\n",
    "## Docker\n",
    "\n",
    "[Docker](http://docker.com/) is the easiest way to use Pint with the Jupyter notebook interface on GNU/Linux, macOS, and Microsoft Windows.\n",
    "Pint is integrated in the [CoLoMoTo Interactive Notebook](http://colomoto.org/notebook) available as Docker image [colomoto/colomoto-docker](https://hub.docker.com/r/colomoto/colomoto-docker/).\n",
    "\n",
    "A Python helper script can be installed and upgraded by executing the following command (you may have to use `pip3` instead of `pip` depending on your configuration):\n",
    "\n",
    "    pip install -U colomoto-docker\n",
    "    \n",
    "The CoLoMoTo notebook can then be started by executing in a terminal (if using Docker Toolbox, in a Docker Terminal):\n",
    "\n",
    "    colomoto-docker\n",
    "\n",
    "The container can be stopped by pressing <kbd>Ctrl</kbd>+<kbd>C</kbd> keys.\n",
    "\n",
    "**Warning**: by default, the files within the Docker container are isolated from the running host computer, therefore *files are deleted after stopping the container*.\n",
    "To have access to the files of your current directory you should use the `--bind` option:\n",
    "\n",
    "    colomoto-docker --bind .\n",
    "      \n",
    "See\n",
    "\n",
    "    colomoto-docker --help\n",
    "\n",
    "for other options."
   ]
  },
  {
   "cell_type": "markdown",
   "metadata": {},
   "source": [
    "# Python/notebook interface\n",
    "\n",
    "The `pypint` module requires Python 3. It can be installed *and upgraded* with the `pip` command line as follows:\n",
    "\n",
    "```\n",
    "pip3 install -U pypint\n",
    "```\n",
    "\n",
    "If you are interested in the IPython notebook web interface, see [Jupyter documentation](http://jupyter.org/install.html) for installation and usage. Essentially you need to install the jupyter python module (`pip3 install jupyter`) and then run `jupyter-notebook`.\n",
    "\n",
    "## Tutorial\n",
    "\n",
    "The code examples in this documentation assume that the `pypint` module has been loaded as follows:"
   ]
  },
  {
   "cell_type": "code",
   "execution_count": 1,
   "metadata": {},
   "outputs": [
    {
     "data": {
      "text/markdown": [
       "You are using Pint version 2017-09-25 and pypint 1.3"
      ],
      "text/plain": [
       "<IPython.core.display.Markdown object>"
      ]
     },
     "metadata": {},
     "output_type": "display_data"
    },
    {
     "data": {
      "text/markdown": [
       "API is documented at https://loicpauleve.name/pint/doc/api.html"
      ],
      "text/plain": [
       "<IPython.core.display.Markdown object>"
      ]
     },
     "metadata": {},
     "output_type": "display_data"
    }
   ],
   "source": [
    "import pypint"
   ]
  },
  {
   "cell_type": "raw",
   "metadata": {
    "raw_mimetype": "text/restructuredtext"
   },
   "source": [
    ".. toctree::\n",
    "   :maxdepth: 2\n",
    "\n",
    "   automata-networks.rst\n",
    "   model.ipynb\n",
    "   transient-analysis.ipynb\n",
    "   stategraph.ipynb"
   ]
  },
  {
   "cell_type": "markdown",
   "metadata": {},
   "source": [
    "## Detailed API"
   ]
  },
  {
   "cell_type": "raw",
   "metadata": {
    "raw_mimetype": "text/restructuredtext"
   },
   "source": [
    ".. toctree::\n",
    "\n",
    "   api\n",
    "\n",
    "* :ref:`genindex`\n",
    "* :ref:`search`"
   ]
  },
  {
   "cell_type": "markdown",
   "metadata": {},
   "source": [
    "# Command line usage\n",
    "\n",
    "Instead of using the python API, one can invoke directly the Pint command line tools:\n",
    "\n",
    "* Model input / output\n",
    "    * `pint-export` -- Automata network transformations and exportation\n",
    "    * `pint-import` -- Conversion to Pint .an format (requires the *pypint* python package)\n",
    "* Analysis tools\n",
    "    * ``pint-reach`` -- Static analysis of reachability\n",
    "    * ``pint-stable`` -- Stable states listing\n",
    "    * ``pint-sg``  -- State graph analysis\n",
    "    * ``pint-lcg``  -- Local Causality Graph computation\n",
    "* Interface with model-checkers\n",
    "    * ``pint-its`` -- Model-checking with ITS\n",
    "    * ``pint-mole`` -- Model-checking with mole\n",
    "    * ``pint-nusmv`` -- Model-checking with NuSMV\n",
    "* Miscellaneous commands\n",
    "    * `pint-confg` -- Pint installation informations\n",
    "    * `pint_install_deps` -- Script to install third-party dependencies\n",
    "    * `pint` -- Pint+OCaml interactive toplevel\n",
    "    * `pintc` -- Pint+OCaml native-code compiler\n",
    "\n",
    "Note that all these command take as input a model in the Pint native format (``.an``).\n",
    "You may need to use python API to convert model from other formats."
   ]
  },
  {
   "cell_type": "raw",
   "metadata": {
    "raw_mimetype": "text/restructuredtext"
   },
   "source": [
    "All these commands come with a ``--help`` option which display the full usage of it.\n",
    "Another source of documentation is the debug mode of pint python module (:py:func:`.enable_dbg`) which displays the executed command lines."
   ]
  },
  {
   "cell_type": "markdown",
   "metadata": {},
   "source": [
    "# OCaml API\n",
    "\n",
    "All functions implemented in Pint are available through an OCaml library that can be embedded in other OCaml programs. The library is compiled by executing ``make libpint`` in the source directory and is named\n",
    "``pint.cmxa``.\n",
    "\n",
    "``pintc file.ml`` can be used as a shortcut to compile OCaml code against the pint library.\n",
    "\n",
    "``pint`` is an OCaml interactive toplevel embedding the Pint modules.\n",
    "\n",
    "See [Pint OCaml module API](ocaml-api/)."
   ]
  }
 ],
 "metadata": {
  "celltoolbar": "Raw Cell Format",
  "kernelspec": {
   "display_name": "Python 3",
   "language": "python3.6",
   "name": "python3"
  },
  "language_info": {
   "codemirror_mode": {
    "name": "ipython",
    "version": 3
   },
   "file_extension": ".py",
   "mimetype": "text/x-python",
   "name": "python",
   "nbconvert_exporter": "python",
   "pygments_lexer": "ipython3",
   "version": "3.6.4"
  }
 },
 "nbformat": 4,
 "nbformat_minor": 2
}
